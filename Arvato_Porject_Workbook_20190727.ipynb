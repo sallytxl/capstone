{
 "cells": [
  {
   "cell_type": "markdown",
   "metadata": {},
   "source": [
    "# Capstone Project: Create a Customer Segmentation Report for Arvato Financial Services\n",
    "\n",
    "In this project, you will analyze demographics data for customers of a mail-order sales company in Germany, comparing it against demographics information for the general population. You'll use unsupervised learning techniques to perform customer segmentation, identifying the parts of the population that best describe the core customer base of the company. Then, you'll apply what you've learned on a third dataset with demographics information for targets of a marketing campaign for the company, and use a model to predict which individuals are most likely to convert into becoming customers for the company. The data that you will use has been provided by our partners at Bertelsmann Arvato Analytics, and represents a real-life data science task.\n",
    "\n",
    "If you completed the first term of this program, you will be familiar with the first part of this project, from the unsupervised learning project. The versions of those two datasets used in this project will include many more features and has not been pre-cleaned. You are also free to choose whatever approach you'd like to analyzing the data rather than follow pre-determined steps. In your work on this project, make sure that you carefully document your steps and decisions, since your main deliverable for this project will be a blog post reporting your findings."
   ]
  },
  {
   "cell_type": "markdown",
   "metadata": {},
   "source": []
  },
  {
   "cell_type": "markdown",
   "metadata": {},
   "source": [
    "## Outlines  \n",
    "### Part 1: Customer Segmentation Report\n",
    "#### 1.1  Define all functions that will be used in this project  \n",
    "  \n",
    "#### 1.2 Preprocessing of population dataset \n",
    "  * 1.2.1 Load data and fix problems  \n",
    "  * 1.2.2 Assess unknown data in columns and rows, and replace them with NaN\n",
    "  * 1.2.3 Remove columns with more than 30% missing values and rows with more than 20% of missing values\n",
    "  * 1.2.4 Re-engineer features\n",
    "  * 1.2.5 Re-encode object features\n",
    "  * 1.2.6 Build a cleaning function for cleaning customer data \n",
    "  \n",
    "#### 1.3 Primary component analysis (PCA) and K-means clustering of population dataset  \n",
    "  * 1.3.1 Imputation, feature selection and scaling  \n",
    "  * 1.3.2 Apply PCA  \n",
    "  * 1.3.3 Apply K-means clustering  \n",
    "      \n",
    "#### 1.4 Apply the same procedure on Customer datasest  \n",
    "   \n",
    "#### 1.5 Compare customer cluster to population cluster and obtain the demographic characteristics of potential customers\n",
    "\n",
    "### Part 2: Supervised Learning Model\n",
    "#### 2.1 Define all functions that will be used in this project  \n",
    "\n",
    "#### 2.2 Split data into training and testing data  \n",
    "\n",
    "#### 2.3 Select classifers and train models with default parameters\n",
    "\n",
    "#### 2.4 Fine tune parameters\n",
    "  * 2.4.1 Fine tune parameters for XGBRegressor\n",
    "  * 2.4.2 Fine tune parameters for GradientBoostingRegressor\n"
   ]
  },
  {
   "cell_type": "code",
   "execution_count": 1,
   "metadata": {},
   "outputs": [],
   "source": [
    "# import libraries here; add more as necessary\n",
    "import numpy as np\n",
    "import pandas as pd\n",
    "import matplotlib.pyplot as plt\n",
    "import seaborn as sns\n",
    "import math\n",
    "import matplotlib\n",
    "from sklearn.cluster import KMeans\n",
    "from sklearn import preprocessing\n",
    "from sklearn.preprocessing import StandardScaler\n",
    "#from sklearn.preprocessing import Imputer\n",
    "from sklearn.impute import SimpleImputer\n",
    "from sklearn.decomposition import PCA\n",
    "from numpy import nan\n",
    "import time\n",
    "\n",
    "# magic word for producing visualizations in notebook\n",
    "%matplotlib inline"
   ]
  },
  {
   "cell_type": "markdown",
   "metadata": {},
   "source": [
    "## Part 1: Customer Segmentation Report\n",
    "\n",
    "The main bulk of your analysis will come in this part of the project. Here, you should use unsupervised learning techniques to describe the relationship between the demographics of the company's existing customers and the general population of Germany. By the end of this part, you should be able to describe parts of the general population that are more likely to be part of the mail-order company's main customer base, and which parts of the general population are less so."
   ]
  },
  {
   "cell_type": "markdown",
   "metadata": {},
   "source": [
    "### 1.1 Define all functions that will be used in this project"
   ]
  },
  {
   "cell_type": "code",
   "execution_count": 2,
   "metadata": {},
   "outputs": [],
   "source": [
    "def fill_na(df, col):\n",
    "    '''\n",
    "    Fill in the blank cell with the last valid observation\n",
    "    \n",
    "    Keyword arguments:\n",
    "    df: dataframe\n",
    "    col: column name\n",
    "    \n",
    "    Returns:\n",
    "    dataframe with filled value\n",
    "    \n",
    "    '''\n",
    "    df[col].fillna(method = 'ffill', inplace = True)\n",
    "    return df"
   ]
  },
  {
   "cell_type": "code",
   "execution_count": 3,
   "metadata": {},
   "outputs": [],
   "source": [
    "# check values in azdias to see if there are abnormal values that were not defined in the feature_info table and replace it to NaN\n",
    "def replace_no_meaning_value_with_nan(data, feature_doc):\n",
    "    '''\n",
    "    replace values in data sheet that were not described in the feature information spreadsheet with NaN\n",
    "    \n",
    "    Keyword arguments:\n",
    "    data: data record\n",
    "    feature_doc: feature information spreadsheet\n",
    "    \n",
    "    Returns:\n",
    "    data with no meaning values replaced by NaN\n",
    "    \n",
    "    '''\n",
    "    attribute_in_data = list(data.columns)\n",
    "    attribute_in_feature = list(feature_doc['Attribute'].unique())\n",
    "    shared_attribute = [value for value in attribute_in_data if value in attribute_in_feature]\n",
    "    \n",
    "    for attribute in shared_attribute:\n",
    "        tempDf = data[[attribute]].dropna(axis=0)\n",
    "        unique_values_in_data = set(tempDf[attribute])\n",
    "        values_described_in_feature = set(feature_doc.loc[feature_doc.Attribute == attribute, 'Value'])\n",
    "        values_no_meaning = list(unique_values_in_data - values_described_in_feature)\n",
    "        if len(values_no_meaning) == 0:\n",
    "            continue\n",
    "        data[attribute] = data[attribute].apply(lambda x: np.nan if x in values_no_meaning else x)\n",
    "        \n",
    "    return data"
   ]
  },
  {
   "cell_type": "code",
   "execution_count": 4,
   "metadata": {},
   "outputs": [],
   "source": [
    "# Identify missing or unknown data values documented in feature_info table and convert them to NaNs.\n",
    "def replace_unknown_value_with_nan(data, feature_doc):\n",
    "    '''\n",
    "    Find unknown values in data sheet that were defined in the feature information spreadsheet and replace them with NaN\n",
    "    \n",
    "    Keyword arguments:\n",
    "    data: data sheet\n",
    "    feature_doc: feature information spreadsheet\n",
    "    \n",
    "    Returns:\n",
    "    data with unknown values replaced by NaN\n",
    "    \n",
    "    '''\n",
    "    #cols = data.columns.values\n",
    "    cols = data.columns\n",
    "\n",
    "    for colName in cols:\n",
    "        na_values=feature_doc[(feature_doc.Attribute == colName) & (feature_doc.Meaning.str.contains('unknown|no transactions known'))].Value.tolist()   \n",
    "        data[colName] = data[colName].apply(lambda x: np.nan if x in na_values else x)\n",
    "        \n",
    "    return data"
   ]
  },
  {
   "cell_type": "code",
   "execution_count": 5,
   "metadata": {},
   "outputs": [],
   "source": [
    "#Once we find the columns we need to remove from azdias dataset, we need to remove the same columns from the \n",
    "#other datasets, such as the customer dataset; we also need to rows with more than 30 of missing values\n",
    "def remove_columns_rows_by_NA_counts(data, azdias_rm_col):\n",
    "    '''\n",
    "    Remove the same columns from the customer dataset as we did in azdias; Rmoeve rows with more than 30 missing values\n",
    "    \n",
    "    Keyword arguments:\n",
    "    data: data sheet\n",
    "    azdias_rm_col: columns removed from azdias dataset\n",
    "    \n",
    "    Returns:\n",
    "    data with columns and rows cleaned\n",
    "    '''\n",
    "    data_column_filtered = data.drop(azdias_rm_col, axis=1) #drop the same columns as we did in azdias\n",
    "    #data_column_filtered['na_by_row'] = data_column_filtered.isnull().sum(axis=1)\n",
    "    #data_row_column_filtered = data_column_filtered[data_column_filtered['na_by_row'] /data_column_filtered.shape[1] < 0.2]\n",
    "    naCounts_by_row = data_column_filtered.isnull().sum(axis=1)\n",
    "    data_column_filtered['naPercentage_by_row'] = naCounts_by_row/data_column_filtered.shape[1]\n",
    "    data_column_row_filtered = data_column_filtered[data_column_filtered['naPercentage_by_row'] < 0.2] #extract rows with less than 30 missing data for further analysis\n",
    "    data_column_row_filtered = data_column_row_filtered.drop('naPercentage_by_row', axis = 1)\n",
    "\n",
    "    return data_column_row_filtered"
   ]
  },
  {
   "cell_type": "code",
   "execution_count": 6,
   "metadata": {},
   "outputs": [],
   "source": [
    "#\"CAMEO_INTL_2015\" and \"PRAEGENDE_JUGENDJAHRE\" features contain two types of information, so we split the columns\n",
    "# to two columns\n",
    "def split_CAMEO_INTL_2015(data):\n",
    "    '''\n",
    "    Split \"CAMEO_INTL_2015\" feature into two columns\n",
    "    \n",
    "    Keyword arguments:\n",
    "    data: data sheet\n",
    "\n",
    "    Returns:\n",
    "    data with \"CAMEO_INTL_2015\" feature splited into \"CAMEO_INTL_2015_wealth\" and \"CAMEO_INTL_2015_life\" columns\n",
    "    '''\n",
    "    \n",
    "    CAMEO_INTL_2015_wealth = []\n",
    "    CAMEO_INTL_2015_life = []\n",
    "    for row in data['CAMEO_INTL_2015']:\n",
    "        if math.isnan(float(row)):\n",
    "            CAMEO_INTL_2015_wealth.append(np.nan)\n",
    "            CAMEO_INTL_2015_life.append(np.nan)\n",
    "        else:\n",
    "            CAMEO_INTL_2015_wealth.append(int(int(row)/10))\n",
    "            CAMEO_INTL_2015_life.append(int(row)%10)\n",
    "\n",
    "    data['CAMEO_INTL_2015_wealth'] = CAMEO_INTL_2015_wealth\n",
    "    data['CAMEO_INTL_2015_life'] = CAMEO_INTL_2015_life\n",
    "\n",
    "    data.drop(['CAMEO_INTL_2015'], axis=1, inplace = True)\n",
    "    \n",
    "    \n",
    "def split_PRAEGENDE_JUGENDJAHRE(data):\n",
    "    '''\n",
    "    Split \"PRAEGENDE_JUGENDJAHRE\" feature into two columns\n",
    "    \n",
    "    Keyword arguments:\n",
    "    data: data sheet\n",
    "\n",
    "    Returns:\n",
    "    data with \"PRAEGENDE_JUGENDJAHRE\" feature splited into \"PRAEGENDE_JUGENDJAHRE_decade\" and \"PRAEGENDE_JUGENDJAHRE_movement\" columns\n",
    "    '''\n",
    "    PRAEGENDE_JUGENDJAHRE_decade = []\n",
    "\n",
    "    for row in data['PRAEGENDE_JUGENDJAHRE']:\n",
    "        if row in [1, 2]:\n",
    "            PRAEGENDE_JUGENDJAHRE_decade.append(1)\n",
    "        elif row in [3, 4]:\n",
    "            PRAEGENDE_JUGENDJAHRE_decade.append(2)\n",
    "        elif row in [5, 6, 7]:\n",
    "            PRAEGENDE_JUGENDJAHRE_decade.append(3)\n",
    "        elif row in [8, 9]:\n",
    "            PRAEGENDE_JUGENDJAHRE_decade.append(4)    \n",
    "        elif row in [10, 11, 12, 13]:\n",
    "            PRAEGENDE_JUGENDJAHRE_decade.append(5)\n",
    "        elif row in [14, 15]:\n",
    "            PRAEGENDE_JUGENDJAHRE_decade.append(6)\n",
    "        else:\n",
    "            PRAEGENDE_JUGENDJAHRE_decade.append(np.nan)\n",
    "\n",
    "    data['PRAEGENDE_JUGENDJAHRE_decade'] = PRAEGENDE_JUGENDJAHRE_decade\n",
    "\n",
    "    PRAEGENDE_JUGENDJAHRE_movement = []\n",
    "    for row in data['PRAEGENDE_JUGENDJAHRE']:\n",
    "        if row in [1, 3, 5, 8, 10, 12, 14]:\n",
    "            PRAEGENDE_JUGENDJAHRE_movement.append(0)\n",
    "        elif row in [2, 4, 6, 7, 9, 11, 13, 15]:\n",
    "            PRAEGENDE_JUGENDJAHRE_movement.append(1)\n",
    "        else:\n",
    "            PRAEGENDE_JUGENDJAHRE_movement.append(np.nan)\n",
    " \n",
    "    data['PRAEGENDE_JUGENDJAHRE_movement'] = PRAEGENDE_JUGENDJAHRE_movement\n",
    "    \n",
    "    PRAEGENDE_JUGENDJAHRE_nation = []\n",
    "    for row in data['PRAEGENDE_JUGENDJAHRE']:\n",
    "        if row in [1, 2, 3, 4, 5, 8, 9, 14, 15]:\n",
    "            PRAEGENDE_JUGENDJAHRE_nation.append(0)\n",
    "        elif row in [7, 12, 13]:\n",
    "            PRAEGENDE_JUGENDJAHRE_nation.append(1)\n",
    "        else:\n",
    "            PRAEGENDE_JUGENDJAHRE_nation.append(2)\n",
    " \n",
    "    data['PRAEGENDE_JUGENDJAHRE_nation'] = PRAEGENDE_JUGENDJAHRE_nation\n",
    "\n",
    "    data.drop(['PRAEGENDE_JUGENDJAHRE'], axis=1, inplace=True) "
   ]
  },
  {
   "cell_type": "code",
   "execution_count": 7,
   "metadata": {},
   "outputs": [],
   "source": [
    "# Some values in \"LP_STATUS_GROB\" and \"LP_FAMILIE_GROB\" features have the same meaning, so these two functions \n",
    "#are to combine values with the same meaning to one value in these two features.\n",
    "def engineer_LP_STATUS_GROB(data):\n",
    "    '''\n",
    "    Engineer \"LP_STATUS_GROB\" to combine values with the same meaning\n",
    "    \n",
    "    Keyword arguments:\n",
    "    data: data sheet\n",
    "\n",
    "    Returns:\n",
    "    data with \"LP_STATUS_GROB\" feature re-engineered\n",
    "    '''\n",
    "    \n",
    "    LP_STATUS_GROB_engineered = []\n",
    "\n",
    "    for row in data['LP_STATUS_GROB']:\n",
    "        if row in [1, 2]:\n",
    "            LP_STATUS_GROB_engineered.append(1)\n",
    "        elif row in [3, 4, 5]:\n",
    "            LP_STATUS_GROB_engineered.append(2)\n",
    "        elif row in [6, 7]:\n",
    "            LP_STATUS_GROB_engineered.append(3)\n",
    "        elif row in [8, 9]:\n",
    "            LP_STATUS_GROB_engineered.append(4)\n",
    "        elif row in [10]:\n",
    "            LP_STATUS_GROB_engineered.append(5)\n",
    "        else:\n",
    "            LP_STATUS_GROB_engineered.append(np.nan)\n",
    "\n",
    "    data['LP_STATUS_GROB_engineered'] = LP_STATUS_GROB_engineered\n",
    "    data.drop(['LP_STATUS_GROB'], axis=1, inplace=True)\\\n",
    "\n",
    "      \n",
    "    \n",
    "def engineer_LP_FAMILIE_GROB(data):\n",
    "    '''\n",
    "    Engineer \"LP_FAMILIE_GROB\" to combine values with the same meaning\n",
    "    \n",
    "    Keyword arguments:\n",
    "    data: data sheet\n",
    "\n",
    "    Returns:\n",
    "    data with \"LP_FAMILIE_GROB\" feature re-engineered\n",
    "    '''\n",
    "    LP_FAMILIE_GROB_engineered = []\n",
    "\n",
    "    for row in data['LP_FAMILIE_GROB']:\n",
    "        if row in [3, 4, 5]:\n",
    "            LP_FAMILIE_GROB_engineered.append(3)\n",
    "        elif row in [6, 7, 8]:\n",
    "            LP_FAMILIE_GROB_engineered.append(4)\n",
    "        elif row in [9, 10, 11]:\n",
    "            LP_FAMILIE_GROB_engineered.append(5)\n",
    "        else:\n",
    "            LP_FAMILIE_GROB_engineered.append(row)\n",
    "\n",
    "    data['LP_FAMILIE_GROB_engineered'] = LP_FAMILIE_GROB_engineered\n",
    "    data.drop(['LP_FAMILIE_GROB'], axis=1, inplace=True)"
   ]
  },
  {
   "cell_type": "code",
   "execution_count": 8,
   "metadata": {},
   "outputs": [],
   "source": [
    "def histogram_plot(df):\n",
    "    '''\n",
    "    plot histogram\n",
    "    \n",
    "    Keyword arguments:\n",
    "    df: data sheet\n",
    "\n",
    "    Returns:\n",
    "    histogram plot\n",
    "    '''\n",
    "    \n",
    "    fig = df.hist(bins=10, figsize = (20,10))\n",
    "    params = {'axes.titlesize':'6',\n",
    "              'xtick.labelsize':'6',\n",
    "              'ytick.labelsize':'6'}\n",
    "    matplotlib.rcParams.update(params)\n",
    "    plt.show()"
   ]
  },
  {
   "cell_type": "code",
   "execution_count": 9,
   "metadata": {},
   "outputs": [],
   "source": [
    "def waitForSecs(secs):\n",
    "    for i in range(1, secs):\n",
    "        time.sleep(1)"
   ]
  },
  {
   "cell_type": "code",
   "execution_count": 10,
   "metadata": {},
   "outputs": [],
   "source": [
    "#remove columns that have correlation higher than 0.9\n",
    "#corr = azdias_nan_filled.corr()\n",
    "def remove_high_correlated_columns(corr, data):\n",
    "    columns = np.full((corr.shape[0],), True, dtype=bool)\n",
    "    for i in range(corr.shape[0]):\n",
    "        for j in range(i+1, corr.shape[0]):\n",
    "            if corr.iloc[i,j] >= 0.9:\n",
    "                if columns[j]:\n",
    "                    columns[j] = False\n",
    "    low_correlated_columns = data.columns[columns]\n",
    "    data = data[low_correlated_columns]\n",
    "\n",
    "    return data"
   ]
  },
  {
   "cell_type": "markdown",
   "metadata": {},
   "source": [
    "### 1.2 Preprocessing of population dataset \n",
    "#### 1.2.1 Load data and fix problems \n",
    "  \n",
    "There are four data files associated with this project:\n",
    "\n",
    "- `Udacity_AZDIAS_052018.csv`: Demographics data for the general population of Germany; 891 211 persons (rows) x 366 features (columns).\n",
    "- `Udacity_CUSTOMERS_052018.csv`: Demographics data for customers of a mail-order company; 191 652 persons (rows) x 369 features (columns).\n",
    "- `Udacity_MAILOUT_052018_TRAIN.csv`: Demographics data for individuals who were targets of a marketing campaign; 42 982 persons (rows) x 367 (columns).\n",
    "- `Udacity_MAILOUT_052018_TEST.csv`: Demographics data for individuals who were targets of a marketing campaign; 42 833 persons (rows) x 366 (columns).\n",
    "\n",
    "Each row of the demographics files represents a single person, but also includes information outside of individuals, including information about their household, building, and neighborhood. Use the information from the first two files to figure out how customers (\"CUSTOMERS\") are similar to or differ from the general population at large (\"AZDIAS\"), then use your analysis to make predictions on the other two files (\"MAILOUT\"), predicting which recipients are most likely to become a customer for the mail-order company.\n",
    "\n",
    "The \"CUSTOMERS\" file contains three extra columns ('CUSTOMER_GROUP', 'ONLINE_PURCHASE', and 'PRODUCT_GROUP'), which provide broad information about the customers depicted in the file. The original \"MAILOUT\" file included one additional column, \"RESPONSE\", which indicated whether or not each recipient became a customer of the company. For the \"TRAIN\" subset, this column has been retained, but in the \"TEST\" subset it has been removed; it is against that withheld column that your final predictions will be assessed in the Kaggle competition.\n",
    "\n",
    "Otherwise, all of the remaining columns are the same between the three data files. For more information about the columns depicted in the files, you can refer to two Excel spreadsheets provided in the workspace. [One of them](./DIAS Information Levels - Attributes 2017.xlsx) is a top-level list of attributes and descriptions, organized by informational category. [The other](./DIAS Attributes - Values 2017.xlsx) is a detailed mapping of data values for each feature in alphabetical order.\n",
    "\n",
    "In the below cell, we've provided some initial code to load in the first two datasets. Note for all of the `.csv` data files in this project that they're semicolon (`;`) delimited, so an additional argument in the [`read_csv()`](https://pandas.pydata.org/pandas-docs/stable/generated/pandas.read_csv.html) call has been included to read in the data properly. Also, considering the size of the datasets, it may take some time for them to load completely.\n",
    "\n",
    "You'll notice when the data is loaded in that a warning message will immediately pop up. Before you really start digging into the modeling and analysis, you're going to need to perform some cleaning. Take some time to browse the structure of the data and look over the informational spreadsheets to understand the data values. Make some decisions on which features to keep, which features to drop, and if any revisions need to be made on data formats. It'll be a good idea to create a function with pre-processing steps, since you'll need to clean all of the datasets before you work with them."
   ]
  },
  {
   "cell_type": "code",
   "execution_count": 11,
   "metadata": {
    "scrolled": true
   },
   "outputs": [
    {
     "name": "stderr",
     "output_type": "stream",
     "text": [
      "/Users/maoshaohua/anaconda3/lib/python3.7/site-packages/IPython/core/interactiveshell.py:3049: DtypeWarning: Columns (18,19) have mixed types. Specify dtype option on import or set low_memory=False.\n",
      "  interactivity=interactivity, compiler=compiler, result=result)\n"
     ]
    }
   ],
   "source": [
    "# load in the data\n",
    "#azdias = pd.read_csv('../../data/Term2/capstone/arvato_data/Udacity_AZDIAS_052018.csv', sep=';')\n",
    "#customers = pd.read_csv('../../data/Term2/capstone/arvato_data/Udacity_CUSTOMERS_052018.csv', sep=';')\n",
    "\n",
    "azdias = pd.read_csv('./Udacity_AZDIAS_052018.csv', sep=';')"
   ]
  },
  {
   "cell_type": "code",
   "execution_count": 12,
   "metadata": {
    "scrolled": false
   },
   "outputs": [
    {
     "data": {
      "text/html": [
       "<div>\n",
       "<style scoped>\n",
       "    .dataframe tbody tr th:only-of-type {\n",
       "        vertical-align: middle;\n",
       "    }\n",
       "\n",
       "    .dataframe tbody tr th {\n",
       "        vertical-align: top;\n",
       "    }\n",
       "\n",
       "    .dataframe thead th {\n",
       "        text-align: right;\n",
       "    }\n",
       "</style>\n",
       "<table border=\"1\" class=\"dataframe\">\n",
       "  <thead>\n",
       "    <tr style=\"text-align: right;\">\n",
       "      <th></th>\n",
       "      <th>LNR</th>\n",
       "      <th>AGER_TYP</th>\n",
       "      <th>AKT_DAT_KL</th>\n",
       "      <th>ALTER_HH</th>\n",
       "      <th>ALTER_KIND1</th>\n",
       "      <th>ALTER_KIND2</th>\n",
       "      <th>ALTER_KIND3</th>\n",
       "      <th>ALTER_KIND4</th>\n",
       "      <th>ALTERSKATEGORIE_FEIN</th>\n",
       "      <th>ANZ_HAUSHALTE_AKTIV</th>\n",
       "      <th>...</th>\n",
       "      <th>VHN</th>\n",
       "      <th>VK_DHT4A</th>\n",
       "      <th>VK_DISTANZ</th>\n",
       "      <th>VK_ZG11</th>\n",
       "      <th>W_KEIT_KIND_HH</th>\n",
       "      <th>WOHNDAUER_2008</th>\n",
       "      <th>WOHNLAGE</th>\n",
       "      <th>ZABEOTYP</th>\n",
       "      <th>ANREDE_KZ</th>\n",
       "      <th>ALTERSKATEGORIE_GROB</th>\n",
       "    </tr>\n",
       "  </thead>\n",
       "  <tbody>\n",
       "    <tr>\n",
       "      <th>0</th>\n",
       "      <td>910215</td>\n",
       "      <td>-1</td>\n",
       "      <td>NaN</td>\n",
       "      <td>NaN</td>\n",
       "      <td>NaN</td>\n",
       "      <td>NaN</td>\n",
       "      <td>NaN</td>\n",
       "      <td>NaN</td>\n",
       "      <td>NaN</td>\n",
       "      <td>NaN</td>\n",
       "      <td>...</td>\n",
       "      <td>NaN</td>\n",
       "      <td>NaN</td>\n",
       "      <td>NaN</td>\n",
       "      <td>NaN</td>\n",
       "      <td>NaN</td>\n",
       "      <td>NaN</td>\n",
       "      <td>NaN</td>\n",
       "      <td>3</td>\n",
       "      <td>1</td>\n",
       "      <td>2</td>\n",
       "    </tr>\n",
       "    <tr>\n",
       "      <th>1</th>\n",
       "      <td>910220</td>\n",
       "      <td>-1</td>\n",
       "      <td>9.0</td>\n",
       "      <td>0.0</td>\n",
       "      <td>NaN</td>\n",
       "      <td>NaN</td>\n",
       "      <td>NaN</td>\n",
       "      <td>NaN</td>\n",
       "      <td>21.0</td>\n",
       "      <td>11.0</td>\n",
       "      <td>...</td>\n",
       "      <td>4.0</td>\n",
       "      <td>8.0</td>\n",
       "      <td>11.0</td>\n",
       "      <td>10.0</td>\n",
       "      <td>3.0</td>\n",
       "      <td>9.0</td>\n",
       "      <td>4.0</td>\n",
       "      <td>5</td>\n",
       "      <td>2</td>\n",
       "      <td>1</td>\n",
       "    </tr>\n",
       "    <tr>\n",
       "      <th>2</th>\n",
       "      <td>910225</td>\n",
       "      <td>-1</td>\n",
       "      <td>9.0</td>\n",
       "      <td>17.0</td>\n",
       "      <td>NaN</td>\n",
       "      <td>NaN</td>\n",
       "      <td>NaN</td>\n",
       "      <td>NaN</td>\n",
       "      <td>17.0</td>\n",
       "      <td>10.0</td>\n",
       "      <td>...</td>\n",
       "      <td>2.0</td>\n",
       "      <td>9.0</td>\n",
       "      <td>9.0</td>\n",
       "      <td>6.0</td>\n",
       "      <td>3.0</td>\n",
       "      <td>9.0</td>\n",
       "      <td>2.0</td>\n",
       "      <td>5</td>\n",
       "      <td>2</td>\n",
       "      <td>3</td>\n",
       "    </tr>\n",
       "    <tr>\n",
       "      <th>3</th>\n",
       "      <td>910226</td>\n",
       "      <td>2</td>\n",
       "      <td>1.0</td>\n",
       "      <td>13.0</td>\n",
       "      <td>NaN</td>\n",
       "      <td>NaN</td>\n",
       "      <td>NaN</td>\n",
       "      <td>NaN</td>\n",
       "      <td>13.0</td>\n",
       "      <td>1.0</td>\n",
       "      <td>...</td>\n",
       "      <td>0.0</td>\n",
       "      <td>7.0</td>\n",
       "      <td>10.0</td>\n",
       "      <td>11.0</td>\n",
       "      <td>NaN</td>\n",
       "      <td>9.0</td>\n",
       "      <td>7.0</td>\n",
       "      <td>3</td>\n",
       "      <td>2</td>\n",
       "      <td>4</td>\n",
       "    </tr>\n",
       "    <tr>\n",
       "      <th>4</th>\n",
       "      <td>910241</td>\n",
       "      <td>-1</td>\n",
       "      <td>1.0</td>\n",
       "      <td>20.0</td>\n",
       "      <td>NaN</td>\n",
       "      <td>NaN</td>\n",
       "      <td>NaN</td>\n",
       "      <td>NaN</td>\n",
       "      <td>14.0</td>\n",
       "      <td>3.0</td>\n",
       "      <td>...</td>\n",
       "      <td>2.0</td>\n",
       "      <td>3.0</td>\n",
       "      <td>5.0</td>\n",
       "      <td>4.0</td>\n",
       "      <td>2.0</td>\n",
       "      <td>9.0</td>\n",
       "      <td>3.0</td>\n",
       "      <td>4</td>\n",
       "      <td>1</td>\n",
       "      <td>3</td>\n",
       "    </tr>\n",
       "  </tbody>\n",
       "</table>\n",
       "<p>5 rows × 366 columns</p>\n",
       "</div>"
      ],
      "text/plain": [
       "      LNR  AGER_TYP  AKT_DAT_KL  ALTER_HH  ALTER_KIND1  ALTER_KIND2  \\\n",
       "0  910215        -1         NaN       NaN          NaN          NaN   \n",
       "1  910220        -1         9.0       0.0          NaN          NaN   \n",
       "2  910225        -1         9.0      17.0          NaN          NaN   \n",
       "3  910226         2         1.0      13.0          NaN          NaN   \n",
       "4  910241        -1         1.0      20.0          NaN          NaN   \n",
       "\n",
       "   ALTER_KIND3  ALTER_KIND4  ALTERSKATEGORIE_FEIN  ANZ_HAUSHALTE_AKTIV  ...  \\\n",
       "0          NaN          NaN                   NaN                  NaN  ...   \n",
       "1          NaN          NaN                  21.0                 11.0  ...   \n",
       "2          NaN          NaN                  17.0                 10.0  ...   \n",
       "3          NaN          NaN                  13.0                  1.0  ...   \n",
       "4          NaN          NaN                  14.0                  3.0  ...   \n",
       "\n",
       "   VHN  VK_DHT4A  VK_DISTANZ  VK_ZG11  W_KEIT_KIND_HH  WOHNDAUER_2008  \\\n",
       "0  NaN       NaN         NaN      NaN             NaN             NaN   \n",
       "1  4.0       8.0        11.0     10.0             3.0             9.0   \n",
       "2  2.0       9.0         9.0      6.0             3.0             9.0   \n",
       "3  0.0       7.0        10.0     11.0             NaN             9.0   \n",
       "4  2.0       3.0         5.0      4.0             2.0             9.0   \n",
       "\n",
       "   WOHNLAGE ZABEOTYP ANREDE_KZ ALTERSKATEGORIE_GROB  \n",
       "0       NaN        3         1                    2  \n",
       "1       4.0        5         2                    1  \n",
       "2       2.0        5         2                    3  \n",
       "3       7.0        3         2                    4  \n",
       "4       3.0        4         1                    3  \n",
       "\n",
       "[5 rows x 366 columns]"
      ]
     },
     "execution_count": 12,
     "metadata": {},
     "output_type": "execute_result"
    }
   ],
   "source": [
    "azdias.head()"
   ]
  },
  {
   "cell_type": "code",
   "execution_count": 13,
   "metadata": {},
   "outputs": [
    {
     "data": {
      "text/plain": [
       "(891221, 366)"
      ]
     },
     "execution_count": 13,
     "metadata": {},
     "output_type": "execute_result"
    }
   ],
   "source": [
    "azdias.shape"
   ]
  },
  {
   "cell_type": "code",
   "execution_count": 14,
   "metadata": {
    "scrolled": true
   },
   "outputs": [
    {
     "name": "stdout",
     "output_type": "stream",
     "text": [
      "8      78023\n",
      "9      62578\n",
      "6      61253\n",
      "4      60185\n",
      "8.0    56418\n",
      "3      50360\n",
      "2      48276\n",
      "9.0    45599\n",
      "7      45021\n",
      "6.0    44621\n",
      "4.0    43727\n",
      "3.0    36419\n",
      "2.0    34955\n",
      "7.0    32912\n",
      "5      32292\n",
      "5.0    23018\n",
      "1      20997\n",
      "1.0    15215\n",
      "X        373\n",
      "Name: CAMEO_DEUG_2015, dtype: int64\n",
      "51      77576\n",
      "51.0    56118\n",
      "41      53459\n",
      "24      52882\n",
      "41.0    38877\n",
      "24.0    38276\n",
      "14      36524\n",
      "43      32730\n",
      "14.0    26360\n",
      "54      26207\n",
      "43.0    23942\n",
      "25      22837\n",
      "54.0    19184\n",
      "22      19173\n",
      "25.0    16791\n",
      "23      15653\n",
      "13      15272\n",
      "45      15206\n",
      "22.0    13982\n",
      "55      13842\n",
      "52      11836\n",
      "23.0    11097\n",
      "13.0    11064\n",
      "31      11041\n",
      "45.0    10926\n",
      "34      10737\n",
      "55.0    10113\n",
      "15       9832\n",
      "52.0     8706\n",
      "44       8543\n",
      "31.0     7983\n",
      "34.0     7787\n",
      "12       7645\n",
      "15.0     7142\n",
      "44.0     6277\n",
      "35       6090\n",
      "32       6067\n",
      "33       5833\n",
      "12.0     5604\n",
      "32.0     4287\n",
      "35.0     4266\n",
      "33.0     4102\n",
      "XX        373\n",
      "Name: CAMEO_INTL_2015, dtype: int64\n"
     ]
    }
   ],
   "source": [
    "#column 18 and 19 have mixed values, check the values and fix the problem.\n",
    "print(azdias.iloc[:,18].value_counts())\n",
    "print(azdias.iloc[:,19].value_counts())"
   ]
  },
  {
   "cell_type": "code",
   "execution_count": 15,
   "metadata": {
    "scrolled": true
   },
   "outputs": [],
   "source": [
    "# replace \"x\", \"xx\" with NaN, and set the data type to float\n",
    "COL_CAMEO_DEUG_2015 = 'CAMEO_DEUG_2015'\n",
    "COL_CAMEO_INTL_2015 = 'CAMEO_INTL_2015'\n",
    "\n",
    "azdias[COL_CAMEO_DEUG_2015] = azdias[COL_CAMEO_DEUG_2015].astype(str).replace({'X':np.nan}).astype(float)\n",
    "azdias[COL_CAMEO_INTL_2015] = azdias[COL_CAMEO_INTL_2015].astype(str).replace({'XX':np.nan}).astype(float)\n",
    "\n",
    "# Drop column 'LNR'\n",
    "azdias.drop(['LNR'], axis=1, inplace=True)"
   ]
  },
  {
   "cell_type": "code",
   "execution_count": 16,
   "metadata": {},
   "outputs": [],
   "source": [
    "#read in feature spreadsheet, these two sheets are multi-level indexed, so use fill_na function to fill the blank cells\n",
    "attributes_describe = pd.read_excel('./DIAS Information Levels - Attributes 2017.xlsx',header = 1, usecols = range(1,5))\n",
    "attributes_describe = fill_na(attributes_describe, 'Information level')\n",
    "\n",
    "feature_info = pd.read_excel('./DIAS Attributes - Values 2017.xlsx', header = 1, usecols = range(1,6))\n",
    "feature_info = fill_na(feature_info, 'Attribute')\n",
    "feature_info = fill_na(feature_info, 'Description')"
   ]
  },
  {
   "cell_type": "code",
   "execution_count": 17,
   "metadata": {
    "scrolled": true
   },
   "outputs": [
    {
     "name": "stdout",
     "output_type": "stream",
     "text": [
      "(313, 4)\n"
     ]
    },
    {
     "data": {
      "text/html": [
       "<div>\n",
       "<style scoped>\n",
       "    .dataframe tbody tr th:only-of-type {\n",
       "        vertical-align: middle;\n",
       "    }\n",
       "\n",
       "    .dataframe tbody tr th {\n",
       "        vertical-align: top;\n",
       "    }\n",
       "\n",
       "    .dataframe thead th {\n",
       "        text-align: right;\n",
       "    }\n",
       "</style>\n",
       "<table border=\"1\" class=\"dataframe\">\n",
       "  <thead>\n",
       "    <tr style=\"text-align: right;\">\n",
       "      <th></th>\n",
       "      <th>Information level</th>\n",
       "      <th>Attribute</th>\n",
       "      <th>Description</th>\n",
       "      <th>Additional notes</th>\n",
       "    </tr>\n",
       "  </thead>\n",
       "  <tbody>\n",
       "    <tr>\n",
       "      <th>0</th>\n",
       "      <td>NaN</td>\n",
       "      <td>AGER_TYP</td>\n",
       "      <td>best-ager typology</td>\n",
       "      <td>in cooperation with Kantar TNS; the informatio...</td>\n",
       "    </tr>\n",
       "    <tr>\n",
       "      <th>1</th>\n",
       "      <td>Person</td>\n",
       "      <td>ALTERSKATEGORIE_GROB</td>\n",
       "      <td>age through prename analysis</td>\n",
       "      <td>modelled on millions of first name-age-referen...</td>\n",
       "    </tr>\n",
       "    <tr>\n",
       "      <th>2</th>\n",
       "      <td>Person</td>\n",
       "      <td>ANREDE_KZ</td>\n",
       "      <td>gender</td>\n",
       "      <td>NaN</td>\n",
       "    </tr>\n",
       "    <tr>\n",
       "      <th>3</th>\n",
       "      <td>Person</td>\n",
       "      <td>CJT_GESAMTTYP</td>\n",
       "      <td>Customer-Journey-Typology relating to the pref...</td>\n",
       "      <td>relating to the preferred information, marketi...</td>\n",
       "    </tr>\n",
       "    <tr>\n",
       "      <th>4</th>\n",
       "      <td>Person</td>\n",
       "      <td>FINANZ_MINIMALIST</td>\n",
       "      <td>financial typology: low financial interest</td>\n",
       "      <td>Gfk-Typology based on a representative househo...</td>\n",
       "    </tr>\n",
       "  </tbody>\n",
       "</table>\n",
       "</div>"
      ],
      "text/plain": [
       "  Information level             Attribute  \\\n",
       "0               NaN              AGER_TYP   \n",
       "1            Person  ALTERSKATEGORIE_GROB   \n",
       "2            Person             ANREDE_KZ   \n",
       "3            Person         CJT_GESAMTTYP   \n",
       "4            Person     FINANZ_MINIMALIST   \n",
       "\n",
       "                                         Description  \\\n",
       "0                                 best-ager typology   \n",
       "1                      age through prename analysis    \n",
       "2                                             gender   \n",
       "3  Customer-Journey-Typology relating to the pref...   \n",
       "4         financial typology: low financial interest   \n",
       "\n",
       "                                    Additional notes  \n",
       "0  in cooperation with Kantar TNS; the informatio...  \n",
       "1  modelled on millions of first name-age-referen...  \n",
       "2                                                NaN  \n",
       "3  relating to the preferred information, marketi...  \n",
       "4  Gfk-Typology based on a representative househo...  "
      ]
     },
     "execution_count": 17,
     "metadata": {},
     "output_type": "execute_result"
    }
   ],
   "source": [
    "print(attributes_describe.shape)\n",
    "attributes_describe.head()"
   ]
  },
  {
   "cell_type": "code",
   "execution_count": 18,
   "metadata": {},
   "outputs": [
    {
     "name": "stdout",
     "output_type": "stream",
     "text": [
      "(2258, 4)\n"
     ]
    },
    {
     "data": {
      "text/html": [
       "<div>\n",
       "<style scoped>\n",
       "    .dataframe tbody tr th:only-of-type {\n",
       "        vertical-align: middle;\n",
       "    }\n",
       "\n",
       "    .dataframe tbody tr th {\n",
       "        vertical-align: top;\n",
       "    }\n",
       "\n",
       "    .dataframe thead th {\n",
       "        text-align: right;\n",
       "    }\n",
       "</style>\n",
       "<table border=\"1\" class=\"dataframe\">\n",
       "  <thead>\n",
       "    <tr style=\"text-align: right;\">\n",
       "      <th></th>\n",
       "      <th>Attribute</th>\n",
       "      <th>Description</th>\n",
       "      <th>Value</th>\n",
       "      <th>Meaning</th>\n",
       "    </tr>\n",
       "  </thead>\n",
       "  <tbody>\n",
       "    <tr>\n",
       "      <th>0</th>\n",
       "      <td>AGER_TYP</td>\n",
       "      <td>best-ager typology</td>\n",
       "      <td>-1</td>\n",
       "      <td>unknown</td>\n",
       "    </tr>\n",
       "    <tr>\n",
       "      <th>1</th>\n",
       "      <td>AGER_TYP</td>\n",
       "      <td>best-ager typology</td>\n",
       "      <td>0</td>\n",
       "      <td>no classification possible</td>\n",
       "    </tr>\n",
       "    <tr>\n",
       "      <th>2</th>\n",
       "      <td>AGER_TYP</td>\n",
       "      <td>best-ager typology</td>\n",
       "      <td>1</td>\n",
       "      <td>passive elderly</td>\n",
       "    </tr>\n",
       "    <tr>\n",
       "      <th>3</th>\n",
       "      <td>AGER_TYP</td>\n",
       "      <td>best-ager typology</td>\n",
       "      <td>2</td>\n",
       "      <td>cultural elderly</td>\n",
       "    </tr>\n",
       "    <tr>\n",
       "      <th>4</th>\n",
       "      <td>AGER_TYP</td>\n",
       "      <td>best-ager typology</td>\n",
       "      <td>3</td>\n",
       "      <td>experience-driven elderly</td>\n",
       "    </tr>\n",
       "    <tr>\n",
       "      <th>5</th>\n",
       "      <td>ALTERSKATEGORIE_GROB</td>\n",
       "      <td>age classification through prename analysis</td>\n",
       "      <td>-1, 0</td>\n",
       "      <td>unknown</td>\n",
       "    </tr>\n",
       "    <tr>\n",
       "      <th>6</th>\n",
       "      <td>ALTERSKATEGORIE_GROB</td>\n",
       "      <td>age classification through prename analysis</td>\n",
       "      <td>1</td>\n",
       "      <td>&lt; 30 years</td>\n",
       "    </tr>\n",
       "    <tr>\n",
       "      <th>7</th>\n",
       "      <td>ALTERSKATEGORIE_GROB</td>\n",
       "      <td>age classification through prename analysis</td>\n",
       "      <td>2</td>\n",
       "      <td>30 - 45 years</td>\n",
       "    </tr>\n",
       "    <tr>\n",
       "      <th>8</th>\n",
       "      <td>ALTERSKATEGORIE_GROB</td>\n",
       "      <td>age classification through prename analysis</td>\n",
       "      <td>3</td>\n",
       "      <td>46 - 60 years</td>\n",
       "    </tr>\n",
       "    <tr>\n",
       "      <th>9</th>\n",
       "      <td>ALTERSKATEGORIE_GROB</td>\n",
       "      <td>age classification through prename analysis</td>\n",
       "      <td>4</td>\n",
       "      <td>&gt; 60 years</td>\n",
       "    </tr>\n",
       "  </tbody>\n",
       "</table>\n",
       "</div>"
      ],
      "text/plain": [
       "              Attribute                                   Description  Value  \\\n",
       "0              AGER_TYP                            best-ager typology     -1   \n",
       "1              AGER_TYP                            best-ager typology      0   \n",
       "2              AGER_TYP                            best-ager typology      1   \n",
       "3              AGER_TYP                            best-ager typology      2   \n",
       "4              AGER_TYP                            best-ager typology      3   \n",
       "5  ALTERSKATEGORIE_GROB  age classification through prename analysis   -1, 0   \n",
       "6  ALTERSKATEGORIE_GROB  age classification through prename analysis       1   \n",
       "7  ALTERSKATEGORIE_GROB  age classification through prename analysis       2   \n",
       "8  ALTERSKATEGORIE_GROB  age classification through prename analysis       3   \n",
       "9  ALTERSKATEGORIE_GROB  age classification through prename analysis       4   \n",
       "\n",
       "                      Meaning  \n",
       "0                     unknown  \n",
       "1  no classification possible  \n",
       "2             passive elderly  \n",
       "3            cultural elderly  \n",
       "4   experience-driven elderly  \n",
       "5                     unknown  \n",
       "6                  < 30 years  \n",
       "7               30 - 45 years  \n",
       "8               46 - 60 years  \n",
       "9                  > 60 years  "
      ]
     },
     "execution_count": 18,
     "metadata": {},
     "output_type": "execute_result"
    }
   ],
   "source": [
    "print(feature_info.shape)\n",
    "feature_info.head(10)"
   ]
  },
  {
   "cell_type": "code",
   "execution_count": 19,
   "metadata": {},
   "outputs": [
    {
     "data": {
      "text/plain": [
       "314"
      ]
     },
     "execution_count": 19,
     "metadata": {},
     "output_type": "execute_result"
    }
   ],
   "source": [
    "feature_info.Attribute.nunique()"
   ]
  },
  {
   "cell_type": "code",
   "execution_count": 20,
   "metadata": {
    "scrolled": false
   },
   "outputs": [
    {
     "name": "stdout",
     "output_type": "stream",
     "text": [
      "attributes that are included in azdias dataset, but not in attributes spreadsheet: 101\n",
      "attributes that are included in attributes spreadsheet, but not in azdias dataset: 49\n"
     ]
    }
   ],
   "source": [
    "# there are 313 attributes in the feature_info spreadsheet, but 366 in the azdias population, so there is inconsistent \n",
    "#between the azdias and feature_info spreadsheet\n",
    "attributes_not_documented_in_feature_info = list(set(list(azdias.columns)) - set(list(attributes_describe['Attribute'])))\n",
    "attributes_no_data_in_azdias =list(set(list(attributes_describe['Attribute'])) - set(list(azdias.columns)))\n",
    "\n",
    "print('attributes that are included in azdias dataset, but not in attributes spreadsheet:', \n",
    "      len(attributes_not_documented_in_feature_info))\n",
    "print('attributes that are included in attributes spreadsheet, but not in azdias dataset:', \n",
    "      len(attributes_no_data_in_azdias))"
   ]
  },
  {
   "cell_type": "code",
   "execution_count": 21,
   "metadata": {
    "scrolled": true
   },
   "outputs": [
    {
     "name": "stdout",
     "output_type": "stream",
     "text": [
      "['ANZ_HAUSHALTE_AKTIV', 'ANZ_HH_TITEL', 'ANZ_PERSONEN', 'ANZ_TITEL', 'GEBURTSJAHR', 'KBA13_ANZAHL_PKW', 'MIN_GEBAEUDEJAHR']\n",
      "ordinal    358\n",
      "numeric      7\n",
      "Name: Type, dtype: int64\n",
      "(365, 2)\n"
     ]
    }
   ],
   "source": [
    "# Creat a new feature information datasheet with exactly the same attributes as in the azdias datasheet.\n",
    "feature_info_reorganize = pd.DataFrame(columns = ['Attribute','Type'])\n",
    "feature_info_reorganize['Attribute'] = azdias.columns\n",
    "# because most of the attributes are ordinal data, so we assign \"Ordinal\" to all attributes at first\n",
    "feature_info_reorganize['Type'] = 'ordinal' \n",
    "\n",
    "# Find numeric attribute that were marked in the original feature_info datasheet and revise the new \n",
    "# feature_info_reorganize datasheet accordingly\n",
    "numeric_attributes = feature_info[feature_info.Meaning.str.contains('numeric', na=False)].Attribute.tolist()\n",
    "feature_info_reorganize.loc[feature_info_reorganize['Attribute'].isin(numeric_attributes), 'Type'] = 'numeric'\n",
    "\n",
    "print(numeric_attributes)\n",
    "print(feature_info_reorganize['Type'].value_counts())\n",
    "print(feature_info_reorganize.shape)"
   ]
  },
  {
   "cell_type": "code",
   "execution_count": 22,
   "metadata": {},
   "outputs": [],
   "source": [
    "feature_info_reorganize.to_csv(\"feature_info_reorganize.csv\")\n",
    "# manual curate the data type in the feature_info_reorganize csv file. For example, some attributes (e.g.LP_FAMILIE_FEIN) are not ordinal, \n",
    "# and need to be re-encoded later as categorical data\n"
   ]
  },
  {
   "cell_type": "markdown",
   "metadata": {},
   "source": [
    "#### 1.2.2 Assess unknown data in columns and rows, and replace them with NaN"
   ]
  },
  {
   "cell_type": "code",
   "execution_count": 23,
   "metadata": {
    "scrolled": true
   },
   "outputs": [
    {
     "data": {
      "text/html": [
       "<div>\n",
       "<style scoped>\n",
       "    .dataframe tbody tr th:only-of-type {\n",
       "        vertical-align: middle;\n",
       "    }\n",
       "\n",
       "    .dataframe tbody tr th {\n",
       "        vertical-align: top;\n",
       "    }\n",
       "\n",
       "    .dataframe thead th {\n",
       "        text-align: right;\n",
       "    }\n",
       "</style>\n",
       "<table border=\"1\" class=\"dataframe\">\n",
       "  <thead>\n",
       "    <tr style=\"text-align: right;\">\n",
       "      <th></th>\n",
       "      <th>AGER_TYP</th>\n",
       "      <th>AKT_DAT_KL</th>\n",
       "      <th>ALTER_HH</th>\n",
       "      <th>ALTER_KIND1</th>\n",
       "      <th>ALTER_KIND2</th>\n",
       "      <th>ALTER_KIND3</th>\n",
       "      <th>ALTER_KIND4</th>\n",
       "      <th>ALTERSKATEGORIE_FEIN</th>\n",
       "      <th>ANZ_HAUSHALTE_AKTIV</th>\n",
       "      <th>ANZ_HH_TITEL</th>\n",
       "      <th>...</th>\n",
       "      <th>VHN</th>\n",
       "      <th>VK_DHT4A</th>\n",
       "      <th>VK_DISTANZ</th>\n",
       "      <th>VK_ZG11</th>\n",
       "      <th>W_KEIT_KIND_HH</th>\n",
       "      <th>WOHNDAUER_2008</th>\n",
       "      <th>WOHNLAGE</th>\n",
       "      <th>ZABEOTYP</th>\n",
       "      <th>ANREDE_KZ</th>\n",
       "      <th>ALTERSKATEGORIE_GROB</th>\n",
       "    </tr>\n",
       "  </thead>\n",
       "  <tbody>\n",
       "    <tr>\n",
       "      <th>0</th>\n",
       "      <td>NaN</td>\n",
       "      <td>NaN</td>\n",
       "      <td>NaN</td>\n",
       "      <td>NaN</td>\n",
       "      <td>NaN</td>\n",
       "      <td>NaN</td>\n",
       "      <td>NaN</td>\n",
       "      <td>NaN</td>\n",
       "      <td>NaN</td>\n",
       "      <td>NaN</td>\n",
       "      <td>...</td>\n",
       "      <td>NaN</td>\n",
       "      <td>NaN</td>\n",
       "      <td>NaN</td>\n",
       "      <td>NaN</td>\n",
       "      <td>NaN</td>\n",
       "      <td>NaN</td>\n",
       "      <td>NaN</td>\n",
       "      <td>3</td>\n",
       "      <td>1</td>\n",
       "      <td>2</td>\n",
       "    </tr>\n",
       "    <tr>\n",
       "      <th>1</th>\n",
       "      <td>NaN</td>\n",
       "      <td>9.0</td>\n",
       "      <td>NaN</td>\n",
       "      <td>NaN</td>\n",
       "      <td>NaN</td>\n",
       "      <td>NaN</td>\n",
       "      <td>NaN</td>\n",
       "      <td>21.0</td>\n",
       "      <td>NaN</td>\n",
       "      <td>NaN</td>\n",
       "      <td>...</td>\n",
       "      <td>4.0</td>\n",
       "      <td>8.0</td>\n",
       "      <td>11.0</td>\n",
       "      <td>10.0</td>\n",
       "      <td>3.0</td>\n",
       "      <td>9.0</td>\n",
       "      <td>4.0</td>\n",
       "      <td>5</td>\n",
       "      <td>2</td>\n",
       "      <td>1</td>\n",
       "    </tr>\n",
       "    <tr>\n",
       "      <th>2</th>\n",
       "      <td>NaN</td>\n",
       "      <td>9.0</td>\n",
       "      <td>17.0</td>\n",
       "      <td>NaN</td>\n",
       "      <td>NaN</td>\n",
       "      <td>NaN</td>\n",
       "      <td>NaN</td>\n",
       "      <td>17.0</td>\n",
       "      <td>NaN</td>\n",
       "      <td>NaN</td>\n",
       "      <td>...</td>\n",
       "      <td>2.0</td>\n",
       "      <td>9.0</td>\n",
       "      <td>9.0</td>\n",
       "      <td>6.0</td>\n",
       "      <td>3.0</td>\n",
       "      <td>9.0</td>\n",
       "      <td>2.0</td>\n",
       "      <td>5</td>\n",
       "      <td>2</td>\n",
       "      <td>3</td>\n",
       "    </tr>\n",
       "    <tr>\n",
       "      <th>3</th>\n",
       "      <td>2.0</td>\n",
       "      <td>1.0</td>\n",
       "      <td>13.0</td>\n",
       "      <td>NaN</td>\n",
       "      <td>NaN</td>\n",
       "      <td>NaN</td>\n",
       "      <td>NaN</td>\n",
       "      <td>13.0</td>\n",
       "      <td>NaN</td>\n",
       "      <td>NaN</td>\n",
       "      <td>...</td>\n",
       "      <td>0.0</td>\n",
       "      <td>7.0</td>\n",
       "      <td>10.0</td>\n",
       "      <td>11.0</td>\n",
       "      <td>NaN</td>\n",
       "      <td>9.0</td>\n",
       "      <td>7.0</td>\n",
       "      <td>3</td>\n",
       "      <td>2</td>\n",
       "      <td>4</td>\n",
       "    </tr>\n",
       "    <tr>\n",
       "      <th>4</th>\n",
       "      <td>NaN</td>\n",
       "      <td>1.0</td>\n",
       "      <td>20.0</td>\n",
       "      <td>NaN</td>\n",
       "      <td>NaN</td>\n",
       "      <td>NaN</td>\n",
       "      <td>NaN</td>\n",
       "      <td>14.0</td>\n",
       "      <td>NaN</td>\n",
       "      <td>NaN</td>\n",
       "      <td>...</td>\n",
       "      <td>2.0</td>\n",
       "      <td>3.0</td>\n",
       "      <td>5.0</td>\n",
       "      <td>4.0</td>\n",
       "      <td>2.0</td>\n",
       "      <td>9.0</td>\n",
       "      <td>3.0</td>\n",
       "      <td>4</td>\n",
       "      <td>1</td>\n",
       "      <td>3</td>\n",
       "    </tr>\n",
       "  </tbody>\n",
       "</table>\n",
       "<p>5 rows × 365 columns</p>\n",
       "</div>"
      ],
      "text/plain": [
       "   AGER_TYP  AKT_DAT_KL  ALTER_HH  ALTER_KIND1  ALTER_KIND2  ALTER_KIND3  \\\n",
       "0       NaN         NaN       NaN          NaN          NaN          NaN   \n",
       "1       NaN         9.0       NaN          NaN          NaN          NaN   \n",
       "2       NaN         9.0      17.0          NaN          NaN          NaN   \n",
       "3       2.0         1.0      13.0          NaN          NaN          NaN   \n",
       "4       NaN         1.0      20.0          NaN          NaN          NaN   \n",
       "\n",
       "   ALTER_KIND4  ALTERSKATEGORIE_FEIN  ANZ_HAUSHALTE_AKTIV  ANZ_HH_TITEL  ...  \\\n",
       "0          NaN                   NaN                  NaN           NaN  ...   \n",
       "1          NaN                  21.0                  NaN           NaN  ...   \n",
       "2          NaN                  17.0                  NaN           NaN  ...   \n",
       "3          NaN                  13.0                  NaN           NaN  ...   \n",
       "4          NaN                  14.0                  NaN           NaN  ...   \n",
       "\n",
       "   VHN  VK_DHT4A  VK_DISTANZ  VK_ZG11  W_KEIT_KIND_HH  WOHNDAUER_2008  \\\n",
       "0  NaN       NaN         NaN      NaN             NaN             NaN   \n",
       "1  4.0       8.0        11.0     10.0             3.0             9.0   \n",
       "2  2.0       9.0         9.0      6.0             3.0             9.0   \n",
       "3  0.0       7.0        10.0     11.0             NaN             9.0   \n",
       "4  2.0       3.0         5.0      4.0             2.0             9.0   \n",
       "\n",
       "  WOHNLAGE  ZABEOTYP  ANREDE_KZ  ALTERSKATEGORIE_GROB  \n",
       "0      NaN         3          1                     2  \n",
       "1      4.0         5          2                     1  \n",
       "2      2.0         5          2                     3  \n",
       "3      7.0         3          2                     4  \n",
       "4      3.0         4          1                     3  \n",
       "\n",
       "[5 rows x 365 columns]"
      ]
     },
     "execution_count": 23,
     "metadata": {},
     "output_type": "execute_result"
    }
   ],
   "source": [
    "# replace values that were not defined in the feature_info table and replace it to NaN\n",
    "azdias = replace_no_meaning_value_with_nan(azdias, feature_info)\n",
    "\n",
    "# Identify missing or unknown data values documented in feature_info table and convert them to NaNs.\n",
    "azdias = replace_unknown_value_with_nan(azdias, feature_info)\n",
    "\n",
    "azdias.head()"
   ]
  },
  {
   "cell_type": "markdown",
   "metadata": {},
   "source": [
    "##### Note: For attributes that were not documented in feature table, we can only assume that except 'NaN', there is no other unknown values "
   ]
  },
  {
   "cell_type": "code",
   "execution_count": 24,
   "metadata": {
    "scrolled": false
   },
   "outputs": [
    {
     "data": {
      "text/html": [
       "<div>\n",
       "<style scoped>\n",
       "    .dataframe tbody tr th:only-of-type {\n",
       "        vertical-align: middle;\n",
       "    }\n",
       "\n",
       "    .dataframe tbody tr th {\n",
       "        vertical-align: top;\n",
       "    }\n",
       "\n",
       "    .dataframe thead th {\n",
       "        text-align: right;\n",
       "    }\n",
       "</style>\n",
       "<table border=\"1\" class=\"dataframe\">\n",
       "  <thead>\n",
       "    <tr style=\"text-align: right;\">\n",
       "      <th></th>\n",
       "      <th>ALTER_KIND4</th>\n",
       "      <th>ALTER_KIND2</th>\n",
       "      <th>VHN</th>\n",
       "      <th>KBA13_HHZ</th>\n",
       "      <th>KBA13_ANTG2</th>\n",
       "      <th>D19_DROGERIEARTIKEL</th>\n",
       "      <th>D19_SONSTIGE</th>\n",
       "      <th>DSL_FLAG</th>\n",
       "      <th>UMFELD_ALT</th>\n",
       "      <th>ALTER_KIND3</th>\n",
       "      <th>...</th>\n",
       "      <th>D19_GESAMT_ANZ_24</th>\n",
       "      <th>D19_TELKO_REST</th>\n",
       "      <th>RT_SCHNAEPPCHEN</th>\n",
       "      <th>D19_BANKEN_ANZ_24</th>\n",
       "      <th>D19_GARTEN</th>\n",
       "      <th>D19_VERSI_ONLINE_QUOTE_12</th>\n",
       "      <th>KOMBIALTER</th>\n",
       "      <th>D19_SOZIALES</th>\n",
       "      <th>D19_BANKEN_REST</th>\n",
       "      <th>D19_BEKLEIDUNG_REST</th>\n",
       "    </tr>\n",
       "  </thead>\n",
       "  <tbody>\n",
       "    <tr>\n",
       "      <th>count</th>\n",
       "      <td>1205.000000</td>\n",
       "      <td>29499.000000</td>\n",
       "      <td>770025.000000</td>\n",
       "      <td>785421.000000</td>\n",
       "      <td>785421.000000</td>\n",
       "      <td>891221.000000</td>\n",
       "      <td>891221.000000</td>\n",
       "      <td>798073.000000</td>\n",
       "      <td>793435.000000</td>\n",
       "      <td>6170.000000</td>\n",
       "      <td>...</td>\n",
       "      <td>385918.000000</td>\n",
       "      <td>891221.000000</td>\n",
       "      <td>886367.000000</td>\n",
       "      <td>97121.000000</td>\n",
       "      <td>891221.000000</td>\n",
       "      <td>634108.000000</td>\n",
       "      <td>891221.000000</td>\n",
       "      <td>634108.000000</td>\n",
       "      <td>891221.000000</td>\n",
       "      <td>891221.000000</td>\n",
       "    </tr>\n",
       "    <tr>\n",
       "      <th>unique</th>\n",
       "      <td>NaN</td>\n",
       "      <td>NaN</td>\n",
       "      <td>NaN</td>\n",
       "      <td>NaN</td>\n",
       "      <td>NaN</td>\n",
       "      <td>NaN</td>\n",
       "      <td>NaN</td>\n",
       "      <td>NaN</td>\n",
       "      <td>NaN</td>\n",
       "      <td>NaN</td>\n",
       "      <td>...</td>\n",
       "      <td>NaN</td>\n",
       "      <td>NaN</td>\n",
       "      <td>NaN</td>\n",
       "      <td>NaN</td>\n",
       "      <td>NaN</td>\n",
       "      <td>NaN</td>\n",
       "      <td>NaN</td>\n",
       "      <td>NaN</td>\n",
       "      <td>NaN</td>\n",
       "      <td>NaN</td>\n",
       "    </tr>\n",
       "    <tr>\n",
       "      <th>top</th>\n",
       "      <td>NaN</td>\n",
       "      <td>NaN</td>\n",
       "      <td>NaN</td>\n",
       "      <td>NaN</td>\n",
       "      <td>NaN</td>\n",
       "      <td>NaN</td>\n",
       "      <td>NaN</td>\n",
       "      <td>NaN</td>\n",
       "      <td>NaN</td>\n",
       "      <td>NaN</td>\n",
       "      <td>...</td>\n",
       "      <td>NaN</td>\n",
       "      <td>NaN</td>\n",
       "      <td>NaN</td>\n",
       "      <td>NaN</td>\n",
       "      <td>NaN</td>\n",
       "      <td>NaN</td>\n",
       "      <td>NaN</td>\n",
       "      <td>NaN</td>\n",
       "      <td>NaN</td>\n",
       "      <td>NaN</td>\n",
       "    </tr>\n",
       "    <tr>\n",
       "      <th>freq</th>\n",
       "      <td>NaN</td>\n",
       "      <td>NaN</td>\n",
       "      <td>NaN</td>\n",
       "      <td>NaN</td>\n",
       "      <td>NaN</td>\n",
       "      <td>NaN</td>\n",
       "      <td>NaN</td>\n",
       "      <td>NaN</td>\n",
       "      <td>NaN</td>\n",
       "      <td>NaN</td>\n",
       "      <td>...</td>\n",
       "      <td>NaN</td>\n",
       "      <td>NaN</td>\n",
       "      <td>NaN</td>\n",
       "      <td>NaN</td>\n",
       "      <td>NaN</td>\n",
       "      <td>NaN</td>\n",
       "      <td>NaN</td>\n",
       "      <td>NaN</td>\n",
       "      <td>NaN</td>\n",
       "      <td>NaN</td>\n",
       "    </tr>\n",
       "    <tr>\n",
       "      <th>mean</th>\n",
       "      <td>15.089627</td>\n",
       "      <td>13.402658</td>\n",
       "      <td>2.417322</td>\n",
       "      <td>3.573068</td>\n",
       "      <td>2.777878</td>\n",
       "      <td>0.673292</td>\n",
       "      <td>2.365959</td>\n",
       "      <td>0.967816</td>\n",
       "      <td>3.223125</td>\n",
       "      <td>14.476013</td>\n",
       "      <td>...</td>\n",
       "      <td>2.864013</td>\n",
       "      <td>0.779996</td>\n",
       "      <td>3.863797</td>\n",
       "      <td>2.017957</td>\n",
       "      <td>0.255993</td>\n",
       "      <td>0.025228</td>\n",
       "      <td>3.517955</td>\n",
       "      <td>0.657908</td>\n",
       "      <td>0.425645</td>\n",
       "      <td>1.145516</td>\n",
       "    </tr>\n",
       "    <tr>\n",
       "      <th>std</th>\n",
       "      <td>2.452932</td>\n",
       "      <td>3.243300</td>\n",
       "      <td>1.166572</td>\n",
       "      <td>0.978024</td>\n",
       "      <td>0.932685</td>\n",
       "      <td>1.752758</td>\n",
       "      <td>2.861577</td>\n",
       "      <td>0.176488</td>\n",
       "      <td>1.255785</td>\n",
       "      <td>2.712427</td>\n",
       "      <td>...</td>\n",
       "      <td>1.497983</td>\n",
       "      <td>1.969724</td>\n",
       "      <td>1.282747</td>\n",
       "      <td>1.226588</td>\n",
       "      <td>1.213048</td>\n",
       "      <td>0.498010</td>\n",
       "      <td>2.110462</td>\n",
       "      <td>1.457774</td>\n",
       "      <td>1.510782</td>\n",
       "      <td>2.266999</td>\n",
       "    </tr>\n",
       "    <tr>\n",
       "      <th>min</th>\n",
       "      <td>7.000000</td>\n",
       "      <td>2.000000</td>\n",
       "      <td>0.000000</td>\n",
       "      <td>1.000000</td>\n",
       "      <td>0.000000</td>\n",
       "      <td>0.000000</td>\n",
       "      <td>0.000000</td>\n",
       "      <td>0.000000</td>\n",
       "      <td>1.000000</td>\n",
       "      <td>4.000000</td>\n",
       "      <td>...</td>\n",
       "      <td>1.000000</td>\n",
       "      <td>0.000000</td>\n",
       "      <td>1.000000</td>\n",
       "      <td>1.000000</td>\n",
       "      <td>0.000000</td>\n",
       "      <td>0.000000</td>\n",
       "      <td>1.000000</td>\n",
       "      <td>0.000000</td>\n",
       "      <td>0.000000</td>\n",
       "      <td>0.000000</td>\n",
       "    </tr>\n",
       "    <tr>\n",
       "      <th>25%</th>\n",
       "      <td>14.000000</td>\n",
       "      <td>11.000000</td>\n",
       "      <td>2.000000</td>\n",
       "      <td>3.000000</td>\n",
       "      <td>2.000000</td>\n",
       "      <td>0.000000</td>\n",
       "      <td>0.000000</td>\n",
       "      <td>1.000000</td>\n",
       "      <td>2.000000</td>\n",
       "      <td>13.000000</td>\n",
       "      <td>...</td>\n",
       "      <td>2.000000</td>\n",
       "      <td>0.000000</td>\n",
       "      <td>3.000000</td>\n",
       "      <td>1.000000</td>\n",
       "      <td>0.000000</td>\n",
       "      <td>0.000000</td>\n",
       "      <td>2.000000</td>\n",
       "      <td>0.000000</td>\n",
       "      <td>0.000000</td>\n",
       "      <td>0.000000</td>\n",
       "    </tr>\n",
       "    <tr>\n",
       "      <th>50%</th>\n",
       "      <td>15.000000</td>\n",
       "      <td>14.000000</td>\n",
       "      <td>2.000000</td>\n",
       "      <td>3.000000</td>\n",
       "      <td>3.000000</td>\n",
       "      <td>0.000000</td>\n",
       "      <td>0.000000</td>\n",
       "      <td>1.000000</td>\n",
       "      <td>3.000000</td>\n",
       "      <td>15.000000</td>\n",
       "      <td>...</td>\n",
       "      <td>3.000000</td>\n",
       "      <td>0.000000</td>\n",
       "      <td>4.000000</td>\n",
       "      <td>2.000000</td>\n",
       "      <td>0.000000</td>\n",
       "      <td>0.000000</td>\n",
       "      <td>3.000000</td>\n",
       "      <td>0.000000</td>\n",
       "      <td>0.000000</td>\n",
       "      <td>0.000000</td>\n",
       "    </tr>\n",
       "    <tr>\n",
       "      <th>75%</th>\n",
       "      <td>17.000000</td>\n",
       "      <td>16.000000</td>\n",
       "      <td>3.000000</td>\n",
       "      <td>4.000000</td>\n",
       "      <td>3.000000</td>\n",
       "      <td>0.000000</td>\n",
       "      <td>6.000000</td>\n",
       "      <td>1.000000</td>\n",
       "      <td>4.000000</td>\n",
       "      <td>17.000000</td>\n",
       "      <td>...</td>\n",
       "      <td>4.000000</td>\n",
       "      <td>0.000000</td>\n",
       "      <td>5.000000</td>\n",
       "      <td>3.000000</td>\n",
       "      <td>0.000000</td>\n",
       "      <td>0.000000</td>\n",
       "      <td>4.000000</td>\n",
       "      <td>0.000000</td>\n",
       "      <td>0.000000</td>\n",
       "      <td>0.000000</td>\n",
       "    </tr>\n",
       "    <tr>\n",
       "      <th>max</th>\n",
       "      <td>18.000000</td>\n",
       "      <td>18.000000</td>\n",
       "      <td>4.000000</td>\n",
       "      <td>5.000000</td>\n",
       "      <td>4.000000</td>\n",
       "      <td>7.000000</td>\n",
       "      <td>7.000000</td>\n",
       "      <td>1.000000</td>\n",
       "      <td>5.000000</td>\n",
       "      <td>18.000000</td>\n",
       "      <td>...</td>\n",
       "      <td>6.000000</td>\n",
       "      <td>7.000000</td>\n",
       "      <td>5.000000</td>\n",
       "      <td>6.000000</td>\n",
       "      <td>7.000000</td>\n",
       "      <td>10.000000</td>\n",
       "      <td>9.000000</td>\n",
       "      <td>5.000000</td>\n",
       "      <td>7.000000</td>\n",
       "      <td>7.000000</td>\n",
       "    </tr>\n",
       "  </tbody>\n",
       "</table>\n",
       "<p>11 rows × 101 columns</p>\n",
       "</div>"
      ],
      "text/plain": [
       "        ALTER_KIND4   ALTER_KIND2            VHN      KBA13_HHZ  \\\n",
       "count   1205.000000  29499.000000  770025.000000  785421.000000   \n",
       "unique          NaN           NaN            NaN            NaN   \n",
       "top             NaN           NaN            NaN            NaN   \n",
       "freq            NaN           NaN            NaN            NaN   \n",
       "mean      15.089627     13.402658       2.417322       3.573068   \n",
       "std        2.452932      3.243300       1.166572       0.978024   \n",
       "min        7.000000      2.000000       0.000000       1.000000   \n",
       "25%       14.000000     11.000000       2.000000       3.000000   \n",
       "50%       15.000000     14.000000       2.000000       3.000000   \n",
       "75%       17.000000     16.000000       3.000000       4.000000   \n",
       "max       18.000000     18.000000       4.000000       5.000000   \n",
       "\n",
       "          KBA13_ANTG2  D19_DROGERIEARTIKEL   D19_SONSTIGE       DSL_FLAG  \\\n",
       "count   785421.000000        891221.000000  891221.000000  798073.000000   \n",
       "unique            NaN                  NaN            NaN            NaN   \n",
       "top               NaN                  NaN            NaN            NaN   \n",
       "freq              NaN                  NaN            NaN            NaN   \n",
       "mean         2.777878             0.673292       2.365959       0.967816   \n",
       "std          0.932685             1.752758       2.861577       0.176488   \n",
       "min          0.000000             0.000000       0.000000       0.000000   \n",
       "25%          2.000000             0.000000       0.000000       1.000000   \n",
       "50%          3.000000             0.000000       0.000000       1.000000   \n",
       "75%          3.000000             0.000000       6.000000       1.000000   \n",
       "max          4.000000             7.000000       7.000000       1.000000   \n",
       "\n",
       "           UMFELD_ALT  ALTER_KIND3  ...  D19_GESAMT_ANZ_24 D19_TELKO_REST  \\\n",
       "count   793435.000000  6170.000000  ...      385918.000000  891221.000000   \n",
       "unique            NaN          NaN  ...                NaN            NaN   \n",
       "top               NaN          NaN  ...                NaN            NaN   \n",
       "freq              NaN          NaN  ...                NaN            NaN   \n",
       "mean         3.223125    14.476013  ...           2.864013       0.779996   \n",
       "std          1.255785     2.712427  ...           1.497983       1.969724   \n",
       "min          1.000000     4.000000  ...           1.000000       0.000000   \n",
       "25%          2.000000    13.000000  ...           2.000000       0.000000   \n",
       "50%          3.000000    15.000000  ...           3.000000       0.000000   \n",
       "75%          4.000000    17.000000  ...           4.000000       0.000000   \n",
       "max          5.000000    18.000000  ...           6.000000       7.000000   \n",
       "\n",
       "        RT_SCHNAEPPCHEN  D19_BANKEN_ANZ_24     D19_GARTEN  \\\n",
       "count     886367.000000       97121.000000  891221.000000   \n",
       "unique              NaN                NaN            NaN   \n",
       "top                 NaN                NaN            NaN   \n",
       "freq                NaN                NaN            NaN   \n",
       "mean           3.863797           2.017957       0.255993   \n",
       "std            1.282747           1.226588       1.213048   \n",
       "min            1.000000           1.000000       0.000000   \n",
       "25%            3.000000           1.000000       0.000000   \n",
       "50%            4.000000           2.000000       0.000000   \n",
       "75%            5.000000           3.000000       0.000000   \n",
       "max            5.000000           6.000000       7.000000   \n",
       "\n",
       "        D19_VERSI_ONLINE_QUOTE_12     KOMBIALTER   D19_SOZIALES  \\\n",
       "count               634108.000000  891221.000000  634108.000000   \n",
       "unique                        NaN            NaN            NaN   \n",
       "top                           NaN            NaN            NaN   \n",
       "freq                          NaN            NaN            NaN   \n",
       "mean                     0.025228       3.517955       0.657908   \n",
       "std                      0.498010       2.110462       1.457774   \n",
       "min                      0.000000       1.000000       0.000000   \n",
       "25%                      0.000000       2.000000       0.000000   \n",
       "50%                      0.000000       3.000000       0.000000   \n",
       "75%                      0.000000       4.000000       0.000000   \n",
       "max                     10.000000       9.000000       5.000000   \n",
       "\n",
       "        D19_BANKEN_REST  D19_BEKLEIDUNG_REST  \n",
       "count     891221.000000        891221.000000  \n",
       "unique              NaN                  NaN  \n",
       "top                 NaN                  NaN  \n",
       "freq                NaN                  NaN  \n",
       "mean           0.425645             1.145516  \n",
       "std            1.510782             2.266999  \n",
       "min            0.000000             0.000000  \n",
       "25%            0.000000             0.000000  \n",
       "50%            0.000000             0.000000  \n",
       "75%            0.000000             0.000000  \n",
       "max            7.000000             7.000000  \n",
       "\n",
       "[11 rows x 101 columns]"
      ]
     },
     "execution_count": 24,
     "metadata": {},
     "output_type": "execute_result"
    }
   ],
   "source": [
    "attributes_not_documented_in_feature_info = azdias[list(attributes_not_documented_in_feature_info)]\n",
    "attributes_not_documented_in_feature_info.describe(include = 'all')"
   ]
  },
  {
   "cell_type": "markdown",
   "metadata": {},
   "source": [
    "#### 1.2.3 Remove columns with more than 30% missing values and rows with more than 20% of missing values"
   ]
  },
  {
   "cell_type": "code",
   "execution_count": 25,
   "metadata": {
    "scrolled": true
   },
   "outputs": [
    {
     "name": "stdout",
     "output_type": "stream",
     "text": [
      "365\n",
      "                      feature  na_counts  na_percentage\n",
      "13                  ANZ_TITEL     891221       1.000000\n",
      "8         ANZ_HAUSHALTE_AKTIV     891221       1.000000\n",
      "191          KBA13_ANZAHL_PKW     891221       1.000000\n",
      "310          MIN_GEBAEUDEJAHR     891221       1.000000\n",
      "9                ANZ_HH_TITEL     891221       1.000000\n",
      "11               ANZ_PERSONEN     891221       1.000000\n",
      "110               GEBURTSJAHR     891221       1.000000\n",
      "6                 ALTER_KIND4     890016       0.998648\n",
      "348                  TITEL_KZ     889061       0.997576\n",
      "5                 ALTER_KIND3     885051       0.993077\n",
      "75     D19_TELKO_ONLINE_DATUM     883018       0.990796\n",
      "33   D19_BANKEN_OFFLINE_DATUM     871535       0.977911\n",
      "4                 ALTER_KIND2     861722       0.966900\n",
      "70           D19_TELKO_ANZ_12     857990       0.962713\n",
      "27          D19_BANKEN_ANZ_12     831734       0.933252\n",
      "71           D19_TELKO_ANZ_24     826208       0.927052\n",
      "86           D19_VERSI_ANZ_12     821289       0.921532\n",
      "74    D19_TELKO_OFFLINE_DATUM     819114       0.919092\n",
      "3                 ALTER_KIND1     810163       0.909048\n",
      "28          D19_BANKEN_ANZ_24     794100       0.891025\n",
      "(365, 3)\n"
     ]
    }
   ],
   "source": [
    "naCounts_by_column = azdias.isnull().sum()\n",
    "print(len(naCounts_by_column))\n",
    "naCountsDf = pd.DataFrame({'feature':azdias.columns.values,'na_counts':naCounts_by_column.values, 'na_percentage': naCounts_by_column.values/891221})\n",
    "naCountsDf = naCountsDf.sort_values(by = 'na_percentage', ascending = False)\n",
    "print(naCountsDf.head(20))\n",
    "print(naCountsDf.shape)"
   ]
  },
  {
   "cell_type": "code",
   "execution_count": 26,
   "metadata": {},
   "outputs": [
    {
     "name": "stdout",
     "output_type": "stream",
     "text": [
      "                         feature  na_counts  na_percentage\n",
      "13                     ANZ_TITEL     891221       1.000000\n",
      "8            ANZ_HAUSHALTE_AKTIV     891221       1.000000\n",
      "191             KBA13_ANZAHL_PKW     891221       1.000000\n",
      "310             MIN_GEBAEUDEJAHR     891221       1.000000\n",
      "9                   ANZ_HH_TITEL     891221       1.000000\n",
      "11                  ANZ_PERSONEN     891221       1.000000\n",
      "110                  GEBURTSJAHR     891221       1.000000\n",
      "6                    ALTER_KIND4     890016       0.998648\n",
      "348                     TITEL_KZ     889061       0.997576\n",
      "5                    ALTER_KIND3     885051       0.993077\n",
      "75        D19_TELKO_ONLINE_DATUM     883018       0.990796\n",
      "33      D19_BANKEN_OFFLINE_DATUM     871535       0.977911\n",
      "4                    ALTER_KIND2     861722       0.966900\n",
      "70              D19_TELKO_ANZ_12     857990       0.962713\n",
      "27             D19_BANKEN_ANZ_12     831734       0.933252\n",
      "71              D19_TELKO_ANZ_24     826208       0.927052\n",
      "86              D19_VERSI_ANZ_12     821289       0.921532\n",
      "74       D19_TELKO_OFFLINE_DATUM     819114       0.919092\n",
      "3                    ALTER_KIND1     810163       0.909048\n",
      "28             D19_BANKEN_ANZ_24     794100       0.891025\n",
      "87              D19_VERSI_ANZ_24     777037       0.871879\n",
      "34       D19_BANKEN_ONLINE_DATUM     726982       0.815715\n",
      "29              D19_BANKEN_DATUM     678331       0.761125\n",
      "0                       AGER_TYP     677503       0.760196\n",
      "72               D19_TELKO_DATUM     665798       0.747063\n",
      "99                     EXTSEL992     654153       0.733996\n",
      "79            D19_VERSAND_ANZ_12     637972       0.715840\n",
      "82     D19_VERSAND_OFFLINE_DATUM     634233       0.711645\n",
      "47             D19_GESAMT_ANZ_12     584797       0.656175\n",
      "299                 KK_KUNDENTYP     584612       0.655967\n",
      "80            D19_VERSAND_ANZ_24     563818       0.632635\n",
      "50      D19_GESAMT_OFFLINE_DATUM     558558       0.626733\n",
      "48             D19_GESAMT_ANZ_24     505303       0.566978\n",
      "83      D19_VERSAND_ONLINE_DATUM     494464       0.554816\n",
      "128                 KBA05_BAUMAX     476524       0.534687\n",
      "51       D19_GESAMT_ONLINE_DATUM     450995       0.506042\n",
      "81             D19_VERSAND_DATUM     437886       0.491333\n",
      "49              D19_GESAMT_DATUM     354170       0.397399\n",
      "2                       ALTER_HH     310267       0.348137\n",
      "7           ALTERSKATEGORIE_FEIN     262947       0.295041\n",
      "84   D19_VERSAND_ONLINE_QUOTE_12     257113       0.288495\n",
      "91     D19_VERSI_ONLINE_QUOTE_12     257113       0.288495\n",
      "68                  D19_SOZIALES     257113       0.288495\n",
      "61                     D19_LOTTO     257113       0.288495\n",
      "60      D19_LETZTER_KAUF_BRANCHE     257113       0.288495\n",
      "56                 D19_KONSUMTYP     257113       0.288495\n",
      "76     D19_TELKO_ONLINE_QUOTE_12     257113       0.288495\n",
      "52    D19_GESAMT_ONLINE_QUOTE_12     257113       0.288495\n",
      "35    D19_BANKEN_ONLINE_QUOTE_12     257113       0.288495\n",
      "325                     REGIOTYP     158064       0.177357\n",
      "300                          KKK     158064       0.177357\n",
      "127               KBA05_AUTOQUOT     148115       0.166193\n",
      "157                KBA05_MAXVORB     148110       0.166188\n",
      "137                 KBA05_HERST2     148110       0.166188\n",
      "173                   KBA05_SEG7     148110       0.166188\n",
      "174                   KBA05_SEG8     148110       0.166188\n",
      "175                   KBA05_SEG9     148110       0.166188\n",
      "176                  KBA05_VORB0     148110       0.166188\n",
      "177                  KBA05_VORB1     148110       0.166188\n",
      "178                  KBA05_VORB2     148110       0.166188\n"
     ]
    }
   ],
   "source": [
    "print(naCountsDf.head(60))"
   ]
  },
  {
   "cell_type": "code",
   "execution_count": 28,
   "metadata": {
    "scrolled": true
   },
   "outputs": [
    {
     "data": {
      "text/plain": [
       "Text(0, 0.5, 'No. of columns')"
      ]
     },
     "execution_count": 28,
     "metadata": {},
     "output_type": "execute_result"
    },
    {
     "data": {
      "image/png": "[encoded data removed]",
      "text/plain": [
       "<Figure size 432x288 with 1 Axes>"
      ]
     },
     "metadata": {
      "needs_background": "light"
     },
     "output_type": "display_data"
    }
   ],
   "source": [
    "# plot a histogram to show the distribution of column NaN percentage in attributes\n",
    "plt.hist(naCountsDf['na_percentage'],bins=50)\n",
    "plt.xlabel('% of missing values in each column')\n",
    "plt.ylabel('No. of columns')"
   ]
  },
  {
   "cell_type": "code",
   "execution_count": 29,
   "metadata": {
    "scrolled": true
   },
   "outputs": [
    {
     "name": "stdout",
     "output_type": "stream",
     "text": [
      "Index(['AGER_TYP', 'ALTER_KIND1', 'ALTER_KIND2', 'ALTER_KIND3', 'ALTER_KIND4',\n",
      "       'ANZ_HAUSHALTE_AKTIV', 'ANZ_HH_TITEL', 'ANZ_PERSONEN', 'ANZ_TITEL',\n",
      "       'D19_BANKEN_ANZ_12', 'D19_BANKEN_ANZ_24', 'D19_BANKEN_DATUM',\n",
      "       'D19_BANKEN_OFFLINE_DATUM', 'D19_BANKEN_ONLINE_DATUM',\n",
      "       'D19_GESAMT_ANZ_12', 'D19_GESAMT_ANZ_24', 'D19_GESAMT_DATUM',\n",
      "       'D19_GESAMT_OFFLINE_DATUM', 'D19_GESAMT_ONLINE_DATUM',\n",
      "       'D19_TELKO_ANZ_12', 'D19_TELKO_ANZ_24', 'D19_TELKO_DATUM',\n",
      "       'D19_TELKO_OFFLINE_DATUM', 'D19_TELKO_ONLINE_DATUM',\n",
      "       'D19_VERSAND_ANZ_12', 'D19_VERSAND_ANZ_24', 'D19_VERSAND_DATUM',\n",
      "       'D19_VERSAND_OFFLINE_DATUM', 'D19_VERSAND_ONLINE_DATUM',\n",
      "       'D19_VERSI_ANZ_12', 'D19_VERSI_ANZ_24', 'EXTSEL992', 'GEBURTSJAHR',\n",
      "       'KBA05_BAUMAX', 'KBA13_ANZAHL_PKW', 'KK_KUNDENTYP', 'MIN_GEBAEUDEJAHR',\n",
      "       'TITEL_KZ'],\n",
      "      dtype='object')\n",
      "Number of columns that have more than 35% missing values:  38\n",
      "(891221, 327)\n"
     ]
    }
   ],
   "source": [
    "# Remove columns with columns with more than 200,000 missing values from the dataset.\n",
    "azdias_rm_col = [index for index,value in enumerate(naCounts_by_column) if value/azdias.shape[0] > 0.35]\n",
    "azdias_rm_col = azdias.columns[azdias_rm_col]\n",
    "azdias_column_filtered = azdias.drop(azdias_rm_col, axis=1)\n",
    "print(azdias_rm_col)\n",
    "print('Number of columns that have more than 35% missing values: ',len(azdias_rm_col))\n",
    "print(azdias_column_filtered.shape)"
   ]
  },
  {
   "cell_type": "code",
   "execution_count": 121,
   "metadata": {},
   "outputs": [
    {
     "data": {
      "text/plain": [
       "Text(0, 0.5, 'No. of rows')"
      ]
     },
     "execution_count": 121,
     "metadata": {},
     "output_type": "execute_result"
    },
    {
     "data": {
      "image/png": "[encoded data removed]",
      "text/plain": [
       "<Figure size 432x288 with 1 Axes>"
      ]
     },
     "metadata": {
      "needs_background": "light"
     },
     "output_type": "display_data"
    }
   ],
   "source": [
    "# plot a histogram to show the distribution of column NaN counts in attributes\n",
    "plt.hist(azdias_column_filtered['naCounts_by_row'],bins=50)\n",
    "plt.xlabel('% of missing values in each row')\n",
    "plt.ylabel('No. of rows')"
   ]
  },
  {
   "cell_type": "code",
   "execution_count": 32,
   "metadata": {},
   "outputs": [
    {
     "name": "stdout",
     "output_type": "stream",
     "text": [
      "(754092, 327)\n",
      "Number of rows removed: 137129\n"
     ]
    }
   ],
   "source": [
    "# remove the rows with more than 20% of missing values in each row.\n",
    "azdias_column_row_filtered = azdias_column_filtered[azdias_column_filtered['naPercentage_by_row'] < 0.2] #extract rows with less than 30 missing data for further analysis\n",
    "azdias_column_row_filtered = azdias_column_row_filtered.drop(['naCounts_by_row','naPercentage_by_row'], axis = 1)\n",
    "print(azdias_column_row_filtered.shape)\n",
    "rm_row_number = azdias_column_filtered.shape[0] - azdias_column_row_filtered.shape[0]\n",
    "print(\"Number of rows removed:\",rm_row_number)"
   ]
  },
  {
   "cell_type": "markdown",
   "metadata": {},
   "source": [
    "#### 1.2.4 Re-engineer features\n",
    "##### These features need to be handled specifically: \n",
    "- \"CAMEO_DEUINTL_2015\" combines information on two axes: wealth and life stage. Break up the two-digit codes by their 'tens'-place and 'ones'-place digits into two new ordinal variables \n",
    "- \"PRAEGENDE_JUGENDJAHRE\" combines information on three dimensions: generation by decade, movement (mainstream vs. avantgarde), and nation (east vs. west).\n",
    "- \"LP_STATUS_GROB\" and \"LP_FAMILIE_GROB\" use different values to represent the same  meaning, so these values need to be combined"
   ]
  },
  {
   "cell_type": "code",
   "execution_count": 33,
   "metadata": {
    "scrolled": false
   },
   "outputs": [
    {
     "name": "stdout",
     "output_type": "stream",
     "text": [
      "5.0    214046\n",
      "4.0    183131\n",
      "2.0    176565\n",
      "1.0    113555\n",
      "3.0     63396\n",
      "Name: CAMEO_INTL_2015_wealth, dtype: int64\n",
      "1.0    233951\n",
      "4.0    222038\n",
      "5.0    111517\n",
      "3.0    109702\n",
      "2.0     73485\n",
      "Name: CAMEO_INTL_2015_life, dtype: int64\n"
     ]
    }
   ],
   "source": [
    "split_CAMEO_INTL_2015(azdias_column_row_filtered)\n",
    "split_PRAEGENDE_JUGENDJAHRE(azdias_column_row_filtered)\n",
    "engineer_LP_STATUS_GROB(azdias_column_row_filtered)\n",
    "engineer_LP_FAMILIE_GROB(azdias_column_row_filtered)\n",
    "print(azdias_column_row_filtered['CAMEO_INTL_2015_wealth'].value_counts())\n",
    "print(azdias_column_row_filtered['CAMEO_INTL_2015_life'].value_counts())"
   ]
  },
  {
   "cell_type": "code",
   "execution_count": 34,
   "metadata": {},
   "outputs": [],
   "source": [
    "#drop 'LP_LEBENSPHASE_FEIN' and 'CAMEO_DEU_2015' features as its information is redundant with other features in the table\n",
    "azdias_column_row_filtered = azdias_column_row_filtered.drop(['LP_LEBENSPHASE_FEIN', 'CAMEO_DEU_2015'], axis=1)\n",
    "\n",
    "# 'EINGEFUEGT_AM' seems like a datetime variable and doesn't provide valuable information to our purpose, so it is dropped\n",
    "azdias_column_row_filtered.drop('EINGEFUEGT_AM', axis=1, inplace=True)"
   ]
  },
  {
   "cell_type": "markdown",
   "metadata": {},
   "source": [
    "#### 1.2.5  Re-encode object features"
   ]
  },
  {
   "cell_type": "code",
   "execution_count": 35,
   "metadata": {
    "scrolled": true
   },
   "outputs": [
    {
     "name": "stdout",
     "output_type": "stream",
     "text": [
      "float64    261\n",
      "int64       64\n",
      "object       2\n",
      "dtype: int64\n",
      "       D19_LETZTER_KAUF_BRANCHE OST_WEST_KZ\n",
      "count                    589922      754092\n",
      "unique                       35           2\n",
      "top               D19_UNBEKANNT           W\n",
      "freq                     184336      594391\n"
     ]
    }
   ],
   "source": [
    "#find categorical attribute in azdias_not_documented dataset, leave the ordinal variables unchanged\n",
    "categorical_attribute = azdias_column_row_filtered.select_dtypes(include = 'object').columns.values\n",
    "print(azdias_column_row_filtered.dtypes.value_counts())\n",
    "print(azdias_column_row_filtered[categorical_attribute].describe())"
   ]
  },
  {
   "cell_type": "code",
   "execution_count": 36,
   "metadata": {
    "scrolled": false
   },
   "outputs": [
    {
     "data": {
      "text/html": [
       "<div>\n",
       "<style scoped>\n",
       "    .dataframe tbody tr th:only-of-type {\n",
       "        vertical-align: middle;\n",
       "    }\n",
       "\n",
       "    .dataframe tbody tr th {\n",
       "        vertical-align: top;\n",
       "    }\n",
       "\n",
       "    .dataframe thead th {\n",
       "        text-align: right;\n",
       "    }\n",
       "</style>\n",
       "<table border=\"1\" class=\"dataframe\">\n",
       "  <thead>\n",
       "    <tr style=\"text-align: right;\">\n",
       "      <th></th>\n",
       "      <th>Attribute</th>\n",
       "      <th>Type</th>\n",
       "    </tr>\n",
       "  </thead>\n",
       "  <tbody>\n",
       "    <tr>\n",
       "      <th>0</th>\n",
       "      <td>AGER_TYP</td>\n",
       "      <td>ordinal</td>\n",
       "    </tr>\n",
       "    <tr>\n",
       "      <th>1</th>\n",
       "      <td>AKT_DAT_KL</td>\n",
       "      <td>ordinal</td>\n",
       "    </tr>\n",
       "    <tr>\n",
       "      <th>2</th>\n",
       "      <td>ALTER_HH</td>\n",
       "      <td>ordinal</td>\n",
       "    </tr>\n",
       "    <tr>\n",
       "      <th>3</th>\n",
       "      <td>ALTER_KIND1</td>\n",
       "      <td>ordinal</td>\n",
       "    </tr>\n",
       "    <tr>\n",
       "      <th>4</th>\n",
       "      <td>ALTER_KIND2</td>\n",
       "      <td>ordinal</td>\n",
       "    </tr>\n",
       "  </tbody>\n",
       "</table>\n",
       "</div>"
      ],
      "text/plain": [
       "     Attribute     Type\n",
       "0     AGER_TYP  ordinal\n",
       "1   AKT_DAT_KL  ordinal\n",
       "2     ALTER_HH  ordinal\n",
       "3  ALTER_KIND1  ordinal\n",
       "4  ALTER_KIND2  ordinal"
      ]
     },
     "execution_count": 36,
     "metadata": {},
     "output_type": "execute_result"
    }
   ],
   "source": [
    "feature_info_new = pd.read_csv('./feature_info_reorganize_manually_curated.csv', sep=',',\\\n",
    "                              index_col = 0)\n",
    "feature_info_new.head()"
   ]
  },
  {
   "cell_type": "code",
   "execution_count": 37,
   "metadata": {
    "scrolled": true
   },
   "outputs": [
    {
     "name": "stdout",
     "output_type": "stream",
     "text": [
      "(754092, 422)\n"
     ]
    }
   ],
   "source": [
    "# Re-encode 'D19_LETZTER_KAUF_BRANCHE' and 'OST_WEST_KZ'.\n",
    "#azdias_low_category_1 = azdias_low_category.drop(['CAMEO_DEU_2015'], axis=1) #CAMEO_DEU_2015 is dropped because it has too many categories and some\n",
    "                                                        # might be overlap in one person\n",
    "categorical_attribute = feature_info_new[feature_info_new['Type'] == 'categorical'].Attribute\n",
    "attributes_after_filtered = azdias_column_row_filtered.columns.values.tolist() \n",
    "attribute_get_dummies = [value for value in categorical_attribute if value in attributes_after_filtered] #find the attributes that were kept in the filtered dataset\n",
    "\n",
    "azdias_filtered_encoded = pd.get_dummies(azdias_column_row_filtered[attribute_get_dummies].astype(str))\n",
    "azdias_filtered_encoded = pd.concat([azdias_column_row_filtered, azdias_filtered_encoded],axis=1)\n",
    "azdias_filtered_encoded = azdias_filtered_encoded.drop(attribute_get_dummies, axis=1)\n",
    "print(azdias_filtered_encoded.shape)"
   ]
  },
  {
   "cell_type": "markdown",
   "metadata": {},
   "source": [
    "#### 1.2.6 Build a cleaning function for cleaning customer data"
   ]
  },
  {
   "cell_type": "code",
   "execution_count": 38,
   "metadata": {},
   "outputs": [],
   "source": [
    "def clean_data(data, feat_info, azdias_rm_col, attribute_get_dummies):\n",
    "    \"\"\"\n",
    "    Perform feature trimming, re-encoding, and engineering for demographics\n",
    "    data\n",
    "    \n",
    "    INPUT: Demographics DataFrame\n",
    "    OUTPUT: Trimmed and cleaned demographics DataFrame\n",
    "    \"\"\"\n",
    "    data['CAMEO_DEUG_2015'] = data['CAMEO_DEUG_2015'].replace({'X':np.nan}).astype(float)\n",
    "    data['CAMEO_INTL_2015'] = data['CAMEO_INTL_2015'].replace({'XX':np.nan}).astype(float)\n",
    "    data = replace_no_meaning_value_with_nan(data, feat_info)\n",
    "    data = replace_unknown_value_with_nan(data, feat_info)\n",
    "    data = remove_columns_rows_by_NA_counts(data, azdias_rm_col)\n",
    "    \n",
    "    split_CAMEO_INTL_2015(data)\n",
    "    split_PRAEGENDE_JUGENDJAHRE(data)\n",
    "    engineer_LP_STATUS_GROB(data)\n",
    "    engineer_LP_FAMILIE_GROB(data)\n",
    "    \n",
    "    \n",
    "    data.drop(['LP_LEBENSPHASE_FEIN','CAMEO_DEU_2015', 'EINGEFUEGT_AM'], axis=1, inplace = True)\n",
    "    data_encoded = pd.get_dummies(data[attribute_get_dummies].astype(str))\n",
    "    data_encoded = pd.concat([data, data_encoded],axis=1)\n",
    "    data_encoded.drop(data_encoded[attribute_get_dummies], axis=1, inplace = True)\n",
    "    return data_encoded"
   ]
  },
  {
   "cell_type": "markdown",
   "metadata": {},
   "source": [
    "### 1.3 Primary component analysis (PCA) and K-means clustering of population dataset  \n",
    "#### 1.3.1 Imputation, feature selection and scaling"
   ]
  },
  {
   "cell_type": "code",
   "execution_count": 39,
   "metadata": {
    "scrolled": false
   },
   "outputs": [],
   "source": [
    "# Fill in NaN values with the most frequent values in each column\n",
    "imputer = SimpleImputer(missing_values=nan, strategy='most_frequent', verbose=0)\n",
    "azdias_nan_filled = pd.DataFrame(imputer.fit_transform(azdias_filtered_encoded))\n",
    "azdias_nan_filled.columns = azdias_filtered_encoded.columns"
   ]
  },
  {
   "cell_type": "code",
   "execution_count": 40,
   "metadata": {},
   "outputs": [
    {
     "data": {
      "text/html": [
       "<div>\n",
       "<style scoped>\n",
       "    .dataframe tbody tr th:only-of-type {\n",
       "        vertical-align: middle;\n",
       "    }\n",
       "\n",
       "    .dataframe tbody tr th {\n",
       "        vertical-align: top;\n",
       "    }\n",
       "\n",
       "    .dataframe thead th {\n",
       "        text-align: right;\n",
       "    }\n",
       "</style>\n",
       "<table border=\"1\" class=\"dataframe\">\n",
       "  <thead>\n",
       "    <tr style=\"text-align: right;\">\n",
       "      <th></th>\n",
       "      <th>AKT_DAT_KL</th>\n",
       "      <th>ALTER_HH</th>\n",
       "      <th>ALTERSKATEGORIE_FEIN</th>\n",
       "      <th>ANZ_KINDER</th>\n",
       "      <th>ANZ_STATISTISCHE_HAUSHALTE</th>\n",
       "      <th>ARBEIT</th>\n",
       "      <th>BALLRAUM</th>\n",
       "      <th>CAMEO_DEUG_2015</th>\n",
       "      <th>CJT_KATALOGNUTZER</th>\n",
       "      <th>CJT_TYP_1</th>\n",
       "      <th>...</th>\n",
       "      <th>SHOPPER_TYP_0.0</th>\n",
       "      <th>SHOPPER_TYP_1.0</th>\n",
       "      <th>SHOPPER_TYP_2.0</th>\n",
       "      <th>SHOPPER_TYP_3.0</th>\n",
       "      <th>SHOPPER_TYP_nan</th>\n",
       "      <th>VERS_TYP_1.0</th>\n",
       "      <th>VERS_TYP_2.0</th>\n",
       "      <th>VERS_TYP_nan</th>\n",
       "      <th>ANREDE_KZ_1</th>\n",
       "      <th>ANREDE_KZ_2</th>\n",
       "    </tr>\n",
       "  </thead>\n",
       "  <tbody>\n",
       "    <tr>\n",
       "      <th>0</th>\n",
       "      <td>9.0</td>\n",
       "      <td>18.0</td>\n",
       "      <td>21.0</td>\n",
       "      <td>0.0</td>\n",
       "      <td>12.0</td>\n",
       "      <td>3.0</td>\n",
       "      <td>6.0</td>\n",
       "      <td>8.0</td>\n",
       "      <td>1.0</td>\n",
       "      <td>5.0</td>\n",
       "      <td>...</td>\n",
       "      <td>0.0</td>\n",
       "      <td>0.0</td>\n",
       "      <td>0.0</td>\n",
       "      <td>1.0</td>\n",
       "      <td>0.0</td>\n",
       "      <td>0.0</td>\n",
       "      <td>1.0</td>\n",
       "      <td>0.0</td>\n",
       "      <td>0.0</td>\n",
       "      <td>1.0</td>\n",
       "    </tr>\n",
       "    <tr>\n",
       "      <th>1</th>\n",
       "      <td>9.0</td>\n",
       "      <td>17.0</td>\n",
       "      <td>17.0</td>\n",
       "      <td>0.0</td>\n",
       "      <td>7.0</td>\n",
       "      <td>3.0</td>\n",
       "      <td>2.0</td>\n",
       "      <td>4.0</td>\n",
       "      <td>2.0</td>\n",
       "      <td>4.0</td>\n",
       "      <td>...</td>\n",
       "      <td>0.0</td>\n",
       "      <td>0.0</td>\n",
       "      <td>1.0</td>\n",
       "      <td>0.0</td>\n",
       "      <td>0.0</td>\n",
       "      <td>1.0</td>\n",
       "      <td>0.0</td>\n",
       "      <td>0.0</td>\n",
       "      <td>0.0</td>\n",
       "      <td>1.0</td>\n",
       "    </tr>\n",
       "    <tr>\n",
       "      <th>2</th>\n",
       "      <td>1.0</td>\n",
       "      <td>13.0</td>\n",
       "      <td>13.0</td>\n",
       "      <td>0.0</td>\n",
       "      <td>2.0</td>\n",
       "      <td>2.0</td>\n",
       "      <td>4.0</td>\n",
       "      <td>2.0</td>\n",
       "      <td>3.0</td>\n",
       "      <td>2.0</td>\n",
       "      <td>...</td>\n",
       "      <td>0.0</td>\n",
       "      <td>1.0</td>\n",
       "      <td>0.0</td>\n",
       "      <td>0.0</td>\n",
       "      <td>0.0</td>\n",
       "      <td>1.0</td>\n",
       "      <td>0.0</td>\n",
       "      <td>0.0</td>\n",
       "      <td>0.0</td>\n",
       "      <td>1.0</td>\n",
       "    </tr>\n",
       "    <tr>\n",
       "      <th>3</th>\n",
       "      <td>1.0</td>\n",
       "      <td>20.0</td>\n",
       "      <td>14.0</td>\n",
       "      <td>0.0</td>\n",
       "      <td>3.0</td>\n",
       "      <td>4.0</td>\n",
       "      <td>2.0</td>\n",
       "      <td>6.0</td>\n",
       "      <td>3.0</td>\n",
       "      <td>3.0</td>\n",
       "      <td>...</td>\n",
       "      <td>0.0</td>\n",
       "      <td>0.0</td>\n",
       "      <td>1.0</td>\n",
       "      <td>0.0</td>\n",
       "      <td>0.0</td>\n",
       "      <td>0.0</td>\n",
       "      <td>1.0</td>\n",
       "      <td>0.0</td>\n",
       "      <td>1.0</td>\n",
       "      <td>0.0</td>\n",
       "    </tr>\n",
       "    <tr>\n",
       "      <th>4</th>\n",
       "      <td>1.0</td>\n",
       "      <td>10.0</td>\n",
       "      <td>10.0</td>\n",
       "      <td>0.0</td>\n",
       "      <td>2.0</td>\n",
       "      <td>2.0</td>\n",
       "      <td>6.0</td>\n",
       "      <td>8.0</td>\n",
       "      <td>5.0</td>\n",
       "      <td>2.0</td>\n",
       "      <td>...</td>\n",
       "      <td>1.0</td>\n",
       "      <td>0.0</td>\n",
       "      <td>0.0</td>\n",
       "      <td>0.0</td>\n",
       "      <td>0.0</td>\n",
       "      <td>0.0</td>\n",
       "      <td>1.0</td>\n",
       "      <td>0.0</td>\n",
       "      <td>0.0</td>\n",
       "      <td>1.0</td>\n",
       "    </tr>\n",
       "  </tbody>\n",
       "</table>\n",
       "<p>5 rows × 422 columns</p>\n",
       "</div>"
      ],
      "text/plain": [
       "   AKT_DAT_KL  ALTER_HH  ALTERSKATEGORIE_FEIN  ANZ_KINDER  \\\n",
       "0         9.0      18.0                  21.0         0.0   \n",
       "1         9.0      17.0                  17.0         0.0   \n",
       "2         1.0      13.0                  13.0         0.0   \n",
       "3         1.0      20.0                  14.0         0.0   \n",
       "4         1.0      10.0                  10.0         0.0   \n",
       "\n",
       "   ANZ_STATISTISCHE_HAUSHALTE  ARBEIT  BALLRAUM  CAMEO_DEUG_2015  \\\n",
       "0                        12.0     3.0       6.0              8.0   \n",
       "1                         7.0     3.0       2.0              4.0   \n",
       "2                         2.0     2.0       4.0              2.0   \n",
       "3                         3.0     4.0       2.0              6.0   \n",
       "4                         2.0     2.0       6.0              8.0   \n",
       "\n",
       "   CJT_KATALOGNUTZER  CJT_TYP_1  ...  SHOPPER_TYP_0.0  SHOPPER_TYP_1.0  \\\n",
       "0                1.0        5.0  ...              0.0              0.0   \n",
       "1                2.0        4.0  ...              0.0              0.0   \n",
       "2                3.0        2.0  ...              0.0              1.0   \n",
       "3                3.0        3.0  ...              0.0              0.0   \n",
       "4                5.0        2.0  ...              1.0              0.0   \n",
       "\n",
       "   SHOPPER_TYP_2.0  SHOPPER_TYP_3.0  SHOPPER_TYP_nan  VERS_TYP_1.0  \\\n",
       "0              0.0              1.0              0.0           0.0   \n",
       "1              1.0              0.0              0.0           1.0   \n",
       "2              0.0              0.0              0.0           1.0   \n",
       "3              1.0              0.0              0.0           0.0   \n",
       "4              0.0              0.0              0.0           0.0   \n",
       "\n",
       "   VERS_TYP_2.0  VERS_TYP_nan  ANREDE_KZ_1  ANREDE_KZ_2  \n",
       "0           1.0           0.0          0.0          1.0  \n",
       "1           0.0           0.0          0.0          1.0  \n",
       "2           0.0           0.0          0.0          1.0  \n",
       "3           1.0           0.0          1.0          0.0  \n",
       "4           1.0           0.0          0.0          1.0  \n",
       "\n",
       "[5 rows x 422 columns]"
      ]
     },
     "execution_count": 40,
     "metadata": {},
     "output_type": "execute_result"
    }
   ],
   "source": [
    "azdias_nan_filled.head()"
   ]
  },
  {
   "cell_type": "code",
   "execution_count": 41,
   "metadata": {
    "scrolled": false
   },
   "outputs": [
    {
     "name": "stderr",
     "output_type": "stream",
     "text": [
      "/Users/maoshaohua/anaconda3/lib/python3.7/site-packages/IPython/core/interactiveshell.py:3296: UserWarning: To output multiple subplots, the figure containing the passed axes is being cleared\n",
      "  exec(code_obj, self.user_global_ns, self.user_ns)\n"
     ]
    },
    {
     "data": {
      "text/plain": [
       "array([[<matplotlib.axes._subplots.AxesSubplot object at 0x1ab0d6c630>,\n",
       "        <matplotlib.axes._subplots.AxesSubplot object at 0x1a25a9c6a0>,\n",
       "        <matplotlib.axes._subplots.AxesSubplot object at 0x1a25c55128>],\n",
       "       [<matplotlib.axes._subplots.AxesSubplot object at 0x1a25ea2b70>,\n",
       "        <matplotlib.axes._subplots.AxesSubplot object at 0x1a25fd45f8>,\n",
       "        <matplotlib.axes._subplots.AxesSubplot object at 0x1a2786f860>],\n",
       "       [<matplotlib.axes._subplots.AxesSubplot object at 0x1a27a022e8>,\n",
       "        <matplotlib.axes._subplots.AxesSubplot object at 0x1a27a27cf8>,\n",
       "        <matplotlib.axes._subplots.AxesSubplot object at 0x1a27a27cc0>]],\n",
       "      dtype=object)"
      ]
     },
     "execution_count": 41,
     "metadata": {},
     "output_type": "execute_result"
    },
    {
     "data": {
      "image/png": "[encoded data removed]",
      "text/plain": [
       "<Figure size 720x1080 with 9 Axes>"
      ]
     },
     "metadata": {
      "needs_background": "light"
     },
     "output_type": "display_data"
    }
   ],
   "source": [
    "#Plot histogram to show the distribute of the count of Nan values in each column\n",
    "azdias_nan_filled_histogram = azdias_nan_filled.iloc[:,0:9]\n",
    "fig = plt.figure(figsize = (10,15))\n",
    "ax = fig.gca()\n",
    "azdias_nan_filled_histogram.hist(ax = ax)"
   ]
  },
  {
   "cell_type": "code",
   "execution_count": 42,
   "metadata": {},
   "outputs": [
    {
     "data": {
      "text/plain": [
       "<matplotlib.axes._subplots.AxesSubplot at 0x1a27e328d0>"
      ]
     },
     "execution_count": 42,
     "metadata": {},
     "output_type": "execute_result"
    },
    {
     "data": {
      "image/png": "[encoded data removed]",
      "text/plain": [
       "<Figure size 432x288 with 2 Axes>"
      ]
     },
     "metadata": {
      "needs_background": "light"
     },
     "output_type": "display_data"
    }
   ],
   "source": [
    "corr = azdias_nan_filled.corr()\n",
    "sns.heatmap(corr)"
   ]
  },
  {
   "cell_type": "code",
   "execution_count": 43,
   "metadata": {},
   "outputs": [],
   "source": [
    "#remove columns that have correlation higher than 0.9\n",
    "columns = np.full((corr.shape[0],), True, dtype=bool)\n",
    "for i in range(corr.shape[0]):\n",
    "    for j in range(i+1, corr.shape[0]):\n",
    "        if corr.iloc[i,j] >= 0.9:\n",
    "            if columns[j]:\n",
    "                columns[j] = False\n",
    "selected_columns = azdias_nan_filled.columns[columns]\n",
    "azdias_nan_filled_selected = azdias_nan_filled[selected_columns]\n"
   ]
  },
  {
   "cell_type": "code",
   "execution_count": 44,
   "metadata": {},
   "outputs": [
    {
     "data": {
      "text/plain": [
       "(754092, 404)"
      ]
     },
     "execution_count": 44,
     "metadata": {},
     "output_type": "execute_result"
    }
   ],
   "source": [
    "azdias_nan_filled_selected.shape"
   ]
  },
  {
   "cell_type": "code",
   "execution_count": 45,
   "metadata": {},
   "outputs": [],
   "source": [
    "scaler = preprocessing.MinMaxScaler()\n",
    "scaled_azdias = scaler.fit_transform(azdias_nan_filled_selected)\n",
    "scaled_azdias = pd.DataFrame(data=scaled_azdias, columns = azdias_nan_filled_selected.columns)"
   ]
  },
  {
   "cell_type": "code",
   "execution_count": 46,
   "metadata": {},
   "outputs": [
    {
     "name": "stderr",
     "output_type": "stream",
     "text": [
      "/Users/maoshaohua/anaconda3/lib/python3.7/site-packages/IPython/core/interactiveshell.py:3296: UserWarning: To output multiple subplots, the figure containing the passed axes is being cleared\n",
      "  exec(code_obj, self.user_global_ns, self.user_ns)\n"
     ]
    },
    {
     "data": {
      "text/plain": [
       "array([[<matplotlib.axes._subplots.AxesSubplot object at 0x1a28678c18>,\n",
       "        <matplotlib.axes._subplots.AxesSubplot object at 0x1a28898128>,\n",
       "        <matplotlib.axes._subplots.AxesSubplot object at 0x1a28a4db70>],\n",
       "       [<matplotlib.axes._subplots.AxesSubplot object at 0x1a25a075f8>,\n",
       "        <matplotlib.axes._subplots.AxesSubplot object at 0x1a27ff9080>,\n",
       "        <matplotlib.axes._subplots.AxesSubplot object at 0x1a25b3fac8>],\n",
       "       [<matplotlib.axes._subplots.AxesSubplot object at 0x1a25bbe550>,\n",
       "        <matplotlib.axes._subplots.AxesSubplot object at 0x1a25c3cf60>,\n",
       "        <matplotlib.axes._subplots.AxesSubplot object at 0x1a25c3cf28>]],\n",
       "      dtype=object)"
      ]
     },
     "execution_count": 46,
     "metadata": {},
     "output_type": "execute_result"
    },
    {
     "data": {
      "image/png": "[encoded data removed]",
      "text/plain": [
       "<Figure size 720x1080 with 9 Axes>"
      ]
     },
     "metadata": {
      "needs_background": "light"
     },
     "output_type": "display_data"
    }
   ],
   "source": [
    "scaled_azdias_histogram = scaled_azdias.iloc[:,0:9]\n",
    "#azdias_filtered_encoded_example.hist(bins=10)\n",
    "fig = plt.figure(figsize = (10,15))\n",
    "ax = fig.gca()\n",
    "scaled_azdias_histogram.hist(ax = ax)"
   ]
  },
  {
   "cell_type": "markdown",
   "metadata": {},
   "source": [
    "#### 1.3.2 Apply PCA"
   ]
  },
  {
   "cell_type": "code",
   "execution_count": 47,
   "metadata": {},
   "outputs": [],
   "source": [
    "# Apply PCA to the data.\n",
    "pca = PCA()\n",
    "principalComponents = pca.fit_transform(scaled_azdias)\n",
    "principalDf = pd.DataFrame(data=principalComponents)"
   ]
  },
  {
   "cell_type": "code",
   "execution_count": 48,
   "metadata": {
    "scrolled": false
   },
   "outputs": [
    {
     "data": {
      "text/plain": [
       "Text(0.5, 0, 'Principle components')"
      ]
     },
     "execution_count": 48,
     "metadata": {},
     "output_type": "execute_result"
    },
    {
     "data": {
      "image/png": "[encoded data removed]",
      "text/plain": [
       "<Figure size 432x288 with 1 Axes>"
      ]
     },
     "metadata": {
      "needs_background": "light"
     },
     "output_type": "display_data"
    }
   ],
   "source": [
    "plt.plot(np.cumsum(pca.explained_variance_ratio_))\n",
    "plt.ylabel('Explained variance ratio')\n",
    "plt.xlabel('Principle components')"
   ]
  },
  {
   "cell_type": "code",
   "execution_count": 49,
   "metadata": {},
   "outputs": [
    {
     "data": {
      "text/plain": [
       "(0.0, 0.08)"
      ]
     },
     "execution_count": 49,
     "metadata": {},
     "output_type": "execute_result"
    },
    {
     "data": {
      "image/png": "[encoded data removed]",
      "text/plain": [
       "<Figure size 432x288 with 1 Axes>"
      ]
     },
     "metadata": {
      "needs_background": "light"
     },
     "output_type": "display_data"
    }
   ],
   "source": [
    "nComponents = principalDf.shape[1]\n",
    "plt.bar(np.arange(nComponents),pca.explained_variance_ratio_)\n",
    "#plt.bar([0:nComponents],pca.explained_variance_ratio_)\n",
    "plt.ylabel('Explained variance ratio')\n",
    "plt.xlabel('Principle components')\n",
    "plt.ylim(top = 0.08)"
   ]
  },
  {
   "cell_type": "code",
   "execution_count": 50,
   "metadata": {},
   "outputs": [
    {
     "data": {
      "text/plain": [
       "array([0.07634557, 0.04900047, 0.04461422, 0.03387141, 0.03262901,\n",
       "       0.0215283 , 0.0180862 , 0.01767516, 0.01513363, 0.01465338,\n",
       "       0.01380577, 0.0120526 , 0.01118954, 0.01020411, 0.01005394,\n",
       "       0.00989076, 0.00939935, 0.00923267, 0.00905176, 0.00844962,\n",
       "       0.00842701, 0.00817517, 0.00763029, 0.00746995, 0.00731991,\n",
       "       0.00725988, 0.00709377, 0.00680378, 0.00667619, 0.00642454,\n",
       "       0.00611802, 0.00608831, 0.00600546, 0.00587254, 0.00572643,\n",
       "       0.00558178, 0.0054705 , 0.00520611, 0.00511769, 0.00502299,\n",
       "       0.00494586, 0.00485935, 0.00480409, 0.00472475, 0.00460222,\n",
       "       0.00446792, 0.00442997, 0.00439818, 0.00434716, 0.00428396,\n",
       "       0.00418666, 0.00410307, 0.00407927, 0.00403386, 0.00400227,\n",
       "       0.00396522, 0.00393294, 0.00387025, 0.00381704, 0.0037511 ,\n",
       "       0.00370183, 0.00367087, 0.0036514 , 0.00357256, 0.00354046,\n",
       "       0.00352942, 0.0034431 , 0.00335524, 0.0033252 , 0.00329494,\n",
       "       0.00326759, 0.00324474, 0.00319958, 0.00312838, 0.00312487,\n",
       "       0.00304529, 0.00302208, 0.0029657 , 0.00294008, 0.00291955,\n",
       "       0.00290293, 0.00283767, 0.00282198, 0.0028127 , 0.00278093,\n",
       "       0.00273576, 0.00271064, 0.00266406, 0.00265423, 0.00263032,\n",
       "       0.00261527, 0.00257383, 0.00255153, 0.00253464, 0.00251722,\n",
       "       0.00248296, 0.00247769, 0.00245546, 0.00243489, 0.00242534,\n",
       "       0.00239502, 0.00237273, 0.00234172, 0.00231548, 0.00229046,\n",
       "       0.00228892, 0.00224301, 0.00222282, 0.0022158 , 0.00218962,\n",
       "       0.00217803, 0.00215658, 0.00212608, 0.00210857, 0.00208124,\n",
       "       0.00207804, 0.00204039, 0.00202372, 0.00201334, 0.0020018 ,\n",
       "       0.00199156, 0.00194686, 0.00193306, 0.00192154, 0.00190709,\n",
       "       0.00188024, 0.00187227, 0.00186313, 0.0018453 , 0.00182783,\n",
       "       0.00180836, 0.00179575, 0.00178882, 0.00176897, 0.00174342,\n",
       "       0.00173985, 0.00172299, 0.00169728, 0.00168943, 0.00167945,\n",
       "       0.00167095, 0.00166353, 0.00165214, 0.0016468 , 0.0016313 ,\n",
       "       0.00162521, 0.00158699, 0.00157668, 0.00155671, 0.0015465 ])"
      ]
     },
     "execution_count": 50,
     "metadata": {},
     "output_type": "execute_result"
    }
   ],
   "source": [
    "pca.explained_variance_ratio_[0:150]"
   ]
  },
  {
   "cell_type": "code",
   "execution_count": 51,
   "metadata": {},
   "outputs": [
    {
     "name": "stdout",
     "output_type": "stream",
     "text": [
      "0.8567891990839771\n",
      "0.7605258339116404\n"
     ]
    }
   ],
   "source": [
    "# Investigate the variance accounted for by principal components.\n",
    "variance_sum_150components = sum(pca.explained_variance_ratio_[:150])\n",
    "print(variance_sum_150components)\n",
    "variance_sum_100components = sum(pca.explained_variance_ratio_[:100])\n",
    "print(variance_sum_100components)"
   ]
  },
  {
   "cell_type": "code",
   "execution_count": 52,
   "metadata": {},
   "outputs": [
    {
     "data": {
      "text/plain": [
       "(0.0, 0.08)"
      ]
     },
     "execution_count": 52,
     "metadata": {},
     "output_type": "execute_result"
    },
    {
     "data": {
      "image/png": "[encoded data removed]",
      "text/plain": [
       "<Figure size 432x288 with 1 Axes>"
      ]
     },
     "metadata": {
      "needs_background": "light"
     },
     "output_type": "display_data"
    }
   ],
   "source": [
    "plt.bar(np.arange(150),pca.explained_variance_ratio_[0:150])\n",
    "plt.ylabel('Explained variance ratio')\n",
    "plt.xlabel('Principle components')\n",
    "plt.ylim(top = 0.08)"
   ]
  },
  {
   "cell_type": "code",
   "execution_count": 53,
   "metadata": {},
   "outputs": [],
   "source": [
    "# Re-apply PCA to the data while selecting for number of components to retain.\n",
    "pca = PCA(n_components = 150)\n",
    "generalPC = pca.fit_transform(scaled_azdias)\n",
    "principalDf = pd.DataFrame(data=generalPC)"
   ]
  },
  {
   "cell_type": "markdown",
   "metadata": {},
   "source": [
    "#### Intepret principle componensts"
   ]
  },
  {
   "cell_type": "code",
   "execution_count": 54,
   "metadata": {},
   "outputs": [],
   "source": [
    "# Map weights for the first principal component to corresponding feature names\n",
    "# and then print the linked values, sorted by weight.\n",
    "\n",
    "def mapWeight(df, component):\n",
    "    pca_df = pd.DataFrame(pca.components_, columns=list(df.columns))\n",
    "    pca_component = pd.DataFrame(pca_df.iloc[component])\n",
    "    #print(pca_component.sort_values(component, ascending=False))\n",
    "    pca_component = pca_component.sort_values(component, ascending=False)\n",
    "    top_3_positively_correlated_component = pca_component.head(3)\n",
    "    top_3_negatively_correlated_component = pca_component.tail(3)\n",
    "    \n",
    "    most_weighted_attribute = top_3_positively_correlated_component.append(top_3_negatively_correlated_component)\\\n",
    "    .rename(columns={component:'Weight'})\n",
    "    most_weighted_attribute['PC_No'] = [component]*6\n",
    "    \n",
    "    return most_weighted_attribute\n",
    "    #print(top_3_negatively_correlated_component)"
   ]
  },
  {
   "cell_type": "code",
   "execution_count": 55,
   "metadata": {},
   "outputs": [
    {
     "data": {
      "text/html": [
       "<div>\n",
       "<style scoped>\n",
       "    .dataframe tbody tr th:only-of-type {\n",
       "        vertical-align: middle;\n",
       "    }\n",
       "\n",
       "    .dataframe tbody tr th {\n",
       "        vertical-align: top;\n",
       "    }\n",
       "\n",
       "    .dataframe thead th {\n",
       "        text-align: right;\n",
       "    }\n",
       "</style>\n",
       "<table border=\"1\" class=\"dataframe\">\n",
       "  <thead>\n",
       "    <tr style=\"text-align: right;\">\n",
       "      <th></th>\n",
       "      <th>Weight</th>\n",
       "      <th>PC_No</th>\n",
       "    </tr>\n",
       "  </thead>\n",
       "  <tbody>\n",
       "    <tr>\n",
       "      <th>KBA13_BAUMAX</th>\n",
       "      <td>0.161345</td>\n",
       "      <td>0</td>\n",
       "    </tr>\n",
       "    <tr>\n",
       "      <th>KBA13_ANTG4</th>\n",
       "      <td>0.158295</td>\n",
       "      <td>0</td>\n",
       "    </tr>\n",
       "    <tr>\n",
       "      <th>PLZ8_ANTG4</th>\n",
       "      <td>0.154992</td>\n",
       "      <td>0</td>\n",
       "    </tr>\n",
       "    <tr>\n",
       "      <th>FINANZ_MINIMALIST</th>\n",
       "      <td>-0.153627</td>\n",
       "      <td>0</td>\n",
       "    </tr>\n",
       "    <tr>\n",
       "      <th>KBA05_ANTG1</th>\n",
       "      <td>-0.155725</td>\n",
       "      <td>0</td>\n",
       "    </tr>\n",
       "    <tr>\n",
       "      <th>LP_STATUS_FEIN</th>\n",
       "      <td>-0.182764</td>\n",
       "      <td>0</td>\n",
       "    </tr>\n",
       "  </tbody>\n",
       "</table>\n",
       "</div>"
      ],
      "text/plain": [
       "                     Weight  PC_No\n",
       "KBA13_BAUMAX       0.161345      0\n",
       "KBA13_ANTG4        0.158295      0\n",
       "PLZ8_ANTG4         0.154992      0\n",
       "FINANZ_MINIMALIST -0.153627      0\n",
       "KBA05_ANTG1       -0.155725      0\n",
       "LP_STATUS_FEIN    -0.182764      0"
      ]
     },
     "execution_count": 55,
     "metadata": {},
     "output_type": "execute_result"
    }
   ],
   "source": [
    "mapWeight(scaled_azdias,0)"
   ]
  },
  {
   "cell_type": "code",
   "execution_count": 56,
   "metadata": {
    "scrolled": true
   },
   "outputs": [
    {
     "data": {
      "text/html": [
       "<div>\n",
       "<style scoped>\n",
       "    .dataframe tbody tr th:only-of-type {\n",
       "        vertical-align: middle;\n",
       "    }\n",
       "\n",
       "    .dataframe tbody tr th {\n",
       "        vertical-align: top;\n",
       "    }\n",
       "\n",
       "    .dataframe thead th {\n",
       "        text-align: right;\n",
       "    }\n",
       "</style>\n",
       "<table border=\"1\" class=\"dataframe\">\n",
       "  <thead>\n",
       "    <tr style=\"text-align: right;\">\n",
       "      <th></th>\n",
       "      <th>Weight</th>\n",
       "      <th>PC_No</th>\n",
       "    </tr>\n",
       "  </thead>\n",
       "  <tbody>\n",
       "    <tr>\n",
       "      <th>FINANZ_VORSORGER</th>\n",
       "      <td>0.193881</td>\n",
       "      <td>1</td>\n",
       "    </tr>\n",
       "    <tr>\n",
       "      <th>CJT_TYP_4</th>\n",
       "      <td>0.187029</td>\n",
       "      <td>1</td>\n",
       "    </tr>\n",
       "    <tr>\n",
       "      <th>CJT_TYP_5</th>\n",
       "      <td>0.186522</td>\n",
       "      <td>1</td>\n",
       "    </tr>\n",
       "    <tr>\n",
       "      <th>CJT_TYP_2</th>\n",
       "      <td>-0.201552</td>\n",
       "      <td>1</td>\n",
       "    </tr>\n",
       "    <tr>\n",
       "      <th>CJT_TYP_1</th>\n",
       "      <td>-0.207911</td>\n",
       "      <td>1</td>\n",
       "    </tr>\n",
       "    <tr>\n",
       "      <th>FINANZ_SPARER</th>\n",
       "      <td>-0.220244</td>\n",
       "      <td>1</td>\n",
       "    </tr>\n",
       "  </tbody>\n",
       "</table>\n",
       "</div>"
      ],
      "text/plain": [
       "                    Weight  PC_No\n",
       "FINANZ_VORSORGER  0.193881      1\n",
       "CJT_TYP_4         0.187029      1\n",
       "CJT_TYP_5         0.186522      1\n",
       "CJT_TYP_2        -0.201552      1\n",
       "CJT_TYP_1        -0.207911      1\n",
       "FINANZ_SPARER    -0.220244      1"
      ]
     },
     "execution_count": 56,
     "metadata": {},
     "output_type": "execute_result"
    }
   ],
   "source": [
    "mapWeight(scaled_azdias,1)"
   ]
  },
  {
   "cell_type": "code",
   "execution_count": 57,
   "metadata": {
    "scrolled": true
   },
   "outputs": [
    {
     "data": {
      "text/html": [
       "<div>\n",
       "<style scoped>\n",
       "    .dataframe tbody tr th:only-of-type {\n",
       "        vertical-align: middle;\n",
       "    }\n",
       "\n",
       "    .dataframe tbody tr th {\n",
       "        vertical-align: top;\n",
       "    }\n",
       "\n",
       "    .dataframe thead th {\n",
       "        text-align: right;\n",
       "    }\n",
       "</style>\n",
       "<table border=\"1\" class=\"dataframe\">\n",
       "  <thead>\n",
       "    <tr style=\"text-align: right;\">\n",
       "      <th></th>\n",
       "      <th>Weight</th>\n",
       "      <th>PC_No</th>\n",
       "    </tr>\n",
       "  </thead>\n",
       "  <tbody>\n",
       "    <tr>\n",
       "      <th>OST_WEST_KZ_W</th>\n",
       "      <td>0.173693</td>\n",
       "      <td>2</td>\n",
       "    </tr>\n",
       "    <tr>\n",
       "      <th>KBA13_HERST_BMW_BENZ</th>\n",
       "      <td>0.161961</td>\n",
       "      <td>2</td>\n",
       "    </tr>\n",
       "    <tr>\n",
       "      <th>KBA13_SEG_SPORTWAGEN</th>\n",
       "      <td>0.144766</td>\n",
       "      <td>2</td>\n",
       "    </tr>\n",
       "    <tr>\n",
       "      <th>GREEN_AVANTGARDE_0</th>\n",
       "      <td>-0.131140</td>\n",
       "      <td>2</td>\n",
       "    </tr>\n",
       "    <tr>\n",
       "      <th>KBA13_SITZE_5</th>\n",
       "      <td>-0.145272</td>\n",
       "      <td>2</td>\n",
       "    </tr>\n",
       "    <tr>\n",
       "      <th>OST_WEST_KZ_O</th>\n",
       "      <td>-0.173693</td>\n",
       "      <td>2</td>\n",
       "    </tr>\n",
       "  </tbody>\n",
       "</table>\n",
       "</div>"
      ],
      "text/plain": [
       "                        Weight  PC_No\n",
       "OST_WEST_KZ_W         0.173693      2\n",
       "KBA13_HERST_BMW_BENZ  0.161961      2\n",
       "KBA13_SEG_SPORTWAGEN  0.144766      2\n",
       "GREEN_AVANTGARDE_0   -0.131140      2\n",
       "KBA13_SITZE_5        -0.145272      2\n",
       "OST_WEST_KZ_O        -0.173693      2"
      ]
     },
     "execution_count": 57,
     "metadata": {},
     "output_type": "execute_result"
    }
   ],
   "source": [
    "mapWeight(scaled_azdias,2)"
   ]
  },
  {
   "cell_type": "markdown",
   "metadata": {},
   "source": []
  },
  {
   "cell_type": "markdown",
   "metadata": {},
   "source": [
    "### Interpretation of principal components\n",
    "\n",
    "#### For the first principal components, the top weighted attributes are as following:  \n",
    "-KBA13_BAUMAX: unknown  \n",
    "-KBA13_ANTG4: unknown  \n",
    "-PLZ8_ANTG4: number of >10 family houses in the PLZ8  \n",
    "\n",
    "\n",
    "-FINANZ_MINIMALIST: financial typology-low financial interest  \n",
    "-KBA05_ANTG1: number of 1-2 family houses in the cell  \n",
    "-LP_STATUS_FEIN: social status fine\n",
    "\n",
    "\n",
    "#### For the second principal components, the top weighted attributes are as following:   \n",
    "-FINANZ_VORSORGER: financial typology-be prepared  \n",
    "-CJT_TYP_4: unknown  \n",
    "-CJT_TYP_5: unknown  \n",
    "\n",
    "-CJT_TYP_2: unknown  \n",
    "-CJT_TYP_1: unknown  \n",
    "-FINANZ_SPARER: financial typology-money saver\n",
    "\n",
    "#### For the third principal components, the top weighted attributes are as following:   \n",
    "-OST_WEST_KZ_W: unknown \n",
    "-KBA13_HERST_BMW_BENZ: share of BMW & Mercedes Benz within the PLZ8  \n",
    "-KBA13_SEG_SPORTWAGEN: share of sportscars within the PLZ8  \n",
    "\n",
    "-GREEN_AVANTGARDE_0: unknown  \n",
    "-KBA13_SITZE_5: number of cars with 5 seats in the PLZ8  \n",
    "-OST_WEST_KZ_O: unknown\n"
   ]
  },
  {
   "cell_type": "markdown",
   "metadata": {},
   "source": [
    "#### 1.3.3 Apply K-means clustering "
   ]
  },
  {
   "cell_type": "code",
   "execution_count": 58,
   "metadata": {},
   "outputs": [],
   "source": [
    "# Over a number of different cluster counts define a function to get the KMeans score. Run k-means clustering on the \n",
    "# data and compute the average within-cluster distances.\n",
    "    \n",
    "def kmeans_score(data, center):\n",
    "    '''\n",
    "    get SSE score for different number of clusters\n",
    "    \n",
    "    Keyword arguments:\n",
    "    data: data sheet\n",
    "    center: centers of clusters\n",
    "\n",
    "    Returns:\n",
    "    SSE score\n",
    "    '''\n",
    "    seed = np.random.RandomState(1)\n",
    "    kmeans = KMeans(n_clusters=center, random_state=seed)\n",
    "    model = kmeans.fit(data)\n",
    "    score = np.abs(model.score(data))\n",
    "    return score"
   ]
  },
  {
   "cell_type": "code",
   "execution_count": 59,
   "metadata": {},
   "outputs": [
    {
     "data": {
      "text/plain": [
       "\"# Investigate the change in within-cluster distance across number of clusters.\\nscores = []\\ncenters = list(range(1,10))\\n\\nfor center in centers:\\n    scores.append(kmeans_score(principalDf, center))\\n    \\nplt.plot(centers, scores, linestyle='--', marker='o', color='b')\\nplt.xlabel('K')\\nplt.ylabel('SSE')\""
      ]
     },
     "execution_count": 59,
     "metadata": {},
     "output_type": "execute_result"
    }
   ],
   "source": [
    "'''# Investigate the change in within-cluster distance across number of clusters.\n",
    "scores = []\n",
    "centers = list(range(1,10))\n",
    "\n",
    "for center in centers:\n",
    "    scores.append(kmeans_score(principalDf, center))\n",
    "    \n",
    "plt.plot(centers, scores, linestyle='--', marker='o', color='b')\n",
    "plt.xlabel('K')\n",
    "plt.ylabel('SSE')'''"
   ]
  },
  {
   "cell_type": "code",
   "execution_count": 60,
   "metadata": {
    "scrolled": true
   },
   "outputs": [
    {
     "data": {
      "text/plain": [
       "Text(0, 0.5, 'SSE')"
      ]
     },
     "execution_count": 60,
     "metadata": {},
     "output_type": "execute_result"
    },
    {
     "data": {
      "image/png": "[encoded data removed]",
      "text/plain": [
       "<Figure size 432x288 with 1 Axes>"
      ]
     },
     "metadata": {
      "needs_background": "light"
     },
     "output_type": "display_data"
    }
   ],
   "source": [
    "# Investigate the change in within-cluster distance across number of clusters.\n",
    "# HINT: Use matplotlib's plot function to visualize this relationship.\n",
    "scores = []\n",
    "centers = list(range(1,30))\n",
    "\n",
    "for center in centers:\n",
    "    scores.append(kmeans_score(principalDf, center))\n",
    "    \n",
    "plt.plot(centers, scores, linestyle='--', marker='o', color='b')\n",
    "plt.xlabel('K')\n",
    "plt.ylabel('SSE')"
   ]
  },
  {
   "cell_type": "code",
   "execution_count": 61,
   "metadata": {},
   "outputs": [],
   "source": [
    "# Re-fit the k-means model with the selected number of clusters and obtain\n",
    "# cluster predictions for the general population demographics data.\n",
    "seed = np.random.RandomState(1)\n",
    "kmeans = KMeans(n_clusters=10, random_state=seed)\n",
    "kmeansModel = kmeans.fit(principalDf)\n",
    "generalPreds = kmeansModel.predict(principalDf)\n",
    "\n"
   ]
  },
  {
   "cell_type": "code",
   "execution_count": 62,
   "metadata": {
    "scrolled": false
   },
   "outputs": [
    {
     "name": "stderr",
     "output_type": "stream",
     "text": [
      "/Users/maoshaohua/anaconda3/lib/python3.7/site-packages/IPython/core/interactiveshell.py:3049: DtypeWarning: Columns (18,19) have mixed types. Specify dtype option on import or set low_memory=False.\n",
      "  interactivity=interactivity, compiler=compiler, result=result)\n"
     ]
    }
   ],
   "source": [
    "customers = pd.read_csv('./Udacity_CUSTOMERS_052018.csv', sep=';')"
   ]
  },
  {
   "cell_type": "code",
   "execution_count": 63,
   "metadata": {
    "scrolled": false
   },
   "outputs": [
    {
     "name": "stdout",
     "output_type": "stream",
     "text": [
      "These columns were in population data, but missed in customer data []\n",
      "These columns were in customer data, but missed in population data ['CUSTOMER_GROUP', 'LNR', 'ONLINE_PURCHASE', 'PRODUCT_GROUP']\n"
     ]
    }
   ],
   "source": [
    "# Apply all steps to customer data\n",
    "# Before that, we need to check the difference of columns between population and customer data and drop columns\n",
    "# that were not included in population data\n",
    "missing_in_customers = list(np.setdiff1d(azdias.columns, customers.columns))\n",
    "print(\"These columns were in population data, but missed in customer data\",missing_in_customers)\n",
    "missing_in_azdias = list(np.setdiff1d(customers.columns,azdias.columns))\n",
    "print(\"These columns were in customer data, but missed in population data\", missing_in_azdias)"
   ]
  },
  {
   "cell_type": "code",
   "execution_count": 64,
   "metadata": {},
   "outputs": [
    {
     "data": {
      "text/plain": [
       "(191652, 365)"
      ]
     },
     "execution_count": 64,
     "metadata": {},
     "output_type": "execute_result"
    }
   ],
   "source": [
    "customers.drop(missing_in_azdias,axis=1, inplace=True)\n",
    "customers.shape"
   ]
  },
  {
   "cell_type": "code",
   "execution_count": 65,
   "metadata": {
    "scrolled": true
   },
   "outputs": [],
   "source": [
    "#apply clean function to customer data\n",
    "customers_clean = clean_data(customers,feature_info, azdias_rm_col, attribute_get_dummies)"
   ]
  },
  {
   "cell_type": "code",
   "execution_count": 66,
   "metadata": {
    "scrolled": true
   },
   "outputs": [
    {
     "data": {
      "text/plain": [
       "(136821, 420)"
      ]
     },
     "execution_count": 66,
     "metadata": {},
     "output_type": "execute_result"
    }
   ],
   "source": [
    "customers_clean.shape"
   ]
  },
  {
   "cell_type": "code",
   "execution_count": 67,
   "metadata": {},
   "outputs": [
    {
     "name": "stdout",
     "output_type": "stream",
     "text": [
      "['GEBAEUDETYP_5.0', 'GEBAEUDETYP_RASTER_nan']\n",
      "['CAMEO_INTL_2015_wealth', 'D19_KONSUMTYP_MAX', 'D19_VERSAND_ONLINE_QUOTE_12', 'GFK_URLAUBERTYP_nan', 'GREEN_AVANTGARDE_1', 'KBA13_HALTER_66', 'KBA13_HERST_SONST', 'KBA13_KMH_250', 'LP_FAMILIE_GROB_engineered', 'LP_STATUS_GROB_engineered', 'NATIONALITAET_KZ_nan', 'PLZ8_ANTG1', 'PLZ8_ANTG3', 'PLZ8_BAUMAX', 'PLZ8_GBZ', 'PLZ8_HHZ', 'SHOPPER_TYP_nan', 'VERS_TYP_nan']\n"
     ]
    }
   ],
   "source": [
    "#check column consistence between azdias and customer data\n",
    "missing_in_customers = list(np.setdiff1d(azdias_nan_filled_selected.columns, customers_clean.columns))\n",
    "print(missing_in_customers)\n",
    "missing_in_azdias = list(np.setdiff1d(customers_clean.columns,azdias_nan_filled_selected.columns))\n",
    "print(missing_in_azdias)"
   ]
  },
  {
   "cell_type": "code",
   "execution_count": 68,
   "metadata": {
    "scrolled": true
   },
   "outputs": [
    {
     "name": "stdout",
     "output_type": "stream",
     "text": [
      "(136821, 404)\n"
     ]
    }
   ],
   "source": [
    "customers_clean['GEBAEUDETYP_5.0']=0\n",
    "customers_clean['GEBAEUDETYP_RASTER_nan']=0\n",
    "\n",
    "#fill in nan values\n",
    "customer_nan_filled = pd.DataFrame(imputer.transform(customers_clean))\n",
    "customer_nan_filled.columns = customers_clean.columns\n",
    "#for other inconsistent columns, they are columns that have high correlation with each other.\n",
    "customer_nan_filled.drop(missing_in_azdias,axis=1,inplace=True)\n",
    "\n",
    "print(customer_nan_filled.shape)"
   ]
  },
  {
   "cell_type": "code",
   "execution_count": 69,
   "metadata": {
    "scrolled": true
   },
   "outputs": [
    {
     "name": "stdout",
     "output_type": "stream",
     "text": [
      "[]\n",
      "[]\n"
     ]
    }
   ],
   "source": [
    "missing_in_customers = list(np.setdiff1d(azdias_nan_filled_selected.columns, customer_nan_filled.columns))\n",
    "print(missing_in_customers)\n",
    "missing_in_azdias = list(np.setdiff1d(customer_nan_filled.columns,azdias_nan_filled_selected.columns))\n",
    "print(missing_in_azdias)"
   ]
  },
  {
   "cell_type": "code",
   "execution_count": 70,
   "metadata": {},
   "outputs": [
    {
     "data": {
      "text/plain": [
       "Index(['AKT_DAT_KL', 'ALTER_HH', 'ALTERSKATEGORIE_FEIN', 'ANZ_KINDER',\n",
       "       'ANZ_STATISTISCHE_HAUSHALTE', 'ARBEIT', 'BALLRAUM', 'CAMEO_DEUG_2015',\n",
       "       'CJT_KATALOGNUTZER', 'CJT_TYP_1',\n",
       "       ...\n",
       "       'SHOPPER_TYP_0.0', 'SHOPPER_TYP_1.0', 'SHOPPER_TYP_2.0',\n",
       "       'SHOPPER_TYP_3.0', 'VERS_TYP_1.0', 'VERS_TYP_2.0', 'ANREDE_KZ_1',\n",
       "       'ANREDE_KZ_2', 'GEBAEUDETYP_5.0', 'GEBAEUDETYP_RASTER_nan'],\n",
       "      dtype='object', length=404)"
      ]
     },
     "execution_count": 70,
     "metadata": {},
     "output_type": "execute_result"
    }
   ],
   "source": [
    "customer_nan_filled.columns"
   ]
  },
  {
   "cell_type": "code",
   "execution_count": 71,
   "metadata": {},
   "outputs": [],
   "source": [
    "#scaling\n",
    "customer_scaled = scaler.transform(customer_nan_filled)\n",
    "customer_scaled = pd.DataFrame(data=customer_scaled, columns = customer_nan_filled.columns)\n",
    "\n",
    "# Apply PCA to the data.\n",
    "customerPC = pca.transform(customer_scaled)\n",
    "customerPrincipalDf = pd.DataFrame(data=customerPC)\n",
    "\n",
    "# Fit the k-means model with the selected number of clusters and obtain\n",
    "# cluster predictions for the general population demographics data.\n",
    "customerPreds = kmeansModel.predict(customerPrincipalDf)"
   ]
  },
  {
   "cell_type": "code",
   "execution_count": 72,
   "metadata": {},
   "outputs": [
    {
     "name": "stdout",
     "output_type": "stream",
     "text": [
      "   0  1\n",
      "0  0  9\n",
      "1  1  1\n",
      "2  2  9\n",
      "3  3  8\n",
      "4  4  3\n",
      "(136821, 2)\n",
      "136821\n"
     ]
    }
   ],
   "source": [
    "results = pd.DataFrame([customerPrincipalDf.index,customerPreds]).T\n",
    "print(results.head())\n",
    "print(results.shape)\n",
    "print(results[1].value_counts().sum())"
   ]
  },
  {
   "cell_type": "markdown",
   "metadata": {},
   "source": [
    "### 1.5 Compare customer cluster to population cluster and obtain the demographic characteristics of potential customers"
   ]
  },
  {
   "cell_type": "code",
   "execution_count": 73,
   "metadata": {},
   "outputs": [],
   "source": [
    "def get_pct_of_clusters(preds):\n",
    "    '''\n",
    "    get the percentage of each cluster in dataset\n",
    "    \n",
    "    Keyword arguments:\n",
    "    preds: predicted cluster value\n",
    "    \n",
    "    Returns:\n",
    "    percentage of each cluster in dataset\n",
    "    '''\n",
    "    \n",
    "    preds = list(preds)\n",
    "    count_of_each_cluster = {x:preds.count(x) for x in set(preds)}\n",
    "    cluster_summarize = pd.DataFrame.from_dict(count_of_each_cluster, orient='index',columns = ['cluster_count'])\n",
    "    cluster_summarize['cluster_pct'] = cluster_summarize['cluster_count']/sum(cluster_summarize['cluster_count'])\n",
    "    return cluster_summarize\n"
   ]
  },
  {
   "cell_type": "code",
   "execution_count": 74,
   "metadata": {},
   "outputs": [],
   "source": [
    "general_cluster_summarize = get_pct_of_clusters(generalPreds)\n",
    "customer_cluster_summarize = get_pct_of_clusters(customerPreds)"
   ]
  },
  {
   "cell_type": "code",
   "execution_count": 75,
   "metadata": {
    "scrolled": true
   },
   "outputs": [
    {
     "data": {
      "text/plain": [
       "[Text(0, 0.5, 'Ratio of cluster frequency'),\n",
       " Text(0.5, 0, 'Cluster'),\n",
       " Text(0.5, 1.0, 'Customers/general')]"
      ]
     },
     "execution_count": 75,
     "metadata": {},
     "output_type": "execute_result"
    },
    {
     "data": {
      "image/png": "[encoded data removed]",
      "text/plain": [
       "<Figure size 1080x288 with 3 Axes>"
      ]
     },
     "metadata": {
      "needs_background": "light"
     },
     "output_type": "display_data"
    }
   ],
   "source": [
    "# Compare the proportion of data in each cluster for the customer data to the\n",
    "# proportion of data in each cluster for the general population.\n",
    "plt.figure(figsize=(15, 4))\n",
    "plt.subplot(131)\n",
    "plot1 = sns.barplot(x=general_cluster_summarize.index, y=general_cluster_summarize['cluster_pct'])\n",
    "plot1.set(ylabel=\"Frequency of each cluster\", xlabel=\"Cluster\", title = 'General')\n",
    "plt.subplot(132)\n",
    "plot2 = sns.barplot(x=customer_cluster_summarize.index, y=customer_cluster_summarize['cluster_pct'])\n",
    "plot2.set(ylabel=\"Frequency of each cluster\", xlabel=\"Cluster\", title = 'Customers')\n",
    "plt.subplot(133)\n",
    "plot2 = sns.barplot(x=customer_cluster_summarize.index, y=customer_cluster_summarize['cluster_pct']/general_cluster_summarize['cluster_pct'])\n",
    "plot2.set(ylabel=\"Ratio of cluster frequency\", xlabel=\"Cluster\", title = 'Customers/general')"
   ]
  },
  {
   "cell_type": "code",
   "execution_count": 76,
   "metadata": {},
   "outputs": [],
   "source": [
    "def get_top_attribute_in_principal_components_in_cluster(cluster, no_of_PC):\n",
    "    '''\n",
    "    For each cluster, find the top primary components and obtain the most weighted attributes in these components\n",
    "    \n",
    "    Keyword arguments:\n",
    "    cluster: cluster number\n",
    "    no_of_PC: number of pricinpal components we want to look at\n",
    "\n",
    "    Returns:\n",
    "    A list of most weighted attributes in the principal components we selected\n",
    "    '''\n",
    "    topPC_index = pd.Series(centers[cluster]).sort_values(ascending=False).head(no_of_PC).index.tolist()\n",
    "    top_weighted_attribute_df = pd.DataFrame()\n",
    "    for i in topPC_index:\n",
    "        top_weighted_attribute_in_PC = mapWeight(pd.DataFrame(customer_scaled),i)\n",
    "        top_weighted_attribute_df = top_weighted_attribute_df.append(top_weighted_attribute_in_PC)\n",
    "    return top_weighted_attribute_df"
   ]
  },
  {
   "cell_type": "code",
   "execution_count": 77,
   "metadata": {},
   "outputs": [],
   "source": [
    "def get_original_value_of_cluster_center(cluster,no_of_PC, feature_info):\n",
    "    '''\n",
    "    Get the original value and its meaning in the most weighted attributes in the cluster\n",
    "    \n",
    "    Keyword arguments:\n",
    "    cluster: cluster number\n",
    "    no_of_PC: number of pricinpal components we want to look at\n",
    "    feature_info: the spreadsheet records the description and meaning of each attribute\n",
    "\n",
    "    Returns:\n",
    "    A dataframe with the attribute values and meaning\n",
    "    '''\n",
    "    top_weighted_attribute_df = get_top_attribute_in_principal_components_in_cluster(cluster,no_of_PC)\n",
    "    top_weighted_attributes = top_weighted_attribute_df.index.values.tolist()\n",
    "    Attribute_values_in_cluster = pd.DataFrame(columns = ['Original_value'], index = top_weighted_attributes)\n",
    "\n",
    "    for i in top_weighted_attributes:\n",
    "        Attribute_values_in_cluster.loc[i] = round(inversed_centers.loc[cluster, i].astype(float))\n",
    "        \n",
    "    Attribute_values_in_cluster.reset_index(level=0, inplace=True)\n",
    "    Attribute_interpretation_in_cluster = pd.merge(Attribute_values_in_cluster, feature_info, how='left', \\\n",
    "                 left_on = ['index', 'Original_value'], \\\n",
    "                 right_on = ['Attribute', 'Value']).drop(['Value','Attribute'], axis = 1)\n",
    "\n",
    "    #return(Attribute_values_in_cluster['Original_value'].astype(float).round(0)) \n",
    "    return(Attribute_interpretation_in_cluster)"
   ]
  },
  {
   "cell_type": "code",
   "execution_count": 116,
   "metadata": {},
   "outputs": [
    {
     "data": {
      "text/html": [
       "<div>\n",
       "<style scoped>\n",
       "    .dataframe tbody tr th:only-of-type {\n",
       "        vertical-align: middle;\n",
       "    }\n",
       "\n",
       "    .dataframe tbody tr th {\n",
       "        vertical-align: top;\n",
       "    }\n",
       "\n",
       "    .dataframe thead th {\n",
       "        text-align: right;\n",
       "    }\n",
       "</style>\n",
       "<table border=\"1\" class=\"dataframe\">\n",
       "  <thead>\n",
       "    <tr style=\"text-align: right;\">\n",
       "      <th></th>\n",
       "      <th>Weight</th>\n",
       "      <th>PC_No</th>\n",
       "    </tr>\n",
       "  </thead>\n",
       "  <tbody>\n",
       "    <tr>\n",
       "      <th>SHOPPER_TYP_1.0</th>\n",
       "      <td>0.173693</td>\n",
       "      <td>2</td>\n",
       "    </tr>\n",
       "    <tr>\n",
       "      <th>KBA13_HERST_BMW_BENZ</th>\n",
       "      <td>0.161961</td>\n",
       "      <td>2</td>\n",
       "    </tr>\n",
       "    <tr>\n",
       "      <th>KBA13_SEG_SPORTWAGEN</th>\n",
       "      <td>0.144766</td>\n",
       "      <td>2</td>\n",
       "    </tr>\n",
       "    <tr>\n",
       "      <th>HEALTH_TYP_2.0</th>\n",
       "      <td>-0.131140</td>\n",
       "      <td>2</td>\n",
       "    </tr>\n",
       "    <tr>\n",
       "      <th>KBA13_SITZE_5</th>\n",
       "      <td>-0.145272</td>\n",
       "      <td>2</td>\n",
       "    </tr>\n",
       "    <tr>\n",
       "      <th>SHOPPER_TYP_0.0</th>\n",
       "      <td>-0.173693</td>\n",
       "      <td>2</td>\n",
       "    </tr>\n",
       "    <tr>\n",
       "      <th>FINANZ_VORSORGER</th>\n",
       "      <td>0.193881</td>\n",
       "      <td>1</td>\n",
       "    </tr>\n",
       "    <tr>\n",
       "      <th>CJT_TYP_4</th>\n",
       "      <td>0.187029</td>\n",
       "      <td>1</td>\n",
       "    </tr>\n",
       "    <tr>\n",
       "      <th>CJT_TYP_5</th>\n",
       "      <td>0.186522</td>\n",
       "      <td>1</td>\n",
       "    </tr>\n",
       "    <tr>\n",
       "      <th>CJT_TYP_2</th>\n",
       "      <td>-0.201552</td>\n",
       "      <td>1</td>\n",
       "    </tr>\n",
       "    <tr>\n",
       "      <th>CJT_TYP_1</th>\n",
       "      <td>-0.207911</td>\n",
       "      <td>1</td>\n",
       "    </tr>\n",
       "    <tr>\n",
       "      <th>FINANZ_SPARER</th>\n",
       "      <td>-0.220244</td>\n",
       "      <td>1</td>\n",
       "    </tr>\n",
       "  </tbody>\n",
       "</table>\n",
       "</div>"
      ],
      "text/plain": [
       "                        Weight  PC_No\n",
       "SHOPPER_TYP_1.0       0.173693      2\n",
       "KBA13_HERST_BMW_BENZ  0.161961      2\n",
       "KBA13_SEG_SPORTWAGEN  0.144766      2\n",
       "HEALTH_TYP_2.0       -0.131140      2\n",
       "KBA13_SITZE_5        -0.145272      2\n",
       "SHOPPER_TYP_0.0      -0.173693      2\n",
       "FINANZ_VORSORGER      0.193881      1\n",
       "CJT_TYP_4             0.187029      1\n",
       "CJT_TYP_5             0.186522      1\n",
       "CJT_TYP_2            -0.201552      1\n",
       "CJT_TYP_1            -0.207911      1\n",
       "FINANZ_SPARER        -0.220244      1"
      ]
     },
     "execution_count": 116,
     "metadata": {},
     "output_type": "execute_result"
    }
   ],
   "source": [
    "#Cluster 3 is the most overrepresented cluster in customers, indicating that these clusters in population are more likely to be \n",
    "#potential customers.\n",
    "centers = np.array(kmeansModel.cluster_centers_)\n",
    "inversed_centers = pd.DataFrame(scaler.inverse_transform(pca.inverse_transform(centers)), \n",
    "                               columns = customer_scaled.columns)\n",
    "get_top_attribute_in_principal_components_in_cluster(3,2)"
   ]
  },
  {
   "cell_type": "code",
   "execution_count": 117,
   "metadata": {
    "scrolled": false
   },
   "outputs": [
    {
     "name": "stdout",
     "output_type": "stream",
     "text": [
      "\u001b[1mDemographic characteristics of Cluster 3 in customer\u001b[0m\n"
     ]
    },
    {
     "data": {
      "text/html": [
       "<div>\n",
       "<style scoped>\n",
       "    .dataframe tbody tr th:only-of-type {\n",
       "        vertical-align: middle;\n",
       "    }\n",
       "\n",
       "    .dataframe tbody tr th {\n",
       "        vertical-align: top;\n",
       "    }\n",
       "\n",
       "    .dataframe thead th {\n",
       "        text-align: right;\n",
       "    }\n",
       "</style>\n",
       "<table border=\"1\" class=\"dataframe\">\n",
       "  <thead>\n",
       "    <tr style=\"text-align: right;\">\n",
       "      <th></th>\n",
       "      <th>index</th>\n",
       "      <th>Original_value</th>\n",
       "      <th>Description</th>\n",
       "      <th>Meaning</th>\n",
       "    </tr>\n",
       "  </thead>\n",
       "  <tbody>\n",
       "    <tr>\n",
       "      <th>0</th>\n",
       "      <td>SHOPPER_TYP_1.0</td>\n",
       "      <td>1</td>\n",
       "      <td>NaN</td>\n",
       "      <td>NaN</td>\n",
       "    </tr>\n",
       "    <tr>\n",
       "      <th>1</th>\n",
       "      <td>KBA13_HERST_BMW_BENZ</td>\n",
       "      <td>4</td>\n",
       "      <td>share of BMW &amp; Mercedes Benz within the PLZ8</td>\n",
       "      <td>high</td>\n",
       "    </tr>\n",
       "    <tr>\n",
       "      <th>2</th>\n",
       "      <td>KBA13_SEG_SPORTWAGEN</td>\n",
       "      <td>4</td>\n",
       "      <td>share of sportscars within the PLZ8</td>\n",
       "      <td>high</td>\n",
       "    </tr>\n",
       "    <tr>\n",
       "      <th>3</th>\n",
       "      <td>HEALTH_TYP_2.0</td>\n",
       "      <td>0</td>\n",
       "      <td>NaN</td>\n",
       "      <td>NaN</td>\n",
       "    </tr>\n",
       "    <tr>\n",
       "      <th>4</th>\n",
       "      <td>KBA13_SITZE_5</td>\n",
       "      <td>2</td>\n",
       "      <td>number of cars with 5 seats in the PLZ8</td>\n",
       "      <td>low</td>\n",
       "    </tr>\n",
       "    <tr>\n",
       "      <th>5</th>\n",
       "      <td>SHOPPER_TYP_0.0</td>\n",
       "      <td>0</td>\n",
       "      <td>NaN</td>\n",
       "      <td>NaN</td>\n",
       "    </tr>\n",
       "    <tr>\n",
       "      <th>6</th>\n",
       "      <td>FINANZ_VORSORGER</td>\n",
       "      <td>4</td>\n",
       "      <td>financial typology: be prepared</td>\n",
       "      <td>low</td>\n",
       "    </tr>\n",
       "    <tr>\n",
       "      <th>7</th>\n",
       "      <td>CJT_TYP_4</td>\n",
       "      <td>4</td>\n",
       "      <td>NaN</td>\n",
       "      <td>NaN</td>\n",
       "    </tr>\n",
       "    <tr>\n",
       "      <th>8</th>\n",
       "      <td>CJT_TYP_5</td>\n",
       "      <td>4</td>\n",
       "      <td>NaN</td>\n",
       "      <td>NaN</td>\n",
       "    </tr>\n",
       "    <tr>\n",
       "      <th>9</th>\n",
       "      <td>CJT_TYP_2</td>\n",
       "      <td>2</td>\n",
       "      <td>NaN</td>\n",
       "      <td>NaN</td>\n",
       "    </tr>\n",
       "    <tr>\n",
       "      <th>10</th>\n",
       "      <td>CJT_TYP_1</td>\n",
       "      <td>3</td>\n",
       "      <td>NaN</td>\n",
       "      <td>NaN</td>\n",
       "    </tr>\n",
       "    <tr>\n",
       "      <th>11</th>\n",
       "      <td>FINANZ_SPARER</td>\n",
       "      <td>2</td>\n",
       "      <td>financial typology: money saver</td>\n",
       "      <td>high</td>\n",
       "    </tr>\n",
       "  </tbody>\n",
       "</table>\n",
       "</div>"
      ],
      "text/plain": [
       "                   index Original_value  \\\n",
       "0        SHOPPER_TYP_1.0              1   \n",
       "1   KBA13_HERST_BMW_BENZ              4   \n",
       "2   KBA13_SEG_SPORTWAGEN              4   \n",
       "3         HEALTH_TYP_2.0              0   \n",
       "4          KBA13_SITZE_5              2   \n",
       "5        SHOPPER_TYP_0.0              0   \n",
       "6       FINANZ_VORSORGER              4   \n",
       "7              CJT_TYP_4              4   \n",
       "8              CJT_TYP_5              4   \n",
       "9              CJT_TYP_2              2   \n",
       "10             CJT_TYP_1              3   \n",
       "11         FINANZ_SPARER              2   \n",
       "\n",
       "                                     Description Meaning  \n",
       "0                                            NaN     NaN  \n",
       "1   share of BMW & Mercedes Benz within the PLZ8    high  \n",
       "2            share of sportscars within the PLZ8    high  \n",
       "3                                            NaN     NaN  \n",
       "4        number of cars with 5 seats in the PLZ8     low  \n",
       "5                                            NaN     NaN  \n",
       "6                financial typology: be prepared     low  \n",
       "7                                            NaN     NaN  \n",
       "8                                            NaN     NaN  \n",
       "9                                            NaN     NaN  \n",
       "10                                           NaN     NaN  \n",
       "11               financial typology: money saver    high  "
      ]
     },
     "execution_count": 117,
     "metadata": {},
     "output_type": "execute_result"
    }
   ],
   "source": [
    "#print out Demographic characteristics of Cluster 3 in customer dataset\n",
    "print('\\033[1m' + 'Demographic characteristics of Cluster 3 in customer' + '\\033[0m')\n",
    "get_original_value_of_cluster_center(3, 2, feature_info)"
   ]
  },
  {
   "cell_type": "markdown",
   "metadata": {},
   "source": [
    "### Interpretation of demographic characteristics of cluster 3 population  \n",
    "Person in this cluster are most likely having good financial status because their owning of high-end cars and they are also mostly likely to be money saver. This group of population should be targeted in the market compaign. "
   ]
  },
  {
   "cell_type": "code",
   "execution_count": 118,
   "metadata": {
    "scrolled": true
   },
   "outputs": [
    {
     "name": "stdout",
     "output_type": "stream",
     "text": [
      "\u001b[1mDemographic characteristics of Cluster 0 in customer\u001b[0m\n"
     ]
    },
    {
     "data": {
      "text/html": [
       "<div>\n",
       "<style scoped>\n",
       "    .dataframe tbody tr th:only-of-type {\n",
       "        vertical-align: middle;\n",
       "    }\n",
       "\n",
       "    .dataframe tbody tr th {\n",
       "        vertical-align: top;\n",
       "    }\n",
       "\n",
       "    .dataframe thead th {\n",
       "        text-align: right;\n",
       "    }\n",
       "</style>\n",
       "<table border=\"1\" class=\"dataframe\">\n",
       "  <thead>\n",
       "    <tr style=\"text-align: right;\">\n",
       "      <th></th>\n",
       "      <th>index</th>\n",
       "      <th>Original_value</th>\n",
       "      <th>Description</th>\n",
       "      <th>Meaning</th>\n",
       "    </tr>\n",
       "  </thead>\n",
       "  <tbody>\n",
       "    <tr>\n",
       "      <th>0</th>\n",
       "      <td>GEBAEUDETYP_5.0</td>\n",
       "      <td>1</td>\n",
       "      <td>NaN</td>\n",
       "      <td>NaN</td>\n",
       "    </tr>\n",
       "    <tr>\n",
       "      <th>1</th>\n",
       "      <td>SEMIO_VERT</td>\n",
       "      <td>6</td>\n",
       "      <td>affinity indicating in what way the person is ...</td>\n",
       "      <td>very low affinity</td>\n",
       "    </tr>\n",
       "    <tr>\n",
       "      <th>2</th>\n",
       "      <td>SEMIO_KULT</td>\n",
       "      <td>6</td>\n",
       "      <td>affinity indicating in what way the person is ...</td>\n",
       "      <td>very low affinity</td>\n",
       "    </tr>\n",
       "    <tr>\n",
       "      <th>3</th>\n",
       "      <td>SEMIO_DOM</td>\n",
       "      <td>3</td>\n",
       "      <td>affinity indicating in what way the person is ...</td>\n",
       "      <td>high affinity</td>\n",
       "    </tr>\n",
       "    <tr>\n",
       "      <th>4</th>\n",
       "      <td>SEMIO_KAEM</td>\n",
       "      <td>2</td>\n",
       "      <td>affinity indicating in what way the person is ...</td>\n",
       "      <td>very high affinity</td>\n",
       "    </tr>\n",
       "    <tr>\n",
       "      <th>5</th>\n",
       "      <td>GEBAEUDETYP_RASTER_nan</td>\n",
       "      <td>0</td>\n",
       "      <td>NaN</td>\n",
       "      <td>NaN</td>\n",
       "    </tr>\n",
       "    <tr>\n",
       "      <th>6</th>\n",
       "      <td>GEBAEUDETYP_RASTER_5.0</td>\n",
       "      <td>1</td>\n",
       "      <td>NaN</td>\n",
       "      <td>NaN</td>\n",
       "    </tr>\n",
       "    <tr>\n",
       "      <th>7</th>\n",
       "      <td>KBA13_KW_30</td>\n",
       "      <td>1</td>\n",
       "      <td>share of cars up to 30 KW engine power - PLZ8</td>\n",
       "      <td>very low</td>\n",
       "    </tr>\n",
       "    <tr>\n",
       "      <th>8</th>\n",
       "      <td>KBA13_KMH_140</td>\n",
       "      <td>3</td>\n",
       "      <td>share of cars with max speed between 110 km/h ...</td>\n",
       "      <td>average</td>\n",
       "    </tr>\n",
       "    <tr>\n",
       "      <th>9</th>\n",
       "      <td>KBA13_CCM_1401_2500</td>\n",
       "      <td>3</td>\n",
       "      <td>NaN</td>\n",
       "      <td>NaN</td>\n",
       "    </tr>\n",
       "    <tr>\n",
       "      <th>10</th>\n",
       "      <td>ANREDE_KZ_1</td>\n",
       "      <td>0</td>\n",
       "      <td>NaN</td>\n",
       "      <td>NaN</td>\n",
       "    </tr>\n",
       "    <tr>\n",
       "      <th>11</th>\n",
       "      <td>KBA13_ALTERHALTER_45</td>\n",
       "      <td>3</td>\n",
       "      <td>share of car owners between 31 and 45 within t...</td>\n",
       "      <td>average</td>\n",
       "    </tr>\n",
       "  </tbody>\n",
       "</table>\n",
       "</div>"
      ],
      "text/plain": [
       "                     index Original_value  \\\n",
       "0          GEBAEUDETYP_5.0              1   \n",
       "1               SEMIO_VERT              6   \n",
       "2               SEMIO_KULT              6   \n",
       "3                SEMIO_DOM              3   \n",
       "4               SEMIO_KAEM              2   \n",
       "5   GEBAEUDETYP_RASTER_nan              0   \n",
       "6   GEBAEUDETYP_RASTER_5.0              1   \n",
       "7              KBA13_KW_30              1   \n",
       "8            KBA13_KMH_140              3   \n",
       "9      KBA13_CCM_1401_2500              3   \n",
       "10             ANREDE_KZ_1              0   \n",
       "11    KBA13_ALTERHALTER_45              3   \n",
       "\n",
       "                                          Description             Meaning  \n",
       "0                                                 NaN                 NaN  \n",
       "1   affinity indicating in what way the person is ...   very low affinity  \n",
       "2   affinity indicating in what way the person is ...   very low affinity  \n",
       "3   affinity indicating in what way the person is ...       high affinity  \n",
       "4   affinity indicating in what way the person is ...  very high affinity  \n",
       "5                                                 NaN                 NaN  \n",
       "6                                                 NaN                 NaN  \n",
       "7       share of cars up to 30 KW engine power - PLZ8            very low  \n",
       "8   share of cars with max speed between 110 km/h ...             average  \n",
       "9                                                 NaN                 NaN  \n",
       "10                                                NaN                 NaN  \n",
       "11  share of car owners between 31 and 45 within t...             average  "
      ]
     },
     "execution_count": 118,
     "metadata": {},
     "output_type": "execute_result"
    }
   ],
   "source": [
    "#Cluster 0, 7 are the most underpresented clusters in customers, indicating that these clusters in population are unlikely\n",
    "#to become potential customers, which will be excluded from the marketing campaign\n",
    "print('\\033[1m' + 'Demographic characteristics of Cluster 0 in customer' + '\\033[0m')\n",
    "get_original_value_of_cluster_center(0, 2, feature_info)\n"
   ]
  },
  {
   "cell_type": "code",
   "execution_count": 120,
   "metadata": {
    "scrolled": true
   },
   "outputs": [
    {
     "name": "stdout",
     "output_type": "stream",
     "text": [
      "\u001b[1mDemographic characteristics of Cluster 7 in customer\u001b[0m\n"
     ]
    },
    {
     "data": {
      "text/html": [
       "<div>\n",
       "<style scoped>\n",
       "    .dataframe tbody tr th:only-of-type {\n",
       "        vertical-align: middle;\n",
       "    }\n",
       "\n",
       "    .dataframe tbody tr th {\n",
       "        vertical-align: top;\n",
       "    }\n",
       "\n",
       "    .dataframe thead th {\n",
       "        text-align: right;\n",
       "    }\n",
       "</style>\n",
       "<table border=\"1\" class=\"dataframe\">\n",
       "  <thead>\n",
       "    <tr style=\"text-align: right;\">\n",
       "      <th></th>\n",
       "      <th>index</th>\n",
       "      <th>Original_value</th>\n",
       "      <th>Description</th>\n",
       "      <th>Meaning</th>\n",
       "    </tr>\n",
       "  </thead>\n",
       "  <tbody>\n",
       "    <tr>\n",
       "      <th>0</th>\n",
       "      <td>KBA13_BAUMAX</td>\n",
       "      <td>1</td>\n",
       "      <td>NaN</td>\n",
       "      <td>NaN</td>\n",
       "    </tr>\n",
       "    <tr>\n",
       "      <th>1</th>\n",
       "      <td>KBA13_ANTG4</td>\n",
       "      <td>0</td>\n",
       "      <td>NaN</td>\n",
       "      <td>NaN</td>\n",
       "    </tr>\n",
       "    <tr>\n",
       "      <th>2</th>\n",
       "      <td>PLZ8_ANTG4</td>\n",
       "      <td>0</td>\n",
       "      <td>number of &gt;10 family houses in the PLZ8</td>\n",
       "      <td>none</td>\n",
       "    </tr>\n",
       "    <tr>\n",
       "      <th>3</th>\n",
       "      <td>FINANZ_MINIMALIST</td>\n",
       "      <td>2</td>\n",
       "      <td>financial typology: low financial interest</td>\n",
       "      <td>high</td>\n",
       "    </tr>\n",
       "    <tr>\n",
       "      <th>4</th>\n",
       "      <td>KBA05_ANTG1</td>\n",
       "      <td>2</td>\n",
       "      <td>number of 1-2 family houses in the cell</td>\n",
       "      <td>average share of 1-2 family homes</td>\n",
       "    </tr>\n",
       "    <tr>\n",
       "      <th>5</th>\n",
       "      <td>LP_STATUS_FEIN</td>\n",
       "      <td>4</td>\n",
       "      <td>social status fine</td>\n",
       "      <td>villagers</td>\n",
       "    </tr>\n",
       "    <tr>\n",
       "      <th>6</th>\n",
       "      <td>KBA05_MAXHERST_1.0</td>\n",
       "      <td>0</td>\n",
       "      <td>NaN</td>\n",
       "      <td>NaN</td>\n",
       "    </tr>\n",
       "    <tr>\n",
       "      <th>7</th>\n",
       "      <td>ANREDE_KZ_1</td>\n",
       "      <td>1</td>\n",
       "      <td>NaN</td>\n",
       "      <td>NaN</td>\n",
       "    </tr>\n",
       "    <tr>\n",
       "      <th>8</th>\n",
       "      <td>KBA13_ALTERHALTER_61</td>\n",
       "      <td>3</td>\n",
       "      <td>share of car owners elder than 61 within the PLZ8</td>\n",
       "      <td>average</td>\n",
       "    </tr>\n",
       "    <tr>\n",
       "      <th>9</th>\n",
       "      <td>KBA13_ALTERHALTER_45</td>\n",
       "      <td>3</td>\n",
       "      <td>share of car owners between 31 and 45 within t...</td>\n",
       "      <td>average</td>\n",
       "    </tr>\n",
       "    <tr>\n",
       "      <th>10</th>\n",
       "      <td>HEALTH_TYP_nan</td>\n",
       "      <td>0</td>\n",
       "      <td>NaN</td>\n",
       "      <td>NaN</td>\n",
       "    </tr>\n",
       "    <tr>\n",
       "      <th>11</th>\n",
       "      <td>GEBAEUDETYP_1.0</td>\n",
       "      <td>1</td>\n",
       "      <td>NaN</td>\n",
       "      <td>NaN</td>\n",
       "    </tr>\n",
       "  </tbody>\n",
       "</table>\n",
       "</div>"
      ],
      "text/plain": [
       "                   index Original_value  \\\n",
       "0           KBA13_BAUMAX              1   \n",
       "1            KBA13_ANTG4              0   \n",
       "2             PLZ8_ANTG4              0   \n",
       "3      FINANZ_MINIMALIST              2   \n",
       "4            KBA05_ANTG1              2   \n",
       "5         LP_STATUS_FEIN              4   \n",
       "6     KBA05_MAXHERST_1.0              0   \n",
       "7            ANREDE_KZ_1              1   \n",
       "8   KBA13_ALTERHALTER_61              3   \n",
       "9   KBA13_ALTERHALTER_45              3   \n",
       "10        HEALTH_TYP_nan              0   \n",
       "11       GEBAEUDETYP_1.0              1   \n",
       "\n",
       "                                          Description  \\\n",
       "0                                                 NaN   \n",
       "1                                                 NaN   \n",
       "2             number of >10 family houses in the PLZ8   \n",
       "3          financial typology: low financial interest   \n",
       "4             number of 1-2 family houses in the cell   \n",
       "5                                  social status fine   \n",
       "6                                                 NaN   \n",
       "7                                                 NaN   \n",
       "8   share of car owners elder than 61 within the PLZ8   \n",
       "9   share of car owners between 31 and 45 within t...   \n",
       "10                                                NaN   \n",
       "11                                                NaN   \n",
       "\n",
       "                              Meaning  \n",
       "0                                 NaN  \n",
       "1                                 NaN  \n",
       "2                                none  \n",
       "3                                high  \n",
       "4   average share of 1-2 family homes  \n",
       "5                           villagers  \n",
       "6                                 NaN  \n",
       "7                                 NaN  \n",
       "8                             average  \n",
       "9                             average  \n",
       "10                                NaN  \n",
       "11                                NaN  "
      ]
     },
     "execution_count": 120,
     "metadata": {},
     "output_type": "execute_result"
    }
   ],
   "source": [
    "print('\\033[1m' + 'Demographic characteristics of Cluster 7 in customer' + '\\033[0m')\n",
    "get_original_value_of_cluster_center(7, 2,feature_info)"
   ]
  },
  {
   "cell_type": "markdown",
   "metadata": {},
   "source": []
  },
  {
   "cell_type": "markdown",
   "metadata": {},
   "source": [
    "### Interpretation of demographic characteristics of cluster 0 and 7 population  \n",
    "Cluster 0 is hard to interprete because it seems to relate to some social behaviors and personalities. \n",
    "However, we can clearly see that cluster 7 is a group of people with low income, and people living in \n",
    "rural area and possily old and retired. \n"
   ]
  },
  {
   "cell_type": "markdown",
   "metadata": {},
   "source": [
    "## Part 2: Supervised Learning Model\n",
    "\n",
    "Now that you've found which parts of the population are more likely to be customers of the mail-order company, it's time to build a prediction model. Each of the rows in the \"MAILOUT\" data files represents an individual that was targeted for a mailout campaign. Ideally, we should be able to use the demographic information from each individual to decide whether or not it will be worth it to include that person in the campaign.\n",
    "\n",
    "The \"MAILOUT\" data has been split into two approximately equal parts, each with almost 43 000 data rows. In this part, you can verify your model with the \"TRAIN\" partition, which includes a column, \"RESPONSE\", that states whether or not a person became a customer of the company following the campaign. In the next part, you'll need to create predictions on the \"TEST\" partition, where the \"RESPONSE\" column has been withheld."
   ]
  },
  {
   "cell_type": "code",
   "execution_count": 82,
   "metadata": {},
   "outputs": [
    {
     "name": "stdout",
     "output_type": "stream",
     "text": [
      "Requirement already satisfied: xgboost in /Users/maoshaohua/anaconda3/lib/python3.7/site-packages (0.90)\r\n",
      "Requirement already satisfied: scipy in /Users/maoshaohua/anaconda3/lib/python3.7/site-packages (from xgboost) (1.2.1)\r\n",
      "Requirement already satisfied: numpy in /Users/maoshaohua/anaconda3/lib/python3.7/site-packages (from xgboost) (1.16.2)\r\n"
     ]
    }
   ],
   "source": [
    "import sys\n",
    "!{sys.executable} -m pip install xgboost"
   ]
  },
  {
   "cell_type": "code",
   "execution_count": 83,
   "metadata": {},
   "outputs": [],
   "source": [
    "from sklearn.ensemble import GradientBoostingRegressor\n",
    "from sklearn.ensemble import GradientBoostingRegressor\n",
    "from sklearn.ensemble import AdaBoostRegressor\n",
    "from xgboost import XGBRegressor\n",
    "from sklearn.pipeline import Pipeline\n",
    "from sklearn.preprocessing import Imputer, StandardScaler\n",
    "from sklearn.metrics import roc_auc_score\n",
    "from sklearn.model_selection import cross_val_score, StratifiedKFold\n",
    "from sklearn.model_selection import GridSearchCV\n",
    "from time import time\n",
    "import operator\n",
    "import warnings\n",
    "warnings.filterwarnings('ignore')"
   ]
  },
  {
   "cell_type": "markdown",
   "metadata": {},
   "source": [
    "### 2.1 Define all functions that will be used in this project "
   ]
  },
  {
   "cell_type": "code",
   "execution_count": 84,
   "metadata": {},
   "outputs": [],
   "source": [
    "def create_pipeline(clf):\n",
    "    '''\n",
    "    Create a pipeline to do the imputation, scaling and classfification\n",
    "    \n",
    "    Keyword arguments:\n",
    "    clf: classifier\n",
    "    \n",
    "    Returns:\n",
    "    Pipeline\n",
    "    '''\n",
    "    \n",
    "    return Pipeline([\n",
    "        ('imp', Imputer()),\n",
    "        ('scale', StandardScaler()),\n",
    "        ('clf', clf)\n",
    "    ])"
   ]
  },
  {
   "cell_type": "code",
   "execution_count": 85,
   "metadata": {},
   "outputs": [],
   "source": [
    "def model_evaluation(clf, X, y):\n",
    "    '''\n",
    "    Split data into training and test dataset, execute training and testing of the model\n",
    "    \n",
    "    Keyword arguments:\n",
    "    clf: classifier\n",
    "    X: data in all features\n",
    "    y: response\n",
    "    \n",
    "    Returns:\n",
    "    ROC scores of the model\n",
    "    '''\n",
    "    \n",
    "    start = time()\n",
    "    \n",
    "    pipeline = create_pipeline(clf)\n",
    "    scores = []\n",
    "\n",
    "    for train_index, test_index in skf.split(X, y):\n",
    "        # Split the data into training and testing datasets\n",
    "        X_train, X_test = X.iloc[train_index], X.iloc[test_index]\n",
    "        y_train, y_test = y.iloc[train_index], y.iloc[test_index]\n",
    "\n",
    "        # model training on the training dataset\n",
    "        pipeline.fit(X_train, y_train)\n",
    "\n",
    "        # Prediction on the test dataset\n",
    "        y_pred = pipeline.predict(X_test)\n",
    "        \n",
    "        # Obtain the ROC score of the predicted results vs. response\n",
    "        score = roc_auc_score(y_test, y_pred)\n",
    "        scores.append(score)\n",
    "        \n",
    "    end = time()\n",
    "    print(\"model_evaluation executed in {} seconds.\".format(end - start))\n",
    "    return scores"
   ]
  },
  {
   "cell_type": "code",
   "execution_count": 86,
   "metadata": {},
   "outputs": [],
   "source": [
    "def get_feature_respond(data, feature_info):\n",
    "    '''\n",
    "    clean data and split data into two sections: features and labels\n",
    "    \n",
    "    Keyword arguments:\n",
    "    data: dataset\n",
    "    feature_info: feature spreadsheet \n",
    "    \n",
    "    Returns:\n",
    "    Features and labels \n",
    "    '''\n",
    "\n",
    "    y = data.RESPONSE\n",
    "    \n",
    "    X = data.drop(['RESPONSE', 'LNR'], axis = 1)\n",
    "    X = clean_data(X, feature_info,azdias_rm_col,attribute_get_dummies)\n",
    "    \n",
    "    deletedRowIndexs = list(set(y.index.values.tolist()) - set(X.index.values.tolist()))\n",
    "    y = y.drop(deletedRowIndexs, axis=0)\n",
    "    \n",
    "    return X, y"
   ]
  },
  {
   "cell_type": "code",
   "execution_count": 87,
   "metadata": {},
   "outputs": [],
   "source": [
    "def doGridSearch(clf, prarm):\n",
    "    '''\n",
    "    Perform grid search to optimize the parameters\n",
    "    \n",
    "    Keyword arguments:\n",
    "    clf: classifier\n",
    "    prarm: paramters\n",
    "    \n",
    "    Returns:\n",
    "    Model fitted with optimized paramters\n",
    "    '''\n",
    "    start = time()\n",
    "    \n",
    "    gsearch = GridSearchCV(estimator = create_pipeline(clf),\n",
    "                       param_grid = param, scoring='roc_auc', n_jobs=-1, iid=False, cv=5)\n",
    "    gsearch.fit(X,y)\n",
    "    print(gsearch.best_params_)\n",
    "    print(gsearch.best_score_)\n",
    "    \n",
    "    end = time()\n",
    "    print(\"doGridSearch executed in {} seconds.\".format(end - start))"
   ]
  },
  {
   "cell_type": "markdown",
   "metadata": {},
   "source": [
    "### 2.2 Split data into training and testing data "
   ]
  },
  {
   "cell_type": "code",
   "execution_count": 88,
   "metadata": {},
   "outputs": [],
   "source": [
    "#split data into 5 folds training and testing data\n",
    "skf = StratifiedKFold(n_splits=5, random_state=30, shuffle=True)"
   ]
  },
  {
   "cell_type": "code",
   "execution_count": 89,
   "metadata": {},
   "outputs": [
    {
     "data": {
      "text/html": [
       "<div>\n",
       "<style scoped>\n",
       "    .dataframe tbody tr th:only-of-type {\n",
       "        vertical-align: middle;\n",
       "    }\n",
       "\n",
       "    .dataframe tbody tr th {\n",
       "        vertical-align: top;\n",
       "    }\n",
       "\n",
       "    .dataframe thead th {\n",
       "        text-align: right;\n",
       "    }\n",
       "</style>\n",
       "<table border=\"1\" class=\"dataframe\">\n",
       "  <thead>\n",
       "    <tr style=\"text-align: right;\">\n",
       "      <th></th>\n",
       "      <th>LNR</th>\n",
       "      <th>AGER_TYP</th>\n",
       "      <th>AKT_DAT_KL</th>\n",
       "      <th>ALTER_HH</th>\n",
       "      <th>ALTER_KIND1</th>\n",
       "      <th>ALTER_KIND2</th>\n",
       "      <th>ALTER_KIND3</th>\n",
       "      <th>ALTER_KIND4</th>\n",
       "      <th>ALTERSKATEGORIE_FEIN</th>\n",
       "      <th>ANZ_HAUSHALTE_AKTIV</th>\n",
       "      <th>...</th>\n",
       "      <th>VK_DHT4A</th>\n",
       "      <th>VK_DISTANZ</th>\n",
       "      <th>VK_ZG11</th>\n",
       "      <th>W_KEIT_KIND_HH</th>\n",
       "      <th>WOHNDAUER_2008</th>\n",
       "      <th>WOHNLAGE</th>\n",
       "      <th>ZABEOTYP</th>\n",
       "      <th>RESPONSE</th>\n",
       "      <th>ANREDE_KZ</th>\n",
       "      <th>ALTERSKATEGORIE_GROB</th>\n",
       "    </tr>\n",
       "  </thead>\n",
       "  <tbody>\n",
       "    <tr>\n",
       "      <th>0</th>\n",
       "      <td>1763</td>\n",
       "      <td>2</td>\n",
       "      <td>1.0</td>\n",
       "      <td>8.0</td>\n",
       "      <td>NaN</td>\n",
       "      <td>NaN</td>\n",
       "      <td>NaN</td>\n",
       "      <td>NaN</td>\n",
       "      <td>8.0</td>\n",
       "      <td>15.0</td>\n",
       "      <td>...</td>\n",
       "      <td>5.0</td>\n",
       "      <td>2.0</td>\n",
       "      <td>1.0</td>\n",
       "      <td>6.0</td>\n",
       "      <td>9.0</td>\n",
       "      <td>3.0</td>\n",
       "      <td>3</td>\n",
       "      <td>0</td>\n",
       "      <td>2</td>\n",
       "      <td>4</td>\n",
       "    </tr>\n",
       "    <tr>\n",
       "      <th>1</th>\n",
       "      <td>1771</td>\n",
       "      <td>1</td>\n",
       "      <td>4.0</td>\n",
       "      <td>13.0</td>\n",
       "      <td>NaN</td>\n",
       "      <td>NaN</td>\n",
       "      <td>NaN</td>\n",
       "      <td>NaN</td>\n",
       "      <td>13.0</td>\n",
       "      <td>1.0</td>\n",
       "      <td>...</td>\n",
       "      <td>1.0</td>\n",
       "      <td>2.0</td>\n",
       "      <td>1.0</td>\n",
       "      <td>4.0</td>\n",
       "      <td>9.0</td>\n",
       "      <td>7.0</td>\n",
       "      <td>1</td>\n",
       "      <td>0</td>\n",
       "      <td>2</td>\n",
       "      <td>3</td>\n",
       "    </tr>\n",
       "    <tr>\n",
       "      <th>2</th>\n",
       "      <td>1776</td>\n",
       "      <td>1</td>\n",
       "      <td>1.0</td>\n",
       "      <td>9.0</td>\n",
       "      <td>NaN</td>\n",
       "      <td>NaN</td>\n",
       "      <td>NaN</td>\n",
       "      <td>NaN</td>\n",
       "      <td>7.0</td>\n",
       "      <td>0.0</td>\n",
       "      <td>...</td>\n",
       "      <td>6.0</td>\n",
       "      <td>4.0</td>\n",
       "      <td>2.0</td>\n",
       "      <td>NaN</td>\n",
       "      <td>9.0</td>\n",
       "      <td>2.0</td>\n",
       "      <td>3</td>\n",
       "      <td>0</td>\n",
       "      <td>1</td>\n",
       "      <td>4</td>\n",
       "    </tr>\n",
       "    <tr>\n",
       "      <th>3</th>\n",
       "      <td>1460</td>\n",
       "      <td>2</td>\n",
       "      <td>1.0</td>\n",
       "      <td>6.0</td>\n",
       "      <td>NaN</td>\n",
       "      <td>NaN</td>\n",
       "      <td>NaN</td>\n",
       "      <td>NaN</td>\n",
       "      <td>6.0</td>\n",
       "      <td>4.0</td>\n",
       "      <td>...</td>\n",
       "      <td>8.0</td>\n",
       "      <td>11.0</td>\n",
       "      <td>11.0</td>\n",
       "      <td>6.0</td>\n",
       "      <td>9.0</td>\n",
       "      <td>1.0</td>\n",
       "      <td>3</td>\n",
       "      <td>0</td>\n",
       "      <td>2</td>\n",
       "      <td>4</td>\n",
       "    </tr>\n",
       "    <tr>\n",
       "      <th>4</th>\n",
       "      <td>1783</td>\n",
       "      <td>2</td>\n",
       "      <td>1.0</td>\n",
       "      <td>9.0</td>\n",
       "      <td>NaN</td>\n",
       "      <td>NaN</td>\n",
       "      <td>NaN</td>\n",
       "      <td>NaN</td>\n",
       "      <td>9.0</td>\n",
       "      <td>53.0</td>\n",
       "      <td>...</td>\n",
       "      <td>2.0</td>\n",
       "      <td>2.0</td>\n",
       "      <td>1.0</td>\n",
       "      <td>6.0</td>\n",
       "      <td>9.0</td>\n",
       "      <td>3.0</td>\n",
       "      <td>3</td>\n",
       "      <td>0</td>\n",
       "      <td>1</td>\n",
       "      <td>3</td>\n",
       "    </tr>\n",
       "  </tbody>\n",
       "</table>\n",
       "<p>5 rows × 367 columns</p>\n",
       "</div>"
      ],
      "text/plain": [
       "    LNR  AGER_TYP  AKT_DAT_KL  ALTER_HH  ALTER_KIND1  ALTER_KIND2  \\\n",
       "0  1763         2         1.0       8.0          NaN          NaN   \n",
       "1  1771         1         4.0      13.0          NaN          NaN   \n",
       "2  1776         1         1.0       9.0          NaN          NaN   \n",
       "3  1460         2         1.0       6.0          NaN          NaN   \n",
       "4  1783         2         1.0       9.0          NaN          NaN   \n",
       "\n",
       "   ALTER_KIND3  ALTER_KIND4  ALTERSKATEGORIE_FEIN  ANZ_HAUSHALTE_AKTIV  ...  \\\n",
       "0          NaN          NaN                   8.0                 15.0  ...   \n",
       "1          NaN          NaN                  13.0                  1.0  ...   \n",
       "2          NaN          NaN                   7.0                  0.0  ...   \n",
       "3          NaN          NaN                   6.0                  4.0  ...   \n",
       "4          NaN          NaN                   9.0                 53.0  ...   \n",
       "\n",
       "   VK_DHT4A  VK_DISTANZ  VK_ZG11  W_KEIT_KIND_HH  WOHNDAUER_2008  WOHNLAGE  \\\n",
       "0       5.0         2.0      1.0             6.0             9.0       3.0   \n",
       "1       1.0         2.0      1.0             4.0             9.0       7.0   \n",
       "2       6.0         4.0      2.0             NaN             9.0       2.0   \n",
       "3       8.0        11.0     11.0             6.0             9.0       1.0   \n",
       "4       2.0         2.0      1.0             6.0             9.0       3.0   \n",
       "\n",
       "   ZABEOTYP RESPONSE ANREDE_KZ ALTERSKATEGORIE_GROB  \n",
       "0         3        0         2                    4  \n",
       "1         1        0         2                    3  \n",
       "2         3        0         1                    4  \n",
       "3         3        0         2                    4  \n",
       "4         3        0         1                    3  \n",
       "\n",
       "[5 rows x 367 columns]"
      ]
     },
     "execution_count": 89,
     "metadata": {},
     "output_type": "execute_result"
    }
   ],
   "source": [
    "mailout_train = pd.read_csv('./Udacity_MAILOUT_052018_TRAIN.csv', sep=';')\n",
    "mailout_train.head()"
   ]
  },
  {
   "cell_type": "code",
   "execution_count": 130,
   "metadata": {},
   "outputs": [
    {
     "name": "stdout",
     "output_type": "stream",
     "text": [
      "(42962, 367)\n",
      "0    42430\n",
      "1      532\n",
      "Name: RESPONSE, dtype: int64\n"
     ]
    },
    {
     "data": {
      "text/plain": [
       "0.012383036171500396"
      ]
     },
     "execution_count": 130,
     "metadata": {},
     "output_type": "execute_result"
    }
   ],
   "source": [
    "print(mailout_train.shape)\n",
    "print(mailout_train['RESPONSE'].value_counts())\n",
    "(mailout_train.RESPONSE == 1).mean()"
   ]
  },
  {
   "cell_type": "code",
   "execution_count": 91,
   "metadata": {
    "scrolled": true
   },
   "outputs": [
    {
     "name": "stdout",
     "output_type": "stream",
     "text": [
      "get_feature_respond executed in 8.888243198394775 seconds.\n"
     ]
    },
    {
     "data": {
      "text/plain": [
       "((34400, 420), (34400,))"
      ]
     },
     "execution_count": 91,
     "metadata": {},
     "output_type": "execute_result"
    }
   ],
   "source": [
    "start = time()\n",
    "#splite data into features and response\n",
    "X, y = get_feature_respond(mailout_train, feature_info)\n",
    "\n",
    "end = time()\n",
    "print(\"get_feature_respond executed in {} seconds.\".format(end - start))\n",
    "X.shape, y.shape"
   ]
  },
  {
   "cell_type": "markdown",
   "metadata": {},
   "source": [
    "### 2.3 Select classifers and train models with default parameters"
   ]
  },
  {
   "cell_type": "code",
   "execution_count": 92,
   "metadata": {},
   "outputs": [],
   "source": [
    "# We have tried classifiers and the classification results are not good, so instead we used regressors to make classification\n",
    "clf_candidates = {\n",
    "    \"GradientBoostingRegressor\": GradientBoostingRegressor(random_state=30),\n",
    "    \"AdaBoostRegressor\": AdaBoostRegressor(random_state=30),\n",
    "    \"XGBRegressor\": XGBRegressor(random_state=30, objective = 'binary:logistic'),\n",
    "}"
   ]
  },
  {
   "cell_type": "code",
   "execution_count": 93,
   "metadata": {},
   "outputs": [
    {
     "name": "stdout",
     "output_type": "stream",
     "text": [
      "model_evaluation executed in 148.57685708999634 seconds.\n",
      "model_evaluation executed in 43.52824783325195 seconds.\n",
      "model_evaluation executed in 188.17693614959717 seconds.\n",
      "get clf_scores_dict executed in 380.32183623313904 seconds.\n"
     ]
    }
   ],
   "source": [
    "start = time()\n",
    "# use default parameters to execute the regressors and obtain the AUC score for model evaluation\n",
    "clf_scores_dict = {}\n",
    "\n",
    "for name, clf in clf_candidates.items():\n",
    "    clf_scores_dict[name] = model_evaluation(clf, X, y)\n",
    "    \n",
    "end = time()\n",
    "print(\"get clf_scores_dict executed in {} seconds.\".format(end - start))"
   ]
  },
  {
   "cell_type": "code",
   "execution_count": 94,
   "metadata": {},
   "outputs": [
    {
     "data": {
      "text/html": [
       "<div>\n",
       "<style scoped>\n",
       "    .dataframe tbody tr th:only-of-type {\n",
       "        vertical-align: middle;\n",
       "    }\n",
       "\n",
       "    .dataframe tbody tr th {\n",
       "        vertical-align: top;\n",
       "    }\n",
       "\n",
       "    .dataframe thead th {\n",
       "        text-align: right;\n",
       "    }\n",
       "</style>\n",
       "<table border=\"1\" class=\"dataframe\">\n",
       "  <thead>\n",
       "    <tr style=\"text-align: right;\">\n",
       "      <th></th>\n",
       "      <th>GradientBoostingRegressor</th>\n",
       "      <th>AdaBoostRegressor</th>\n",
       "      <th>XGBRegressor</th>\n",
       "    </tr>\n",
       "  </thead>\n",
       "  <tbody>\n",
       "    <tr>\n",
       "      <th>0</th>\n",
       "      <td>0.771542</td>\n",
       "      <td>0.752002</td>\n",
       "      <td>0.773727</td>\n",
       "    </tr>\n",
       "    <tr>\n",
       "      <th>1</th>\n",
       "      <td>0.809774</td>\n",
       "      <td>0.792879</td>\n",
       "      <td>0.810515</td>\n",
       "    </tr>\n",
       "    <tr>\n",
       "      <th>2</th>\n",
       "      <td>0.757817</td>\n",
       "      <td>0.762194</td>\n",
       "      <td>0.745195</td>\n",
       "    </tr>\n",
       "    <tr>\n",
       "      <th>3</th>\n",
       "      <td>0.805594</td>\n",
       "      <td>0.790422</td>\n",
       "      <td>0.786660</td>\n",
       "    </tr>\n",
       "    <tr>\n",
       "      <th>4</th>\n",
       "      <td>0.729367</td>\n",
       "      <td>0.732075</td>\n",
       "      <td>0.744325</td>\n",
       "    </tr>\n",
       "  </tbody>\n",
       "</table>\n",
       "</div>"
      ],
      "text/plain": [
       "   GradientBoostingRegressor  AdaBoostRegressor  XGBRegressor\n",
       "0                   0.771542           0.752002      0.773727\n",
       "1                   0.809774           0.792879      0.810515\n",
       "2                   0.757817           0.762194      0.745195\n",
       "3                   0.805594           0.790422      0.786660\n",
       "4                   0.729367           0.732075      0.744325"
      ]
     },
     "execution_count": 94,
     "metadata": {},
     "output_type": "execute_result"
    }
   ],
   "source": [
    "clf_scores_df = pd.DataFrame(clf_scores_dict)\n",
    "clf_scores_df.columns = list(clf_candidates.keys())\n",
    "clf_scores_df"
   ]
  },
  {
   "cell_type": "code",
   "execution_count": 95,
   "metadata": {},
   "outputs": [
    {
     "data": {
      "text/html": [
       "<div>\n",
       "<style scoped>\n",
       "    .dataframe tbody tr th:only-of-type {\n",
       "        vertical-align: middle;\n",
       "    }\n",
       "\n",
       "    .dataframe tbody tr th {\n",
       "        vertical-align: top;\n",
       "    }\n",
       "\n",
       "    .dataframe thead th {\n",
       "        text-align: right;\n",
       "    }\n",
       "</style>\n",
       "<table border=\"1\" class=\"dataframe\">\n",
       "  <thead>\n",
       "    <tr style=\"text-align: right;\">\n",
       "      <th></th>\n",
       "      <th>GradientBoostingRegressor</th>\n",
       "      <th>AdaBoostRegressor</th>\n",
       "      <th>XGBRegressor</th>\n",
       "    </tr>\n",
       "  </thead>\n",
       "  <tbody>\n",
       "    <tr>\n",
       "      <th>count</th>\n",
       "      <td>5.000000</td>\n",
       "      <td>5.000000</td>\n",
       "      <td>5.000000</td>\n",
       "    </tr>\n",
       "    <tr>\n",
       "      <th>mean</th>\n",
       "      <td>0.774819</td>\n",
       "      <td>0.765914</td>\n",
       "      <td>0.772084</td>\n",
       "    </tr>\n",
       "    <tr>\n",
       "      <th>std</th>\n",
       "      <td>0.033670</td>\n",
       "      <td>0.025885</td>\n",
       "      <td>0.028221</td>\n",
       "    </tr>\n",
       "    <tr>\n",
       "      <th>min</th>\n",
       "      <td>0.729367</td>\n",
       "      <td>0.732075</td>\n",
       "      <td>0.744325</td>\n",
       "    </tr>\n",
       "    <tr>\n",
       "      <th>25%</th>\n",
       "      <td>0.757817</td>\n",
       "      <td>0.752002</td>\n",
       "      <td>0.745195</td>\n",
       "    </tr>\n",
       "    <tr>\n",
       "      <th>50%</th>\n",
       "      <td>0.771542</td>\n",
       "      <td>0.762194</td>\n",
       "      <td>0.773727</td>\n",
       "    </tr>\n",
       "    <tr>\n",
       "      <th>75%</th>\n",
       "      <td>0.805594</td>\n",
       "      <td>0.790422</td>\n",
       "      <td>0.786660</td>\n",
       "    </tr>\n",
       "    <tr>\n",
       "      <th>max</th>\n",
       "      <td>0.809774</td>\n",
       "      <td>0.792879</td>\n",
       "      <td>0.810515</td>\n",
       "    </tr>\n",
       "  </tbody>\n",
       "</table>\n",
       "</div>"
      ],
      "text/plain": [
       "       GradientBoostingRegressor  AdaBoostRegressor  XGBRegressor\n",
       "count                   5.000000           5.000000      5.000000\n",
       "mean                    0.774819           0.765914      0.772084\n",
       "std                     0.033670           0.025885      0.028221\n",
       "min                     0.729367           0.732075      0.744325\n",
       "25%                     0.757817           0.752002      0.745195\n",
       "50%                     0.771542           0.762194      0.773727\n",
       "75%                     0.805594           0.790422      0.786660\n",
       "max                     0.809774           0.792879      0.810515"
      ]
     },
     "execution_count": 95,
     "metadata": {},
     "output_type": "execute_result"
    }
   ],
   "source": [
    "clf_scores_df.describe()"
   ]
  },
  {
   "cell_type": "markdown",
   "metadata": {},
   "source": [
    "### 2.4 Fine tune parameters\n",
    "The mean ROC score of the three classifiers show that the performance of GradientBoostingRegressor and XGBRegressor are a little better than AdaBoostRegressor; thus in the next section, we fine tune the parameters in these two models to improve the results.    \n",
    "Because it took too long time to tune all parameters at the same time, I split the parameters and tuned them separately. The optimal parameters will be feed in the next tuning. "
   ]
  },
  {
   "cell_type": "markdown",
   "metadata": {},
   "source": [
    "#### 2.4.1 Fine tune parameters for GradientBoostingRegressor\n"
   ]
  },
  {
   "cell_type": "code",
   "execution_count": 96,
   "metadata": {},
   "outputs": [
    {
     "name": "stdout",
     "output_type": "stream",
     "text": [
      "{'clf__max_depth': 8, 'clf__min_child_weight': 1}\n",
      "0.7766476551832072\n",
      "doGridSearch executed in 4245.077302932739 seconds.\n"
     ]
    }
   ],
   "source": [
    "param = {\n",
    "    'clf__max_depth':range(3,10,1),\n",
    "    'clf__min_child_weight':range(1,6,1)\n",
    "}\n",
    "\n",
    "clf = XGBRegressor(random_state = 30,\n",
    "                    objective = 'binary:logistic',\n",
    "                    scale_pos_weight = 1)\n",
    "\n",
    "doGridSearch(clf, param)"
   ]
  },
  {
   "cell_type": "code",
   "execution_count": 97,
   "metadata": {
    "scrolled": true
   },
   "outputs": [
    {
     "name": "stdout",
     "output_type": "stream",
     "text": [
      "{'clf__gamma': 0.0}\n",
      "0.7766476551832072\n",
      "doGridSearch executed in 868.498517036438 seconds.\n"
     ]
    }
   ],
   "source": [
    "param = {\n",
    "    'clf__gamma': [i/10.0 for i in range(0,5)]\n",
    "}\n",
    "\n",
    "clf = XGBRegressor(random_state=30, \n",
    "                    max_depth = 8,\n",
    "                    min_child_weight = 1,\n",
    "                    objective = 'binary:logistic',\n",
    "                    scale_pos_weight = 1)\n",
    "\n",
    "doGridSearch(clf, param)"
   ]
  },
  {
   "cell_type": "code",
   "execution_count": 98,
   "metadata": {},
   "outputs": [
    {
     "name": "stdout",
     "output_type": "stream",
     "text": [
      "{'clf__colsample_bytree': 0.85, 'clf__subsample': 0.75}\n",
      "0.77959894673451\n",
      "doGridSearch executed in 1178.0465908050537 seconds.\n"
     ]
    }
   ],
   "source": [
    "param = {\n",
    "    'clf__subsample':[i/100.0 for i in range(75,90,5)],\n",
    "    'clf__colsample_bytree':[i/100.0 for i in range(75,90,5)]\n",
    "}\n",
    "\n",
    "clf = XGBRegressor(random_state=30, \n",
    "                    max_depth = 8,\n",
    "                    gamma = 0.0,\n",
    "                    min_child_weight = 1,\n",
    "                    objective = 'binary:logistic',\n",
    "                    scale_pos_weight = 1)\n",
    "\n",
    "doGridSearch(clf, param)"
   ]
  },
  {
   "cell_type": "code",
   "execution_count": 99,
   "metadata": {},
   "outputs": [
    {
     "name": "stdout",
     "output_type": "stream",
     "text": [
      "{'clf__reg_alpha': 0.3}\n",
      "0.7777947395879947\n",
      "doGridSearch executed in 1210.2953851222992 seconds.\n"
     ]
    }
   ],
   "source": [
    "param = {\n",
    "    'clf__reg_alpha':[i/10.0 for i in range(1,10)]\n",
    "}\n",
    "\n",
    "clf = XGBRegressor(random_state=30, \n",
    "                    max_depth = 8,\n",
    "                    gamma = 0.0,\n",
    "                    min_child_weight = 1,\n",
    "                    subsample = 0.75,\n",
    "                    colsample_bytree = 0.85,\n",
    "                    objective = 'binary:logistic',\n",
    "                    scale_pos_weight = 1)\n",
    "\n",
    "doGridSearch(clf, param)"
   ]
  },
  {
   "cell_type": "code",
   "execution_count": 100,
   "metadata": {},
   "outputs": [
    {
     "name": "stdout",
     "output_type": "stream",
     "text": [
      "model_evaluation executed in 336.95400977134705 seconds.\n"
     ]
    },
    {
     "data": {
      "text/plain": [
       "0.7718603170292754"
      ]
     },
     "execution_count": 100,
     "metadata": {},
     "output_type": "execute_result"
    }
   ],
   "source": [
    "clf = XGBRegressor(random_state=30, \n",
    "                    max_depth = 8,\n",
    "                    gamma = 0.0,\n",
    "                    min_child_weight = 1,\n",
    "                    subsample = 0.75,\n",
    "                    colsample_bytree = 0.85,\n",
    "                    objective = 'binary:logistic',\n",
    "                    reg_alpha = 0.3,\n",
    "                    scale_pos_weight = 1)\n",
    "scores = model_evaluation(clf, X, y)\n",
    "np.array(scores).mean()"
   ]
  },
  {
   "cell_type": "markdown",
   "metadata": {},
   "source": [
    "#### 2.4.2 Fine tune parameters for GradientBoostingRegressor"
   ]
  },
  {
   "cell_type": "code",
   "execution_count": 101,
   "metadata": {},
   "outputs": [
    {
     "name": "stdout",
     "output_type": "stream",
     "text": [
      "{'clf__learning_rate': 0.25, 'clf__n_estimators': 16}\n",
      "0.7772629239188947\n",
      "doGridSearch executed in 807.4370279312134 seconds.\n"
     ]
    }
   ],
   "source": [
    "#n_estimators = [1, 2, 4, 8, 16, 32, 64, 100, 200]\n",
    "#learning_rates = [0.5, 0.25, 0.1, 0.05, 0.01, 0.005]\n",
    "\n",
    "n_estimators = [4, 8, 16, 32, 64, 100]\n",
    "learning_rates = [0.5, 0.25, 0.1, 0.05, 0.01]\n",
    "\n",
    "param = {\n",
    "    'clf__n_estimators': n_estimators,\n",
    "    'clf__learning_rate': learning_rates\n",
    "}\n",
    "clf = GradientBoostingRegressor(random_state = 30)\n",
    "doGridSearch(clf, param)"
   ]
  },
  {
   "cell_type": "code",
   "execution_count": 102,
   "metadata": {},
   "outputs": [
    {
     "name": "stdout",
     "output_type": "stream",
     "text": [
      "{'clf__max_depth': 9.0, 'clf__min_samples_split': 0.5}\n",
      "0.7852073761442566\n",
      "doGridSearch executed in 3923.1991040706635 seconds.\n"
     ]
    }
   ],
   "source": [
    "max_depths = np.linspace(1, 32, 32, endpoint=True)\n",
    "min_samples_splits = np.linspace(0.1, 1.0, 10, endpoint=True)\n",
    "\n",
    "param = {\n",
    "    'clf__max_depth': max_depths,\n",
    "    'clf__min_samples_split': min_samples_splits\n",
    "}\n",
    "clf = GradientBoostingRegressor(random_state = 30,\n",
    "                               learning_rate = 0.25,\n",
    "                               n_estimators = 16)\n",
    "doGridSearch(clf, param)"
   ]
  },
  {
   "cell_type": "code",
   "execution_count": 103,
   "metadata": {},
   "outputs": [
    {
     "name": "stdout",
     "output_type": "stream",
     "text": [
      "{'clf__min_samples_leaf': 0.1}\n",
      "0.7824276602346764\n",
      "doGridSearch executed in 27.998707056045532 seconds.\n"
     ]
    }
   ],
   "source": [
    "min_samples_leafs = np.linspace(0.1, 0.5, 5, endpoint=True)\n",
    "\n",
    "param = {\n",
    "    'clf__min_samples_leaf': min_samples_leafs,\n",
    "}\n",
    "\n",
    "clf = GradientBoostingRegressor(random_state = 30,\n",
    "                               learning_rate = 0.25,\n",
    "                               n_estimators = 16,\n",
    "                               min_samples_split = 0.5,\n",
    "                               max_depth = 9)\n",
    "doGridSearch(clf, param)"
   ]
  },
  {
   "cell_type": "code",
   "execution_count": 104,
   "metadata": {},
   "outputs": [
    {
     "name": "stdout",
     "output_type": "stream",
     "text": [
      "model_evaluation executed in 15.605759859085083 seconds.\n"
     ]
    },
    {
     "data": {
      "text/plain": [
       "0.7795357991539623"
      ]
     },
     "execution_count": 104,
     "metadata": {},
     "output_type": "execute_result"
    }
   ],
   "source": [
    "clf = GradientBoostingRegressor(random_state = 30,\n",
    "                               learning_rate = 0.25,\n",
    "                               n_estimators = 16,\n",
    "                               min_samples_split = 0.5,\n",
    "                               max_depth = 9,\n",
    "                               min_samples_leaf = 0.1)\n",
    "\n",
    "scores = model_evaluation(clf, X, y)\n",
    "np.array(scores).mean()"
   ]
  },
  {
   "cell_type": "markdown",
   "metadata": {},
   "source": [
    "## Part 3: Kaggle Competition\n",
    "\n",
    "Now that you've created a model to predict which individuals are most likely to respond to a mailout campaign, it's time to test that model in competition through Kaggle. If you click on the link [here](http://www.kaggle.com/t/21e6d45d4c574c7fa2d868f0e8c83140), you'll be taken to the competition page where, if you have a Kaggle account, you can enter. If you're one of the top performers, you may have the chance to be contacted by a hiring manager from Arvato or Bertelsmann for an interview!\n",
    "\n",
    "Your entry to the competition should be a CSV file with two columns. The first column should be a copy of \"LNR\", which acts as an ID number for each individual in the \"TEST\" partition. The second column, \"RESPONSE\", should be some measure of how likely each individual became a customer – this might not be a straightforward probability. As you should have found in Part 2, there is a large output class imbalance, where most individuals did not respond to the mailout. Thus, predicting individual classes and using accuracy does not seem to be an appropriate performance evaluation method. Instead, the competition will be using AUC to evaluate performance. The exact values of the \"RESPONSE\" column do not matter as much: only that the higher values try to capture as many of the actual customers as possible, early in the ROC curve sweep."
   ]
  },
  {
   "cell_type": "code",
   "execution_count": 105,
   "metadata": {},
   "outputs": [],
   "source": [
    "mailout_test = pd.read_csv('./Udacity_MAILOUT_052018_TEST.csv', sep=';')"
   ]
  },
  {
   "cell_type": "code",
   "execution_count": 133,
   "metadata": {},
   "outputs": [
    {
     "name": "stdout",
     "output_type": "stream",
     "text": [
      "(42833, 366)\n"
     ]
    },
    {
     "data": {
      "text/html": [
       "<div>\n",
       "<style scoped>\n",
       "    .dataframe tbody tr th:only-of-type {\n",
       "        vertical-align: middle;\n",
       "    }\n",
       "\n",
       "    .dataframe tbody tr th {\n",
       "        vertical-align: top;\n",
       "    }\n",
       "\n",
       "    .dataframe thead th {\n",
       "        text-align: right;\n",
       "    }\n",
       "</style>\n",
       "<table border=\"1\" class=\"dataframe\">\n",
       "  <thead>\n",
       "    <tr style=\"text-align: right;\">\n",
       "      <th></th>\n",
       "      <th>LNR</th>\n",
       "      <th>AGER_TYP</th>\n",
       "      <th>AKT_DAT_KL</th>\n",
       "      <th>ALTER_HH</th>\n",
       "      <th>ALTER_KIND1</th>\n",
       "      <th>ALTER_KIND2</th>\n",
       "      <th>ALTER_KIND3</th>\n",
       "      <th>ALTER_KIND4</th>\n",
       "      <th>ALTERSKATEGORIE_FEIN</th>\n",
       "      <th>ANZ_HAUSHALTE_AKTIV</th>\n",
       "      <th>...</th>\n",
       "      <th>VHN</th>\n",
       "      <th>VK_DHT4A</th>\n",
       "      <th>VK_DISTANZ</th>\n",
       "      <th>VK_ZG11</th>\n",
       "      <th>W_KEIT_KIND_HH</th>\n",
       "      <th>WOHNDAUER_2008</th>\n",
       "      <th>WOHNLAGE</th>\n",
       "      <th>ZABEOTYP</th>\n",
       "      <th>ANREDE_KZ</th>\n",
       "      <th>ALTERSKATEGORIE_GROB</th>\n",
       "    </tr>\n",
       "  </thead>\n",
       "  <tbody>\n",
       "    <tr>\n",
       "      <th>0</th>\n",
       "      <td>1754</td>\n",
       "      <td>2.0</td>\n",
       "      <td>1.0</td>\n",
       "      <td>7.0</td>\n",
       "      <td>NaN</td>\n",
       "      <td>NaN</td>\n",
       "      <td>NaN</td>\n",
       "      <td>NaN</td>\n",
       "      <td>6.0</td>\n",
       "      <td>NaN</td>\n",
       "      <td>...</td>\n",
       "      <td>4.0</td>\n",
       "      <td>5.0</td>\n",
       "      <td>6.0</td>\n",
       "      <td>3.0</td>\n",
       "      <td>6.0</td>\n",
       "      <td>9.0</td>\n",
       "      <td>3.0</td>\n",
       "      <td>3</td>\n",
       "      <td>1</td>\n",
       "      <td>4</td>\n",
       "    </tr>\n",
       "    <tr>\n",
       "      <th>1</th>\n",
       "      <td>1770</td>\n",
       "      <td>NaN</td>\n",
       "      <td>1.0</td>\n",
       "      <td>NaN</td>\n",
       "      <td>NaN</td>\n",
       "      <td>NaN</td>\n",
       "      <td>NaN</td>\n",
       "      <td>NaN</td>\n",
       "      <td>0.0</td>\n",
       "      <td>NaN</td>\n",
       "      <td>...</td>\n",
       "      <td>1.0</td>\n",
       "      <td>5.0</td>\n",
       "      <td>2.0</td>\n",
       "      <td>1.0</td>\n",
       "      <td>6.0</td>\n",
       "      <td>9.0</td>\n",
       "      <td>5.0</td>\n",
       "      <td>3</td>\n",
       "      <td>1</td>\n",
       "      <td>4</td>\n",
       "    </tr>\n",
       "    <tr>\n",
       "      <th>2</th>\n",
       "      <td>1465</td>\n",
       "      <td>2.0</td>\n",
       "      <td>9.0</td>\n",
       "      <td>16.0</td>\n",
       "      <td>NaN</td>\n",
       "      <td>NaN</td>\n",
       "      <td>NaN</td>\n",
       "      <td>NaN</td>\n",
       "      <td>11.0</td>\n",
       "      <td>NaN</td>\n",
       "      <td>...</td>\n",
       "      <td>3.0</td>\n",
       "      <td>9.0</td>\n",
       "      <td>6.0</td>\n",
       "      <td>3.0</td>\n",
       "      <td>2.0</td>\n",
       "      <td>9.0</td>\n",
       "      <td>4.0</td>\n",
       "      <td>3</td>\n",
       "      <td>2</td>\n",
       "      <td>4</td>\n",
       "    </tr>\n",
       "    <tr>\n",
       "      <th>3</th>\n",
       "      <td>1470</td>\n",
       "      <td>NaN</td>\n",
       "      <td>7.0</td>\n",
       "      <td>NaN</td>\n",
       "      <td>NaN</td>\n",
       "      <td>NaN</td>\n",
       "      <td>NaN</td>\n",
       "      <td>NaN</td>\n",
       "      <td>0.0</td>\n",
       "      <td>NaN</td>\n",
       "      <td>...</td>\n",
       "      <td>2.0</td>\n",
       "      <td>6.0</td>\n",
       "      <td>6.0</td>\n",
       "      <td>3.0</td>\n",
       "      <td>NaN</td>\n",
       "      <td>9.0</td>\n",
       "      <td>2.0</td>\n",
       "      <td>3</td>\n",
       "      <td>2</td>\n",
       "      <td>4</td>\n",
       "    </tr>\n",
       "    <tr>\n",
       "      <th>4</th>\n",
       "      <td>1478</td>\n",
       "      <td>1.0</td>\n",
       "      <td>1.0</td>\n",
       "      <td>21.0</td>\n",
       "      <td>NaN</td>\n",
       "      <td>NaN</td>\n",
       "      <td>NaN</td>\n",
       "      <td>NaN</td>\n",
       "      <td>13.0</td>\n",
       "      <td>NaN</td>\n",
       "      <td>...</td>\n",
       "      <td>1.0</td>\n",
       "      <td>2.0</td>\n",
       "      <td>4.0</td>\n",
       "      <td>3.0</td>\n",
       "      <td>3.0</td>\n",
       "      <td>9.0</td>\n",
       "      <td>7.0</td>\n",
       "      <td>4</td>\n",
       "      <td>2</td>\n",
       "      <td>4</td>\n",
       "    </tr>\n",
       "  </tbody>\n",
       "</table>\n",
       "<p>5 rows × 366 columns</p>\n",
       "</div>"
      ],
      "text/plain": [
       "    LNR  AGER_TYP  AKT_DAT_KL  ALTER_HH  ALTER_KIND1  ALTER_KIND2  \\\n",
       "0  1754       2.0         1.0       7.0          NaN          NaN   \n",
       "1  1770       NaN         1.0       NaN          NaN          NaN   \n",
       "2  1465       2.0         9.0      16.0          NaN          NaN   \n",
       "3  1470       NaN         7.0       NaN          NaN          NaN   \n",
       "4  1478       1.0         1.0      21.0          NaN          NaN   \n",
       "\n",
       "   ALTER_KIND3  ALTER_KIND4  ALTERSKATEGORIE_FEIN  ANZ_HAUSHALTE_AKTIV  ...  \\\n",
       "0          NaN          NaN                   6.0                  NaN  ...   \n",
       "1          NaN          NaN                   0.0                  NaN  ...   \n",
       "2          NaN          NaN                  11.0                  NaN  ...   \n",
       "3          NaN          NaN                   0.0                  NaN  ...   \n",
       "4          NaN          NaN                  13.0                  NaN  ...   \n",
       "\n",
       "   VHN  VK_DHT4A  VK_DISTANZ  VK_ZG11  W_KEIT_KIND_HH  WOHNDAUER_2008  \\\n",
       "0  4.0       5.0         6.0      3.0             6.0             9.0   \n",
       "1  1.0       5.0         2.0      1.0             6.0             9.0   \n",
       "2  3.0       9.0         6.0      3.0             2.0             9.0   \n",
       "3  2.0       6.0         6.0      3.0             NaN             9.0   \n",
       "4  1.0       2.0         4.0      3.0             3.0             9.0   \n",
       "\n",
       "   WOHNLAGE ZABEOTYP  ANREDE_KZ  ALTERSKATEGORIE_GROB  \n",
       "0       3.0        3          1                     4  \n",
       "1       5.0        3          1                     4  \n",
       "2       4.0        3          2                     4  \n",
       "3       2.0        3          2                     4  \n",
       "4       7.0        4          2                     4  \n",
       "\n",
       "[5 rows x 366 columns]"
      ]
     },
     "execution_count": 133,
     "metadata": {},
     "output_type": "execute_result"
    }
   ],
   "source": [
    "print(mailout_test.shape)\n",
    "mailout_test.head()"
   ]
  },
  {
   "cell_type": "code",
   "execution_count": 106,
   "metadata": {},
   "outputs": [],
   "source": [
    "X_test_clean = clean_data(mailout_test, feature_info, azdias_rm_col, attribute_get_dummies)"
   ]
  },
  {
   "cell_type": "code",
   "execution_count": 107,
   "metadata": {},
   "outputs": [
    {
     "name": "stdout",
     "output_type": "stream",
     "text": [
      "(34431, 421)\n"
     ]
    }
   ],
   "source": [
    "print(X_test_clean.shape)\n",
    "X_withoutLNR = X_test_clean.drop(['LNR'], axis = 1)"
   ]
  },
  {
   "cell_type": "code",
   "execution_count": 108,
   "metadata": {},
   "outputs": [
    {
     "data": {
      "text/plain": [
       "(34431, 420)"
      ]
     },
     "execution_count": 108,
     "metadata": {},
     "output_type": "execute_result"
    }
   ],
   "source": [
    "X_withoutLNR.shape"
   ]
  },
  {
   "cell_type": "code",
   "execution_count": 109,
   "metadata": {},
   "outputs": [
    {
     "data": {
      "text/plain": [
       "Pipeline(memory=None,\n",
       "     steps=[('imp', Imputer(axis=0, copy=True, missing_values='NaN', strategy='mean', verbose=0)), ('scale', StandardScaler(copy=True, with_mean=True, with_std=True)), ('clf', GradientBoostingRegressor(alpha=0.9, criterion='friedman_mse', init=None,\n",
       "             learning_rate=0.25, loss='ls', max_depth=9...=30, subsample=1.0, tol=0.0001,\n",
       "             validation_fraction=0.1, verbose=0, warm_start=False))])"
      ]
     },
     "execution_count": 109,
     "metadata": {},
     "output_type": "execute_result"
    }
   ],
   "source": [
    "pipeline = create_pipeline(clf)\n",
    "pipeline.fit(X, y)"
   ]
  },
  {
   "cell_type": "code",
   "execution_count": 110,
   "metadata": {
    "scrolled": true
   },
   "outputs": [
    {
     "name": "stdout",
     "output_type": "stream",
     "text": [
      "    LNR  Response\n",
      "0  1754  0.031602\n",
      "1  1770  0.035004\n",
      "2  1465  0.003245\n",
      "3  1470  0.002833\n",
      "4  1478  0.001253\n"
     ]
    }
   ],
   "source": [
    "predictions = pipeline.predict(X_withoutLNR)\n",
    "predictions = pd.DataFrame({'Response':predictions})\n",
    "predictions['LNR'] = X_test_clean['LNR'].tolist()\n",
    "predictions = predictions[['LNR', 'Response']]\n",
    "print(predictions.head())"
   ]
  },
  {
   "cell_type": "code",
   "execution_count": 138,
   "metadata": {},
   "outputs": [
    {
     "data": {
      "text/plain": [
       "Text(0, 0.5, 'No. of participants')"
      ]
     },
     "execution_count": 138,
     "metadata": {},
     "output_type": "execute_result"
    },
    {
     "data": {
      "image/png": "[encoded data removed]",
      "text/plain": [
       "<Figure size 432x288 with 1 Axes>"
      ]
     },
     "metadata": {
      "needs_background": "light"
     },
     "output_type": "display_data"
    }
   ],
   "source": [
    "# plot a histogram to show the distribution of predicted probabilities\n",
    "plt.hist(predictions['Response'],bins=100)\n",
    "plt.xlabel('Predicted results')\n",
    "plt.ylabel('No. of participants')"
   ]
  },
  {
   "cell_type": "code",
   "execution_count": 137,
   "metadata": {},
   "outputs": [
    {
     "name": "stdout",
     "output_type": "stream",
     "text": [
      "10623\n",
      "23808\n"
     ]
    }
   ],
   "source": [
    "print(predictions[predictions['Response'] > 0.02].shape[0])\n",
    "print(predictions[predictions['Response'] < 0.02].shape[0])"
   ]
  },
  {
   "cell_type": "code",
   "execution_count": 111,
   "metadata": {},
   "outputs": [],
   "source": [
    "predictions.to_csv('predicted_results_for_Kaggle_compettion.csv')"
   ]
  }
 ],
 "metadata": {
  "kernelspec": {
   "display_name": "Python 3",
   "language": "python",
   "name": "python3"
  },
  "language_info": {
   "codemirror_mode": {
    "name": "ipython",
    "version": 3
   },
   "file_extension": ".py",
   "mimetype": "text/x-python",
   "name": "python",
   "nbconvert_exporter": "python",
   "pygments_lexer": "ipython3",
   "version": "3.7.3"
  }
 },
 "nbformat": 4,
 "nbformat_minor": 2
}
